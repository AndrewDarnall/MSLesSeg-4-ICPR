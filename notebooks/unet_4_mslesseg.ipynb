{
  "cells": [
    {
      "cell_type": "markdown",
      "id": "15b66f1a-394d-4b5b-ab06-ea2774295e3c",
      "metadata": {
        "id": "15b66f1a-394d-4b5b-ab06-ea2774295e3c"
      },
      "source": [
        "# U-Net 4 Multiple Sclerosis Lesion Segmentation - ICPR Challenge\n",
        "### Authors: Andrew R. Darnall, Giovanni Spadaro @ UniCT\n",
        "---\n",
        "\n",
        "## 🎯 Competition Objective: MS Lesion Segmentation\n",
        "\n",
        "The central goal of this competition is the **automatic segmentation of Multiple Sclerosis (MS) lesions** using **multi-modal MRI data** and **deep learning algorithms**.\n",
        "\n",
        "### 🧪 Provided Data\n",
        "Participants were given:\n",
        "- **MRI scans** in three modalities:\n",
        "  - **FLAIR**\n",
        "  - **T1-weighted (T1-w)**\n",
        "  - **T2-weighted (T2-w)**\n",
        "- **Ground-truth segmentation masks**, which are:\n",
        "  - **Binary masks**:  \n",
        "    - **White pixels** → MS lesion regions  \n",
        "    - **Black pixels** → Background\n",
        "\n",
        "### 🧠 Task Description\n",
        "- Participants could use **any or all modalities**, along with the ground-truth labels, to:\n",
        "  - Develop **deep learning-based models** for **automatic lesion segmentation**\n",
        "- MS lesions appear as **irregular clusters of pixels** with **high variability in size and shape**\n",
        "- These lesions are often **difficult to detect** via visual inspection, requiring **expert-level interpretation**\n",
        "\n",
        "The ultimate goal is to create **fully automated segmentation pipelines** that can robustly identify and delineate MS lesions from raw MRI data.\n"
      ]
    },
    {
      "cell_type": "markdown",
      "id": "919db79e-a3bd-4896-89a1-1d9e0017be10",
      "metadata": {
        "id": "919db79e-a3bd-4896-89a1-1d9e0017be10"
      },
      "source": [
        "## 🧠 MSLesSeg Dataset Overview\n",
        "\n",
        "As part of this competition, participants were provided with the **MSLesSeg Dataset** — a **comprehensively annotated, multi-modal MRI dataset** designed for advancing **lesion segmentation** research in medical imaging.\n",
        "\n",
        "### 📊 Dataset Composition\n",
        "- **Total Patients:** 75 (48 women, 27 men)  \n",
        "- **Age Range:** 18–59 years (Mean: 37 ± 10.3 years)  \n",
        "- **Longitudinal Timepoints:**  \n",
        "  - 50 patients with 1 timepoint  \n",
        "  - 15 patients with 2 timepoints  \n",
        "  - 5 patients with 3 timepoints  \n",
        "  - 5 patients with 4 timepoints  \n",
        "- **Time Interval Between Scans:** ~1.27 ± 0.62 years  \n",
        "- **Total MRI Series:** 115\n",
        "\n",
        "### 🧬 Imaging Modalities\n",
        "Each timepoint includes **three core MRI modalities**:\n",
        "- **T1-weighted (T1-w)**\n",
        "- **T2-weighted (T2-w)**\n",
        "- **FLAIR (Fluid-Attenuated Inversion Recovery)**\n",
        "\n",
        "### 🧑‍⚕️ Expert Annotation\n",
        "- Lesions were **manually annotated** by clinical experts.\n",
        "- **FLAIR sequences** were the primary reference for lesion labeling.\n",
        "- **T1-w and T2-w** scans supported **multi-contrast lesion characterization**.\n",
        "\n",
        "### 🧪 Dataset Splits\n",
        "- **Training Set:** 53 scans  \n",
        "- **Test Set:** 22 scans  \n",
        "\n",
        "### ✅ Ethical Compliance\n",
        "- **Ethical approval** was obtained from the corresponding Hospital Ethics Committee.\n",
        "- **Informed consent** was acquired from all participating patients.\n",
        "\n",
        "---"
      ]
    },
    {
      "cell_type": "markdown",
      "id": "252b3a0a-2f43-44f9-a898-28f1fa46b75a",
      "metadata": {
        "id": "252b3a0a-2f43-44f9-a898-28f1fa46b75a"
      },
      "source": [
        "# The Experiment\n",
        "\n",
        "Below is the code used for the:\n",
        "\n",
        "1) Preprocessing of the ***Brain MRI*** scans\n",
        "2) Definition of Dataset, Dataloader and LihgtningDataModule classes\n",
        "3) ***U-Net*** architecture\n",
        "4) ***PyTorch Lightning*** Trainer\n",
        "5) Training & Evaluation\n",
        "6) Model Exaplainability with the post-hoc method ***GradCam++***\n",
        "\n",
        "---"
      ]
    },
    {
      "cell_type": "markdown",
      "id": "13613113-a191-4399-9b42-9f6df49bc6e9",
      "metadata": {
        "id": "13613113-a191-4399-9b42-9f6df49bc6e9"
      },
      "source": [
        "## 🛠️ Preprocessing & Annotation Workflow\n",
        "\n",
        "The MSLesSeg dataset underwent a **comprehensive preprocessing pipeline** and **expert-driven manual annotation** to ensure **standardization** and **label quality** for downstream MS lesion segmentation tasks.\n",
        "\n",
        "### 🧼 Preprocessing Pipeline\n",
        "1. **Anonymization** of all MRI scans to protect patient privacy.\n",
        "2. **DICOM to NIfTI conversion**, leveraging NIfTI's wide adoption in neuroimaging.\n",
        "3. **Co-registration to the MNI152 1mm³ isotropic template** using **FLIRT** (FMRIB’s Linear Image Registration Tool), ensuring all scans are aligned to a **common anatomical space**.\n",
        "4. **Brain extraction** via **BET** (Brain Extraction Tool) to remove non-brain tissues and isolate relevant structures.\n",
        "\n",
        "This pipeline guarantees that all images are **standardized** and **aligned**, which is critical for **automated MS lesion segmentation algorithms**.\n",
        "\n",
        "---\n",
        "\n",
        "### 🖋️ Ground-Truth Annotation Protocol\n",
        "- Lesions were **manually segmented** on the **FLAIR modality** for each patient and timepoint.\n",
        "- **T1-w and T2-w** modalities were used to **cross-validate ambiguous cases**.\n",
        "- Annotation was conducted by a **trained junior rater**, under supervision of:\n",
        "  - A **senior neuroradiologist**\n",
        "  - A **senior neurologist**\n",
        "- Annotation sessions included:\n",
        "  - Multiple **training meetings** to establish a **consistent segmentation strategy**\n",
        "  - Use of **JIM9** — a high-end tool for **medical image segmentation and analysis**\n",
        "  - Regular **expert validation checkpoints** to ensure consistency and accuracy\n",
        "\n",
        "The final masks, reviewed and approved by senior experts, are considered the **gold-standard ground truth**.\n",
        "\n",
        "---\n",
        "\n",
        "## 🧾 Key Annotation Highlights\n",
        "- **Independent segmentation** for each patient/timepoint to avoid bias\n",
        "- Conducted on **FLAIR scans registered to MNI space**\n",
        "- **Validated ground-truth masks** ready for training and evaluation\n",
        "\n"
      ]
    },
    {
      "cell_type": "code",
      "execution_count": null,
      "id": "293bc032-fddb-44a7-8db3-cd8bdf0315e0",
      "metadata": {
        "id": "293bc032-fddb-44a7-8db3-cd8bdf0315e0"
      },
      "outputs": [],
      "source": [
        "import os\n",
        "import torch\n",
        "import nibabel as nib\n",
        "import numpy as np\n",
        "from scipy.ndimage import distance_transform_edt\n",
        "from skimage.transform import resize\n",
        "from pathlib import Path\n",
        "from tqdm.notebook import tqdm"
      ]
    },
    {
      "cell_type": "code",
      "execution_count": null,
      "id": "iRi6IiPyaHJz",
      "metadata": {
        "id": "iRi6IiPyaHJz",
        "colab": {
          "base_uri": "https://localhost:8080/",
          "height": 40
        },
        "outputId": "99889274-1bc7-49d2-9af9-81ea4d713ede"
      },
      "outputs": [
        {
          "output_type": "display_data",
          "data": {
            "text/plain": [
              "<IPython.core.display.HTML object>"
            ],
            "text/html": [
              "\n",
              "     <input type=\"file\" id=\"files-44ce423c-3ec4-46e0-b733-485ea98d33a0\" name=\"files[]\" multiple disabled\n",
              "        style=\"border:none\" />\n",
              "     <output id=\"result-44ce423c-3ec4-46e0-b733-485ea98d33a0\">\n",
              "      Upload widget is only available when the cell has been executed in the\n",
              "      current browser session. Please rerun this cell to enable.\n",
              "      </output>\n",
              "      <script>// Copyright 2017 Google LLC\n",
              "//\n",
              "// Licensed under the Apache License, Version 2.0 (the \"License\");\n",
              "// you may not use this file except in compliance with the License.\n",
              "// You may obtain a copy of the License at\n",
              "//\n",
              "//      http://www.apache.org/licenses/LICENSE-2.0\n",
              "//\n",
              "// Unless required by applicable law or agreed to in writing, software\n",
              "// distributed under the License is distributed on an \"AS IS\" BASIS,\n",
              "// WITHOUT WARRANTIES OR CONDITIONS OF ANY KIND, either express or implied.\n",
              "// See the License for the specific language governing permissions and\n",
              "// limitations under the License.\n",
              "\n",
              "/**\n",
              " * @fileoverview Helpers for google.colab Python module.\n",
              " */\n",
              "(function(scope) {\n",
              "function span(text, styleAttributes = {}) {\n",
              "  const element = document.createElement('span');\n",
              "  element.textContent = text;\n",
              "  for (const key of Object.keys(styleAttributes)) {\n",
              "    element.style[key] = styleAttributes[key];\n",
              "  }\n",
              "  return element;\n",
              "}\n",
              "\n",
              "// Max number of bytes which will be uploaded at a time.\n",
              "const MAX_PAYLOAD_SIZE = 100 * 1024;\n",
              "\n",
              "function _uploadFiles(inputId, outputId) {\n",
              "  const steps = uploadFilesStep(inputId, outputId);\n",
              "  const outputElement = document.getElementById(outputId);\n",
              "  // Cache steps on the outputElement to make it available for the next call\n",
              "  // to uploadFilesContinue from Python.\n",
              "  outputElement.steps = steps;\n",
              "\n",
              "  return _uploadFilesContinue(outputId);\n",
              "}\n",
              "\n",
              "// This is roughly an async generator (not supported in the browser yet),\n",
              "// where there are multiple asynchronous steps and the Python side is going\n",
              "// to poll for completion of each step.\n",
              "// This uses a Promise to block the python side on completion of each step,\n",
              "// then passes the result of the previous step as the input to the next step.\n",
              "function _uploadFilesContinue(outputId) {\n",
              "  const outputElement = document.getElementById(outputId);\n",
              "  const steps = outputElement.steps;\n",
              "\n",
              "  const next = steps.next(outputElement.lastPromiseValue);\n",
              "  return Promise.resolve(next.value.promise).then((value) => {\n",
              "    // Cache the last promise value to make it available to the next\n",
              "    // step of the generator.\n",
              "    outputElement.lastPromiseValue = value;\n",
              "    return next.value.response;\n",
              "  });\n",
              "}\n",
              "\n",
              "/**\n",
              " * Generator function which is called between each async step of the upload\n",
              " * process.\n",
              " * @param {string} inputId Element ID of the input file picker element.\n",
              " * @param {string} outputId Element ID of the output display.\n",
              " * @return {!Iterable<!Object>} Iterable of next steps.\n",
              " */\n",
              "function* uploadFilesStep(inputId, outputId) {\n",
              "  const inputElement = document.getElementById(inputId);\n",
              "  inputElement.disabled = false;\n",
              "\n",
              "  const outputElement = document.getElementById(outputId);\n",
              "  outputElement.innerHTML = '';\n",
              "\n",
              "  const pickedPromise = new Promise((resolve) => {\n",
              "    inputElement.addEventListener('change', (e) => {\n",
              "      resolve(e.target.files);\n",
              "    });\n",
              "  });\n",
              "\n",
              "  const cancel = document.createElement('button');\n",
              "  inputElement.parentElement.appendChild(cancel);\n",
              "  cancel.textContent = 'Cancel upload';\n",
              "  const cancelPromise = new Promise((resolve) => {\n",
              "    cancel.onclick = () => {\n",
              "      resolve(null);\n",
              "    };\n",
              "  });\n",
              "\n",
              "  // Wait for the user to pick the files.\n",
              "  const files = yield {\n",
              "    promise: Promise.race([pickedPromise, cancelPromise]),\n",
              "    response: {\n",
              "      action: 'starting',\n",
              "    }\n",
              "  };\n",
              "\n",
              "  cancel.remove();\n",
              "\n",
              "  // Disable the input element since further picks are not allowed.\n",
              "  inputElement.disabled = true;\n",
              "\n",
              "  if (!files) {\n",
              "    return {\n",
              "      response: {\n",
              "        action: 'complete',\n",
              "      }\n",
              "    };\n",
              "  }\n",
              "\n",
              "  for (const file of files) {\n",
              "    const li = document.createElement('li');\n",
              "    li.append(span(file.name, {fontWeight: 'bold'}));\n",
              "    li.append(span(\n",
              "        `(${file.type || 'n/a'}) - ${file.size} bytes, ` +\n",
              "        `last modified: ${\n",
              "            file.lastModifiedDate ? file.lastModifiedDate.toLocaleDateString() :\n",
              "                                    'n/a'} - `));\n",
              "    const percent = span('0% done');\n",
              "    li.appendChild(percent);\n",
              "\n",
              "    outputElement.appendChild(li);\n",
              "\n",
              "    const fileDataPromise = new Promise((resolve) => {\n",
              "      const reader = new FileReader();\n",
              "      reader.onload = (e) => {\n",
              "        resolve(e.target.result);\n",
              "      };\n",
              "      reader.readAsArrayBuffer(file);\n",
              "    });\n",
              "    // Wait for the data to be ready.\n",
              "    let fileData = yield {\n",
              "      promise: fileDataPromise,\n",
              "      response: {\n",
              "        action: 'continue',\n",
              "      }\n",
              "    };\n",
              "\n",
              "    // Use a chunked sending to avoid message size limits. See b/62115660.\n",
              "    let position = 0;\n",
              "    do {\n",
              "      const length = Math.min(fileData.byteLength - position, MAX_PAYLOAD_SIZE);\n",
              "      const chunk = new Uint8Array(fileData, position, length);\n",
              "      position += length;\n",
              "\n",
              "      const base64 = btoa(String.fromCharCode.apply(null, chunk));\n",
              "      yield {\n",
              "        response: {\n",
              "          action: 'append',\n",
              "          file: file.name,\n",
              "          data: base64,\n",
              "        },\n",
              "      };\n",
              "\n",
              "      let percentDone = fileData.byteLength === 0 ?\n",
              "          100 :\n",
              "          Math.round((position / fileData.byteLength) * 100);\n",
              "      percent.textContent = `${percentDone}% done`;\n",
              "\n",
              "    } while (position < fileData.byteLength);\n",
              "  }\n",
              "\n",
              "  // All done.\n",
              "  yield {\n",
              "    response: {\n",
              "      action: 'complete',\n",
              "    }\n",
              "  };\n",
              "}\n",
              "\n",
              "scope.google = scope.google || {};\n",
              "scope.google.colab = scope.google.colab || {};\n",
              "scope.google.colab._files = {\n",
              "  _uploadFiles,\n",
              "  _uploadFilesContinue,\n",
              "};\n",
              "})(self);\n",
              "</script> "
            ]
          },
          "metadata": {}
        }
      ],
      "source": [
        "# Obtain the serivce account key for the goolge cloud storage bucket\n",
        "from google.colab import files\n",
        "uploaded = files.upload()"
      ]
    },
    {
      "cell_type": "code",
      "execution_count": null,
      "id": "0oZXvVhuWNyO",
      "metadata": {
        "id": "0oZXvVhuWNyO"
      },
      "outputs": [],
      "source": [
        "# Attach the Google Cloud Storage Bucket to access the dataset\n",
        "import os\n",
        "from google.cloud import storage\n",
        "\n",
        "os.environ['GOOGLE_APPLICATION_CREDENTIALS'] = 'segformer4mslesseg-ce06635ff776.json'\n",
        "\n",
        "bucket_name = 'mslesseg_4_icpr_bucket'\n",
        "\n",
        "client = storage.Client()\n",
        "bucket = client.bucket(bucket_name)"
      ]
    },
    {
      "cell_type": "code",
      "execution_count": null,
      "id": "_RAR8KNhbRmA",
      "metadata": {
        "id": "_RAR8KNhbRmA",
        "colab": {
          "base_uri": "https://localhost:8080/"
        },
        "outputId": "d8e66ff1-dc8e-41b3-942d-0c6efe6b1ea4"
      },
      "outputs": [
        {
          "output_type": "stream",
          "name": "stdout",
          "text": [
            "Requirement already satisfied: gcsfs in /usr/local/lib/python3.11/dist-packages (2025.3.2)\n",
            "Requirement already satisfied: aiohttp!=4.0.0a0,!=4.0.0a1 in /usr/local/lib/python3.11/dist-packages (from gcsfs) (3.11.15)\n",
            "Requirement already satisfied: decorator>4.1.2 in /usr/local/lib/python3.11/dist-packages (from gcsfs) (4.4.2)\n",
            "Requirement already satisfied: fsspec==2025.3.2 in /usr/local/lib/python3.11/dist-packages (from gcsfs) (2025.3.2)\n",
            "Requirement already satisfied: google-auth>=1.2 in /usr/local/lib/python3.11/dist-packages (from gcsfs) (2.38.0)\n",
            "Requirement already satisfied: google-auth-oauthlib in /usr/local/lib/python3.11/dist-packages (from gcsfs) (1.2.2)\n",
            "Requirement already satisfied: google-cloud-storage in /usr/local/lib/python3.11/dist-packages (from gcsfs) (2.19.0)\n",
            "Requirement already satisfied: requests in /usr/local/lib/python3.11/dist-packages (from gcsfs) (2.32.3)\n",
            "Requirement already satisfied: aiohappyeyeballs>=2.3.0 in /usr/local/lib/python3.11/dist-packages (from aiohttp!=4.0.0a0,!=4.0.0a1->gcsfs) (2.6.1)\n",
            "Requirement already satisfied: aiosignal>=1.1.2 in /usr/local/lib/python3.11/dist-packages (from aiohttp!=4.0.0a0,!=4.0.0a1->gcsfs) (1.3.2)\n",
            "Requirement already satisfied: attrs>=17.3.0 in /usr/local/lib/python3.11/dist-packages (from aiohttp!=4.0.0a0,!=4.0.0a1->gcsfs) (25.3.0)\n",
            "Requirement already satisfied: frozenlist>=1.1.1 in /usr/local/lib/python3.11/dist-packages (from aiohttp!=4.0.0a0,!=4.0.0a1->gcsfs) (1.6.0)\n",
            "Requirement already satisfied: multidict<7.0,>=4.5 in /usr/local/lib/python3.11/dist-packages (from aiohttp!=4.0.0a0,!=4.0.0a1->gcsfs) (6.4.3)\n",
            "Requirement already satisfied: propcache>=0.2.0 in /usr/local/lib/python3.11/dist-packages (from aiohttp!=4.0.0a0,!=4.0.0a1->gcsfs) (0.3.1)\n",
            "Requirement already satisfied: yarl<2.0,>=1.17.0 in /usr/local/lib/python3.11/dist-packages (from aiohttp!=4.0.0a0,!=4.0.0a1->gcsfs) (1.20.0)\n",
            "Requirement already satisfied: cachetools<6.0,>=2.0.0 in /usr/local/lib/python3.11/dist-packages (from google-auth>=1.2->gcsfs) (5.5.2)\n",
            "Requirement already satisfied: pyasn1-modules>=0.2.1 in /usr/local/lib/python3.11/dist-packages (from google-auth>=1.2->gcsfs) (0.4.2)\n",
            "Requirement already satisfied: rsa<5,>=3.1.4 in /usr/local/lib/python3.11/dist-packages (from google-auth>=1.2->gcsfs) (4.9.1)\n",
            "Requirement already satisfied: requests-oauthlib>=0.7.0 in /usr/local/lib/python3.11/dist-packages (from google-auth-oauthlib->gcsfs) (2.0.0)\n",
            "Requirement already satisfied: google-api-core<3.0.0dev,>=2.15.0 in /usr/local/lib/python3.11/dist-packages (from google-cloud-storage->gcsfs) (2.24.2)\n",
            "Requirement already satisfied: google-cloud-core<3.0dev,>=2.3.0 in /usr/local/lib/python3.11/dist-packages (from google-cloud-storage->gcsfs) (2.4.3)\n",
            "Requirement already satisfied: google-resumable-media>=2.7.2 in /usr/local/lib/python3.11/dist-packages (from google-cloud-storage->gcsfs) (2.7.2)\n",
            "Requirement already satisfied: google-crc32c<2.0dev,>=1.0 in /usr/local/lib/python3.11/dist-packages (from google-cloud-storage->gcsfs) (1.7.1)\n",
            "Requirement already satisfied: charset-normalizer<4,>=2 in /usr/local/lib/python3.11/dist-packages (from requests->gcsfs) (3.4.1)\n",
            "Requirement already satisfied: idna<4,>=2.5 in /usr/local/lib/python3.11/dist-packages (from requests->gcsfs) (3.10)\n",
            "Requirement already satisfied: urllib3<3,>=1.21.1 in /usr/local/lib/python3.11/dist-packages (from requests->gcsfs) (2.4.0)\n",
            "Requirement already satisfied: certifi>=2017.4.17 in /usr/local/lib/python3.11/dist-packages (from requests->gcsfs) (2025.4.26)\n",
            "Requirement already satisfied: googleapis-common-protos<2.0.0,>=1.56.2 in /usr/local/lib/python3.11/dist-packages (from google-api-core<3.0.0dev,>=2.15.0->google-cloud-storage->gcsfs) (1.70.0)\n",
            "Requirement already satisfied: protobuf!=3.20.0,!=3.20.1,!=4.21.0,!=4.21.1,!=4.21.2,!=4.21.3,!=4.21.4,!=4.21.5,<7.0.0,>=3.19.5 in /usr/local/lib/python3.11/dist-packages (from google-api-core<3.0.0dev,>=2.15.0->google-cloud-storage->gcsfs) (5.29.4)\n",
            "Requirement already satisfied: proto-plus<2.0.0,>=1.22.3 in /usr/local/lib/python3.11/dist-packages (from google-api-core<3.0.0dev,>=2.15.0->google-cloud-storage->gcsfs) (1.26.1)\n",
            "Requirement already satisfied: pyasn1<0.7.0,>=0.6.1 in /usr/local/lib/python3.11/dist-packages (from pyasn1-modules>=0.2.1->google-auth>=1.2->gcsfs) (0.6.1)\n",
            "Requirement already satisfied: oauthlib>=3.0.0 in /usr/local/lib/python3.11/dist-packages (from requests-oauthlib>=0.7.0->google-auth-oauthlib->gcsfs) (3.2.2)\n"
          ]
        }
      ],
      "source": [
        "# Make sure that gcsfs is installed\n",
        "!pip install gcsfs"
      ]
    },
    {
      "cell_type": "code",
      "execution_count": null,
      "id": "ShzVzMsZefo6",
      "metadata": {
        "id": "ShzVzMsZefo6",
        "colab": {
          "base_uri": "https://localhost:8080/"
        },
        "outputId": "fee7308b-d8ab-469a-f099-e22f2651e5bf"
      },
      "outputs": [
        {
          "output_type": "stream",
          "name": "stdout",
          "text": [
            "Requirement already satisfied: pytorch-lightning in /usr/local/lib/python3.11/dist-packages (2.5.1.post0)\n",
            "Requirement already satisfied: torch>=2.1.0 in /usr/local/lib/python3.11/dist-packages (from pytorch-lightning) (2.6.0+cu124)\n",
            "Requirement already satisfied: tqdm>=4.57.0 in /usr/local/lib/python3.11/dist-packages (from pytorch-lightning) (4.67.1)\n",
            "Requirement already satisfied: PyYAML>=5.4 in /usr/local/lib/python3.11/dist-packages (from pytorch-lightning) (6.0.2)\n",
            "Requirement already satisfied: fsspec>=2022.5.0 in /usr/local/lib/python3.11/dist-packages (from fsspec[http]>=2022.5.0->pytorch-lightning) (2025.3.2)\n",
            "Requirement already satisfied: torchmetrics>=0.7.0 in /usr/local/lib/python3.11/dist-packages (from pytorch-lightning) (1.7.1)\n",
            "Requirement already satisfied: packaging>=20.0 in /usr/local/lib/python3.11/dist-packages (from pytorch-lightning) (24.2)\n",
            "Requirement already satisfied: typing-extensions>=4.4.0 in /usr/local/lib/python3.11/dist-packages (from pytorch-lightning) (4.13.2)\n",
            "Requirement already satisfied: lightning-utilities>=0.10.0 in /usr/local/lib/python3.11/dist-packages (from pytorch-lightning) (0.14.3)\n",
            "Requirement already satisfied: aiohttp!=4.0.0a0,!=4.0.0a1 in /usr/local/lib/python3.11/dist-packages (from fsspec[http]>=2022.5.0->pytorch-lightning) (3.11.15)\n",
            "Requirement already satisfied: setuptools in /usr/local/lib/python3.11/dist-packages (from lightning-utilities>=0.10.0->pytorch-lightning) (75.2.0)\n",
            "Requirement already satisfied: filelock in /usr/local/lib/python3.11/dist-packages (from torch>=2.1.0->pytorch-lightning) (3.18.0)\n",
            "Requirement already satisfied: networkx in /usr/local/lib/python3.11/dist-packages (from torch>=2.1.0->pytorch-lightning) (3.4.2)\n",
            "Requirement already satisfied: jinja2 in /usr/local/lib/python3.11/dist-packages (from torch>=2.1.0->pytorch-lightning) (3.1.6)\n",
            "Requirement already satisfied: nvidia-cuda-nvrtc-cu12==12.4.127 in /usr/local/lib/python3.11/dist-packages (from torch>=2.1.0->pytorch-lightning) (12.4.127)\n",
            "Requirement already satisfied: nvidia-cuda-runtime-cu12==12.4.127 in /usr/local/lib/python3.11/dist-packages (from torch>=2.1.0->pytorch-lightning) (12.4.127)\n",
            "Requirement already satisfied: nvidia-cuda-cupti-cu12==12.4.127 in /usr/local/lib/python3.11/dist-packages (from torch>=2.1.0->pytorch-lightning) (12.4.127)\n",
            "Requirement already satisfied: nvidia-cudnn-cu12==9.1.0.70 in /usr/local/lib/python3.11/dist-packages (from torch>=2.1.0->pytorch-lightning) (9.1.0.70)\n",
            "Requirement already satisfied: nvidia-cublas-cu12==12.4.5.8 in /usr/local/lib/python3.11/dist-packages (from torch>=2.1.0->pytorch-lightning) (12.4.5.8)\n",
            "Requirement already satisfied: nvidia-cufft-cu12==11.2.1.3 in /usr/local/lib/python3.11/dist-packages (from torch>=2.1.0->pytorch-lightning) (11.2.1.3)\n",
            "Requirement already satisfied: nvidia-curand-cu12==10.3.5.147 in /usr/local/lib/python3.11/dist-packages (from torch>=2.1.0->pytorch-lightning) (10.3.5.147)\n",
            "Requirement already satisfied: nvidia-cusolver-cu12==11.6.1.9 in /usr/local/lib/python3.11/dist-packages (from torch>=2.1.0->pytorch-lightning) (11.6.1.9)\n",
            "Requirement already satisfied: nvidia-cusparse-cu12==12.3.1.170 in /usr/local/lib/python3.11/dist-packages (from torch>=2.1.0->pytorch-lightning) (12.3.1.170)\n",
            "Requirement already satisfied: nvidia-cusparselt-cu12==0.6.2 in /usr/local/lib/python3.11/dist-packages (from torch>=2.1.0->pytorch-lightning) (0.6.2)\n",
            "Requirement already satisfied: nvidia-nccl-cu12==2.21.5 in /usr/local/lib/python3.11/dist-packages (from torch>=2.1.0->pytorch-lightning) (2.21.5)\n",
            "Requirement already satisfied: nvidia-nvtx-cu12==12.4.127 in /usr/local/lib/python3.11/dist-packages (from torch>=2.1.0->pytorch-lightning) (12.4.127)\n",
            "Requirement already satisfied: nvidia-nvjitlink-cu12==12.4.127 in /usr/local/lib/python3.11/dist-packages (from torch>=2.1.0->pytorch-lightning) (12.4.127)\n",
            "Requirement already satisfied: triton==3.2.0 in /usr/local/lib/python3.11/dist-packages (from torch>=2.1.0->pytorch-lightning) (3.2.0)\n",
            "Requirement already satisfied: sympy==1.13.1 in /usr/local/lib/python3.11/dist-packages (from torch>=2.1.0->pytorch-lightning) (1.13.1)\n",
            "Requirement already satisfied: mpmath<1.4,>=1.1.0 in /usr/local/lib/python3.11/dist-packages (from sympy==1.13.1->torch>=2.1.0->pytorch-lightning) (1.3.0)\n",
            "Requirement already satisfied: numpy>1.20.0 in /usr/local/lib/python3.11/dist-packages (from torchmetrics>=0.7.0->pytorch-lightning) (2.0.2)\n",
            "Requirement already satisfied: aiohappyeyeballs>=2.3.0 in /usr/local/lib/python3.11/dist-packages (from aiohttp!=4.0.0a0,!=4.0.0a1->fsspec[http]>=2022.5.0->pytorch-lightning) (2.6.1)\n",
            "Requirement already satisfied: aiosignal>=1.1.2 in /usr/local/lib/python3.11/dist-packages (from aiohttp!=4.0.0a0,!=4.0.0a1->fsspec[http]>=2022.5.0->pytorch-lightning) (1.3.2)\n",
            "Requirement already satisfied: attrs>=17.3.0 in /usr/local/lib/python3.11/dist-packages (from aiohttp!=4.0.0a0,!=4.0.0a1->fsspec[http]>=2022.5.0->pytorch-lightning) (25.3.0)\n",
            "Requirement already satisfied: frozenlist>=1.1.1 in /usr/local/lib/python3.11/dist-packages (from aiohttp!=4.0.0a0,!=4.0.0a1->fsspec[http]>=2022.5.0->pytorch-lightning) (1.6.0)\n",
            "Requirement already satisfied: multidict<7.0,>=4.5 in /usr/local/lib/python3.11/dist-packages (from aiohttp!=4.0.0a0,!=4.0.0a1->fsspec[http]>=2022.5.0->pytorch-lightning) (6.4.3)\n",
            "Requirement already satisfied: propcache>=0.2.0 in /usr/local/lib/python3.11/dist-packages (from aiohttp!=4.0.0a0,!=4.0.0a1->fsspec[http]>=2022.5.0->pytorch-lightning) (0.3.1)\n",
            "Requirement already satisfied: yarl<2.0,>=1.17.0 in /usr/local/lib/python3.11/dist-packages (from aiohttp!=4.0.0a0,!=4.0.0a1->fsspec[http]>=2022.5.0->pytorch-lightning) (1.20.0)\n",
            "Requirement already satisfied: MarkupSafe>=2.0 in /usr/local/lib/python3.11/dist-packages (from jinja2->torch>=2.1.0->pytorch-lightning) (3.0.2)\n",
            "Requirement already satisfied: idna>=2.0 in /usr/local/lib/python3.11/dist-packages (from yarl<2.0,>=1.17.0->aiohttp!=4.0.0a0,!=4.0.0a1->fsspec[http]>=2022.5.0->pytorch-lightning) (3.10)\n",
            "Requirement already satisfied: torchinfo in /usr/local/lib/python3.11/dist-packages (1.8.0)\n",
            "Requirement already satisfied: grad-cam in /usr/local/lib/python3.11/dist-packages (1.5.5)\n",
            "Requirement already satisfied: numpy in /usr/local/lib/python3.11/dist-packages (from grad-cam) (2.0.2)\n",
            "Requirement already satisfied: Pillow in /usr/local/lib/python3.11/dist-packages (from grad-cam) (11.2.1)\n",
            "Requirement already satisfied: torch>=1.7.1 in /usr/local/lib/python3.11/dist-packages (from grad-cam) (2.6.0+cu124)\n",
            "Requirement already satisfied: torchvision>=0.8.2 in /usr/local/lib/python3.11/dist-packages (from grad-cam) (0.21.0+cu124)\n",
            "Requirement already satisfied: ttach in /usr/local/lib/python3.11/dist-packages (from grad-cam) (0.0.3)\n",
            "Requirement already satisfied: tqdm in /usr/local/lib/python3.11/dist-packages (from grad-cam) (4.67.1)\n",
            "Requirement already satisfied: opencv-python in /usr/local/lib/python3.11/dist-packages (from grad-cam) (4.11.0.86)\n",
            "Requirement already satisfied: matplotlib in /usr/local/lib/python3.11/dist-packages (from grad-cam) (3.10.0)\n",
            "Requirement already satisfied: scikit-learn in /usr/local/lib/python3.11/dist-packages (from grad-cam) (1.6.1)\n",
            "Requirement already satisfied: filelock in /usr/local/lib/python3.11/dist-packages (from torch>=1.7.1->grad-cam) (3.18.0)\n",
            "Requirement already satisfied: typing-extensions>=4.10.0 in /usr/local/lib/python3.11/dist-packages (from torch>=1.7.1->grad-cam) (4.13.2)\n",
            "Requirement already satisfied: networkx in /usr/local/lib/python3.11/dist-packages (from torch>=1.7.1->grad-cam) (3.4.2)\n",
            "Requirement already satisfied: jinja2 in /usr/local/lib/python3.11/dist-packages (from torch>=1.7.1->grad-cam) (3.1.6)\n",
            "Requirement already satisfied: fsspec in /usr/local/lib/python3.11/dist-packages (from torch>=1.7.1->grad-cam) (2025.3.2)\n",
            "Requirement already satisfied: nvidia-cuda-nvrtc-cu12==12.4.127 in /usr/local/lib/python3.11/dist-packages (from torch>=1.7.1->grad-cam) (12.4.127)\n",
            "Requirement already satisfied: nvidia-cuda-runtime-cu12==12.4.127 in /usr/local/lib/python3.11/dist-packages (from torch>=1.7.1->grad-cam) (12.4.127)\n",
            "Requirement already satisfied: nvidia-cuda-cupti-cu12==12.4.127 in /usr/local/lib/python3.11/dist-packages (from torch>=1.7.1->grad-cam) (12.4.127)\n",
            "Requirement already satisfied: nvidia-cudnn-cu12==9.1.0.70 in /usr/local/lib/python3.11/dist-packages (from torch>=1.7.1->grad-cam) (9.1.0.70)\n",
            "Requirement already satisfied: nvidia-cublas-cu12==12.4.5.8 in /usr/local/lib/python3.11/dist-packages (from torch>=1.7.1->grad-cam) (12.4.5.8)\n",
            "Requirement already satisfied: nvidia-cufft-cu12==11.2.1.3 in /usr/local/lib/python3.11/dist-packages (from torch>=1.7.1->grad-cam) (11.2.1.3)\n",
            "Requirement already satisfied: nvidia-curand-cu12==10.3.5.147 in /usr/local/lib/python3.11/dist-packages (from torch>=1.7.1->grad-cam) (10.3.5.147)\n",
            "Requirement already satisfied: nvidia-cusolver-cu12==11.6.1.9 in /usr/local/lib/python3.11/dist-packages (from torch>=1.7.1->grad-cam) (11.6.1.9)\n",
            "Requirement already satisfied: nvidia-cusparse-cu12==12.3.1.170 in /usr/local/lib/python3.11/dist-packages (from torch>=1.7.1->grad-cam) (12.3.1.170)\n",
            "Requirement already satisfied: nvidia-cusparselt-cu12==0.6.2 in /usr/local/lib/python3.11/dist-packages (from torch>=1.7.1->grad-cam) (0.6.2)\n",
            "Requirement already satisfied: nvidia-nccl-cu12==2.21.5 in /usr/local/lib/python3.11/dist-packages (from torch>=1.7.1->grad-cam) (2.21.5)\n",
            "Requirement already satisfied: nvidia-nvtx-cu12==12.4.127 in /usr/local/lib/python3.11/dist-packages (from torch>=1.7.1->grad-cam) (12.4.127)\n",
            "Requirement already satisfied: nvidia-nvjitlink-cu12==12.4.127 in /usr/local/lib/python3.11/dist-packages (from torch>=1.7.1->grad-cam) (12.4.127)\n",
            "Requirement already satisfied: triton==3.2.0 in /usr/local/lib/python3.11/dist-packages (from torch>=1.7.1->grad-cam) (3.2.0)\n",
            "Requirement already satisfied: sympy==1.13.1 in /usr/local/lib/python3.11/dist-packages (from torch>=1.7.1->grad-cam) (1.13.1)\n",
            "Requirement already satisfied: mpmath<1.4,>=1.1.0 in /usr/local/lib/python3.11/dist-packages (from sympy==1.13.1->torch>=1.7.1->grad-cam) (1.3.0)\n",
            "Requirement already satisfied: contourpy>=1.0.1 in /usr/local/lib/python3.11/dist-packages (from matplotlib->grad-cam) (1.3.2)\n",
            "Requirement already satisfied: cycler>=0.10 in /usr/local/lib/python3.11/dist-packages (from matplotlib->grad-cam) (0.12.1)\n",
            "Requirement already satisfied: fonttools>=4.22.0 in /usr/local/lib/python3.11/dist-packages (from matplotlib->grad-cam) (4.57.0)\n",
            "Requirement already satisfied: kiwisolver>=1.3.1 in /usr/local/lib/python3.11/dist-packages (from matplotlib->grad-cam) (1.4.8)\n",
            "Requirement already satisfied: packaging>=20.0 in /usr/local/lib/python3.11/dist-packages (from matplotlib->grad-cam) (24.2)\n",
            "Requirement already satisfied: pyparsing>=2.3.1 in /usr/local/lib/python3.11/dist-packages (from matplotlib->grad-cam) (3.2.3)\n",
            "Requirement already satisfied: python-dateutil>=2.7 in /usr/local/lib/python3.11/dist-packages (from matplotlib->grad-cam) (2.9.0.post0)\n",
            "Requirement already satisfied: scipy>=1.6.0 in /usr/local/lib/python3.11/dist-packages (from scikit-learn->grad-cam) (1.15.2)\n",
            "Requirement already satisfied: joblib>=1.2.0 in /usr/local/lib/python3.11/dist-packages (from scikit-learn->grad-cam) (1.4.2)\n",
            "Requirement already satisfied: threadpoolctl>=3.1.0 in /usr/local/lib/python3.11/dist-packages (from scikit-learn->grad-cam) (3.6.0)\n",
            "Requirement already satisfied: six>=1.5 in /usr/local/lib/python3.11/dist-packages (from python-dateutil>=2.7->matplotlib->grad-cam) (1.17.0)\n",
            "Requirement already satisfied: MarkupSafe>=2.0 in /usr/local/lib/python3.11/dist-packages (from jinja2->torch>=1.7.1->grad-cam) (3.0.2)\n"
          ]
        }
      ],
      "source": [
        "# Install other rquirements that colab likely does not have\n",
        "!pip install pytorch-lightning\n",
        "!pip install torchinfo\n",
        "!pip install grad-cam"
      ]
    },
    {
      "cell_type": "code",
      "execution_count": null,
      "id": "2027badd-35e2-42ac-b423-e85e9e99d091",
      "metadata": {
        "id": "2027badd-35e2-42ac-b423-e85e9e99d091"
      },
      "outputs": [],
      "source": [
        "# Helper function to load the nifti files\n",
        "import gcsfs\n",
        "\n",
        "fs = gcsfs.GCSFileSystem()\n",
        "\n",
        "def load_nifti(file_path):\n",
        "    with fs.open(file_path, 'rb') as f:\n",
        "        return nib.load(f).get_fdata()"
      ]
    },
    {
      "cell_type": "code",
      "execution_count": null,
      "id": "a3515529-ff9f-4f47-935b-e09a357f22f8",
      "metadata": {
        "id": "a3515529-ff9f-4f47-935b-e09a357f22f8"
      },
      "outputs": [],
      "source": [
        "def preprocess_case(input_dir, output_dir, case_id):\n",
        "    flair = load_nifti(os.path.join(input_dir, f\"{case_id}_flair.nii.gz\"))\n",
        "    t1 = load_nifti(os.path.join(input_dir, f\"{case_id}_t1.nii.gz\"))\n",
        "    t2 = load_nifti(os.path.join(input_dir, f\"{case_id}_t2.nii.gz\"))\n",
        "    seg = load_nifti(os.path.join(input_dir, f\"{case_id}_seg.nii.gz\")).astype(np.uint8)\n",
        "\n",
        "    # Stack and convert to tensors\n",
        "    stacked = np.stack([flair, t1, t2], axis=0)\n",
        "    input_tensor = torch.tensor(stacked, dtype=torch.float32)\n",
        "    seg_tensor = torch.tensor(seg, dtype=torch.uint8).unsqueeze(0)\n",
        "\n",
        "    # Save output tensors to GCS\n",
        "    output_case_dir = os.path.join(output_dir, case_id)\n",
        "    fs.makedirs(output_case_dir, exist_ok=True)\n",
        "\n",
        "    with fs.open(os.path.join(output_case_dir, \"input_tensor.pt\"), 'wb') as f:\n",
        "        torch.save(input_tensor, f)\n",
        "    with fs.open(os.path.join(output_case_dir, \"seg_mask.pt\"), 'wb') as f:\n",
        "        torch.save(seg_tensor, f)"
      ]
    },
    {
      "cell_type": "code",
      "execution_count": null,
      "id": "7ac6e5ec-ad39-42e9-8a62-c1140398e798",
      "metadata": {
        "id": "7ac6e5ec-ad39-42e9-8a62-c1140398e798"
      },
      "outputs": [],
      "source": [
        "from pathlib import Path\n",
        "from tqdm import tqdm\n",
        "\n",
        "def run_preprocessing(root_path, output_path):\n",
        "\n",
        "    all_files = fs.ls(root_path)\n",
        "\n",
        "    for case_dir in tqdm(all_files):\n",
        "        case_id = case_dir.rstrip('/').split('/')[-1]\n",
        "        output_case_path = os.path.join(output_path, case_id)\n",
        "\n",
        "        if fs.exists(os.path.join(output_case_path, \"input_tensor.pt\")):\n",
        "            print(f\"✅ Skipping {case_id}, already processed.\")\n",
        "            continue\n",
        "\n",
        "        try:\n",
        "            preprocess_case(case_dir, output_path, case_id)\n",
        "        except Exception as e:\n",
        "            print(f\"❌ Failed on {case_id}: {e}\")"
      ]
    },
    {
      "cell_type": "code",
      "execution_count": null,
      "id": "4e6a0eb7-7da6-400d-9446-97773e286c14",
      "metadata": {
        "id": "4e6a0eb7-7da6-400d-9446-97773e286c14",
        "colab": {
          "base_uri": "https://localhost:8080/"
        },
        "outputId": "762b1633-e89a-4ee4-fc66-e4eb68345ff4"
      },
      "outputs": [
        {
          "output_type": "stream",
          "name": "stderr",
          "text": [
            "  1%|          | 1/93 [00:00<00:21,  4.20it/s]"
          ]
        },
        {
          "output_type": "stream",
          "name": "stdout",
          "text": [
            "✅ Skipping MSLS_000, already processed.\n"
          ]
        },
        {
          "output_type": "stream",
          "name": "stderr",
          "text": [
            "\r  2%|▏         | 2/93 [00:01<01:21,  1.12it/s]"
          ]
        },
        {
          "output_type": "stream",
          "name": "stdout",
          "text": [
            "✅ Skipping MSLS_001, already processed.\n"
          ]
        },
        {
          "output_type": "stream",
          "name": "stderr",
          "text": [
            "\r  3%|▎         | 3/93 [00:01<00:53,  1.67it/s]"
          ]
        },
        {
          "output_type": "stream",
          "name": "stdout",
          "text": [
            "✅ Skipping MSLS_002, already processed.\n"
          ]
        },
        {
          "output_type": "stream",
          "name": "stderr",
          "text": [
            "\r  4%|▍         | 4/93 [00:03<01:18,  1.13it/s]"
          ]
        },
        {
          "output_type": "stream",
          "name": "stdout",
          "text": [
            "✅ Skipping MSLS_003, already processed.\n"
          ]
        },
        {
          "output_type": "stream",
          "name": "stderr",
          "text": [
            "\r  5%|▌         | 5/93 [00:03<00:59,  1.49it/s]"
          ]
        },
        {
          "output_type": "stream",
          "name": "stdout",
          "text": [
            "✅ Skipping MSLS_004, already processed.\n"
          ]
        },
        {
          "output_type": "stream",
          "name": "stderr",
          "text": [
            "\r  6%|▋         | 6/93 [00:04<01:17,  1.12it/s]"
          ]
        },
        {
          "output_type": "stream",
          "name": "stdout",
          "text": [
            "✅ Skipping MSLS_005, already processed.\n"
          ]
        },
        {
          "output_type": "stream",
          "name": "stderr",
          "text": [
            "\r  8%|▊         | 7/93 [00:05<00:58,  1.46it/s]"
          ]
        },
        {
          "output_type": "stream",
          "name": "stdout",
          "text": [
            "✅ Skipping MSLS_006, already processed.\n"
          ]
        },
        {
          "output_type": "stream",
          "name": "stderr",
          "text": [
            "\r  9%|▊         | 8/93 [00:06<01:15,  1.12it/s]"
          ]
        },
        {
          "output_type": "stream",
          "name": "stdout",
          "text": [
            "✅ Skipping MSLS_007, already processed.\n"
          ]
        },
        {
          "output_type": "stream",
          "name": "stderr",
          "text": [
            "\r 10%|▉         | 9/93 [00:06<00:58,  1.45it/s]"
          ]
        },
        {
          "output_type": "stream",
          "name": "stdout",
          "text": [
            "✅ Skipping MSLS_008, already processed.\n"
          ]
        },
        {
          "output_type": "stream",
          "name": "stderr",
          "text": [
            "\r 11%|█         | 10/93 [00:07<01:13,  1.12it/s]"
          ]
        },
        {
          "output_type": "stream",
          "name": "stdout",
          "text": [
            "✅ Skipping MSLS_009, already processed.\n"
          ]
        },
        {
          "output_type": "stream",
          "name": "stderr",
          "text": [
            "\r 12%|█▏        | 11/93 [00:08<00:56,  1.44it/s]"
          ]
        },
        {
          "output_type": "stream",
          "name": "stdout",
          "text": [
            "✅ Skipping MSLS_010, already processed.\n"
          ]
        },
        {
          "output_type": "stream",
          "name": "stderr",
          "text": [
            "\r 13%|█▎        | 12/93 [00:09<01:11,  1.14it/s]"
          ]
        },
        {
          "output_type": "stream",
          "name": "stdout",
          "text": [
            "✅ Skipping MSLS_011, already processed.\n"
          ]
        },
        {
          "output_type": "stream",
          "name": "stderr",
          "text": [
            "\r 14%|█▍        | 13/93 [00:09<00:56,  1.42it/s]"
          ]
        },
        {
          "output_type": "stream",
          "name": "stdout",
          "text": [
            "✅ Skipping MSLS_012, already processed.\n"
          ]
        },
        {
          "output_type": "stream",
          "name": "stderr",
          "text": [
            "\r 15%|█▌        | 14/93 [00:11<01:09,  1.14it/s]"
          ]
        },
        {
          "output_type": "stream",
          "name": "stdout",
          "text": [
            "✅ Skipping MSLS_013, already processed.\n"
          ]
        },
        {
          "output_type": "stream",
          "name": "stderr",
          "text": [
            "\r 16%|█▌        | 15/93 [00:11<00:55,  1.40it/s]"
          ]
        },
        {
          "output_type": "stream",
          "name": "stdout",
          "text": [
            "✅ Skipping MSLS_014, already processed.\n"
          ]
        },
        {
          "output_type": "stream",
          "name": "stderr",
          "text": [
            "\r 17%|█▋        | 16/93 [00:12<01:07,  1.13it/s]"
          ]
        },
        {
          "output_type": "stream",
          "name": "stdout",
          "text": [
            "✅ Skipping MSLS_015, already processed.\n"
          ]
        },
        {
          "output_type": "stream",
          "name": "stderr",
          "text": [
            "\r 18%|█▊        | 17/93 [00:13<00:53,  1.41it/s]"
          ]
        },
        {
          "output_type": "stream",
          "name": "stdout",
          "text": [
            "✅ Skipping MSLS_016, already processed.\n"
          ]
        },
        {
          "output_type": "stream",
          "name": "stderr",
          "text": [
            "\r 19%|█▉        | 18/93 [00:14<01:05,  1.14it/s]"
          ]
        },
        {
          "output_type": "stream",
          "name": "stdout",
          "text": [
            "✅ Skipping MSLS_017, already processed.\n"
          ]
        },
        {
          "output_type": "stream",
          "name": "stderr",
          "text": [
            "\r 20%|██        | 19/93 [00:14<00:52,  1.41it/s]"
          ]
        },
        {
          "output_type": "stream",
          "name": "stdout",
          "text": [
            "✅ Skipping MSLS_018, already processed.\n"
          ]
        },
        {
          "output_type": "stream",
          "name": "stderr",
          "text": [
            "\r 22%|██▏       | 20/93 [00:15<01:03,  1.14it/s]"
          ]
        },
        {
          "output_type": "stream",
          "name": "stdout",
          "text": [
            "✅ Skipping MSLS_019, already processed.\n"
          ]
        },
        {
          "output_type": "stream",
          "name": "stderr",
          "text": [
            "\r 23%|██▎       | 21/93 [00:16<00:50,  1.42it/s]"
          ]
        },
        {
          "output_type": "stream",
          "name": "stdout",
          "text": [
            "✅ Skipping MSLS_020, already processed.\n"
          ]
        },
        {
          "output_type": "stream",
          "name": "stderr",
          "text": [
            "\r 24%|██▎       | 22/93 [00:17<01:02,  1.14it/s]"
          ]
        },
        {
          "output_type": "stream",
          "name": "stdout",
          "text": [
            "✅ Skipping MSLS_021, already processed.\n"
          ]
        },
        {
          "output_type": "stream",
          "name": "stderr",
          "text": [
            "\r 25%|██▍       | 23/93 [00:17<00:49,  1.41it/s]"
          ]
        },
        {
          "output_type": "stream",
          "name": "stdout",
          "text": [
            "✅ Skipping MSLS_022, already processed.\n"
          ]
        },
        {
          "output_type": "stream",
          "name": "stderr",
          "text": [
            "\r 26%|██▌       | 24/93 [00:19<01:00,  1.14it/s]"
          ]
        },
        {
          "output_type": "stream",
          "name": "stdout",
          "text": [
            "✅ Skipping MSLS_023, already processed.\n"
          ]
        },
        {
          "output_type": "stream",
          "name": "stderr",
          "text": [
            "\r 27%|██▋       | 25/93 [00:19<00:47,  1.43it/s]"
          ]
        },
        {
          "output_type": "stream",
          "name": "stdout",
          "text": [
            "✅ Skipping MSLS_024, already processed.\n"
          ]
        },
        {
          "output_type": "stream",
          "name": "stderr",
          "text": [
            "\r 28%|██▊       | 26/93 [00:20<00:58,  1.14it/s]"
          ]
        },
        {
          "output_type": "stream",
          "name": "stdout",
          "text": [
            "✅ Skipping MSLS_025, already processed.\n"
          ]
        },
        {
          "output_type": "stream",
          "name": "stderr",
          "text": [
            "\r 29%|██▉       | 27/93 [00:20<00:45,  1.44it/s]"
          ]
        },
        {
          "output_type": "stream",
          "name": "stdout",
          "text": [
            "✅ Skipping MSLS_026, already processed.\n"
          ]
        },
        {
          "output_type": "stream",
          "name": "stderr",
          "text": [
            "\r 30%|███       | 28/93 [00:22<00:57,  1.13it/s]"
          ]
        },
        {
          "output_type": "stream",
          "name": "stdout",
          "text": [
            "✅ Skipping MSLS_027, already processed.\n"
          ]
        },
        {
          "output_type": "stream",
          "name": "stderr",
          "text": [
            "\r 31%|███       | 29/93 [00:22<00:44,  1.44it/s]"
          ]
        },
        {
          "output_type": "stream",
          "name": "stdout",
          "text": [
            "✅ Skipping MSLS_028, already processed.\n"
          ]
        },
        {
          "output_type": "stream",
          "name": "stderr",
          "text": [
            "\r 32%|███▏      | 30/93 [00:23<00:56,  1.12it/s]"
          ]
        },
        {
          "output_type": "stream",
          "name": "stdout",
          "text": [
            "✅ Skipping MSLS_029, already processed.\n"
          ]
        },
        {
          "output_type": "stream",
          "name": "stderr",
          "text": [
            "\r 33%|███▎      | 31/93 [00:24<00:43,  1.44it/s]"
          ]
        },
        {
          "output_type": "stream",
          "name": "stdout",
          "text": [
            "✅ Skipping MSLS_030, already processed.\n"
          ]
        },
        {
          "output_type": "stream",
          "name": "stderr",
          "text": [
            "\r 34%|███▍      | 32/93 [00:25<00:53,  1.13it/s]"
          ]
        },
        {
          "output_type": "stream",
          "name": "stdout",
          "text": [
            "✅ Skipping MSLS_031, already processed.\n"
          ]
        },
        {
          "output_type": "stream",
          "name": "stderr",
          "text": [
            "\r 35%|███▌      | 33/93 [00:25<00:41,  1.45it/s]"
          ]
        },
        {
          "output_type": "stream",
          "name": "stdout",
          "text": [
            "✅ Skipping MSLS_032, already processed.\n"
          ]
        },
        {
          "output_type": "stream",
          "name": "stderr",
          "text": [
            "\r 37%|███▋      | 34/93 [00:26<00:52,  1.13it/s]"
          ]
        },
        {
          "output_type": "stream",
          "name": "stdout",
          "text": [
            "✅ Skipping MSLS_033, already processed.\n"
          ]
        },
        {
          "output_type": "stream",
          "name": "stderr",
          "text": [
            "\r 38%|███▊      | 35/93 [00:27<00:40,  1.44it/s]"
          ]
        },
        {
          "output_type": "stream",
          "name": "stdout",
          "text": [
            "✅ Skipping MSLS_034, already processed.\n"
          ]
        },
        {
          "output_type": "stream",
          "name": "stderr",
          "text": [
            "\r 39%|███▊      | 36/93 [00:28<00:50,  1.12it/s]"
          ]
        },
        {
          "output_type": "stream",
          "name": "stdout",
          "text": [
            "✅ Skipping MSLS_035, already processed.\n"
          ]
        },
        {
          "output_type": "stream",
          "name": "stderr",
          "text": [
            "\r 40%|███▉      | 37/93 [00:28<00:38,  1.44it/s]"
          ]
        },
        {
          "output_type": "stream",
          "name": "stdout",
          "text": [
            "✅ Skipping MSLS_036, already processed.\n"
          ]
        },
        {
          "output_type": "stream",
          "name": "stderr",
          "text": [
            "\r 41%|████      | 38/93 [00:30<00:49,  1.12it/s]"
          ]
        },
        {
          "output_type": "stream",
          "name": "stdout",
          "text": [
            "✅ Skipping MSLS_037, already processed.\n"
          ]
        },
        {
          "output_type": "stream",
          "name": "stderr",
          "text": [
            "\r 42%|████▏     | 39/93 [00:30<00:37,  1.43it/s]"
          ]
        },
        {
          "output_type": "stream",
          "name": "stdout",
          "text": [
            "✅ Skipping MSLS_038, already processed.\n"
          ]
        },
        {
          "output_type": "stream",
          "name": "stderr",
          "text": [
            "\r 43%|████▎     | 40/93 [00:31<00:47,  1.12it/s]"
          ]
        },
        {
          "output_type": "stream",
          "name": "stdout",
          "text": [
            "✅ Skipping MSLS_039, already processed.\n"
          ]
        },
        {
          "output_type": "stream",
          "name": "stderr",
          "text": [
            "\r 44%|████▍     | 41/93 [00:31<00:36,  1.42it/s]"
          ]
        },
        {
          "output_type": "stream",
          "name": "stdout",
          "text": [
            "✅ Skipping MSLS_040, already processed.\n"
          ]
        },
        {
          "output_type": "stream",
          "name": "stderr",
          "text": [
            "\r 45%|████▌     | 42/93 [00:33<00:45,  1.13it/s]"
          ]
        },
        {
          "output_type": "stream",
          "name": "stdout",
          "text": [
            "✅ Skipping MSLS_041, already processed.\n"
          ]
        },
        {
          "output_type": "stream",
          "name": "stderr",
          "text": [
            "\r 46%|████▌     | 43/93 [00:33<00:34,  1.43it/s]"
          ]
        },
        {
          "output_type": "stream",
          "name": "stdout",
          "text": [
            "✅ Skipping MSLS_042, already processed.\n"
          ]
        },
        {
          "output_type": "stream",
          "name": "stderr",
          "text": [
            "\r 47%|████▋     | 44/93 [00:34<00:43,  1.13it/s]"
          ]
        },
        {
          "output_type": "stream",
          "name": "stdout",
          "text": [
            "✅ Skipping MSLS_043, already processed.\n"
          ]
        },
        {
          "output_type": "stream",
          "name": "stderr",
          "text": [
            "\r 48%|████▊     | 45/93 [00:35<00:33,  1.44it/s]"
          ]
        },
        {
          "output_type": "stream",
          "name": "stdout",
          "text": [
            "✅ Skipping MSLS_044, already processed.\n"
          ]
        },
        {
          "output_type": "stream",
          "name": "stderr",
          "text": [
            "\r 49%|████▉     | 46/93 [00:36<00:41,  1.13it/s]"
          ]
        },
        {
          "output_type": "stream",
          "name": "stdout",
          "text": [
            "✅ Skipping MSLS_045, already processed.\n"
          ]
        },
        {
          "output_type": "stream",
          "name": "stderr",
          "text": [
            "\r 51%|█████     | 47/93 [00:36<00:31,  1.44it/s]"
          ]
        },
        {
          "output_type": "stream",
          "name": "stdout",
          "text": [
            "✅ Skipping MSLS_046, already processed.\n"
          ]
        },
        {
          "output_type": "stream",
          "name": "stderr",
          "text": [
            "\r 52%|█████▏    | 48/93 [00:38<00:39,  1.13it/s]"
          ]
        },
        {
          "output_type": "stream",
          "name": "stdout",
          "text": [
            "✅ Skipping MSLS_047, already processed.\n"
          ]
        },
        {
          "output_type": "stream",
          "name": "stderr",
          "text": [
            "\r 53%|█████▎    | 49/93 [00:38<00:30,  1.43it/s]"
          ]
        },
        {
          "output_type": "stream",
          "name": "stdout",
          "text": [
            "✅ Skipping MSLS_048, already processed.\n"
          ]
        },
        {
          "output_type": "stream",
          "name": "stderr",
          "text": [
            "\r 54%|█████▍    | 50/93 [00:40<00:51,  1.20s/it]"
          ]
        },
        {
          "output_type": "stream",
          "name": "stdout",
          "text": [
            "✅ Skipping MSLS_049, already processed.\n"
          ]
        },
        {
          "output_type": "stream",
          "name": "stderr",
          "text": [
            "\r 55%|█████▍    | 51/93 [00:40<00:38,  1.10it/s]"
          ]
        },
        {
          "output_type": "stream",
          "name": "stdout",
          "text": [
            "✅ Skipping MSLS_050, already processed.\n"
          ]
        },
        {
          "output_type": "stream",
          "name": "stderr",
          "text": [
            "\r 56%|█████▌    | 52/93 [00:41<00:34,  1.20it/s]"
          ]
        },
        {
          "output_type": "stream",
          "name": "stdout",
          "text": [
            "✅ Skipping MSLS_051, already processed.\n"
          ]
        },
        {
          "output_type": "stream",
          "name": "stderr",
          "text": [
            "\r 57%|█████▋    | 53/93 [00:41<00:26,  1.52it/s]"
          ]
        },
        {
          "output_type": "stream",
          "name": "stdout",
          "text": [
            "✅ Skipping MSLS_052, already processed.\n"
          ]
        },
        {
          "output_type": "stream",
          "name": "stderr",
          "text": [
            "\r 58%|█████▊    | 54/93 [00:42<00:23,  1.67it/s]"
          ]
        },
        {
          "output_type": "stream",
          "name": "stdout",
          "text": [
            "✅ Skipping MSLS_053, already processed.\n"
          ]
        },
        {
          "output_type": "stream",
          "name": "stderr",
          "text": [
            "\r 59%|█████▉    | 55/93 [00:43<00:26,  1.46it/s]"
          ]
        },
        {
          "output_type": "stream",
          "name": "stdout",
          "text": [
            "✅ Skipping MSLS_054, already processed.\n"
          ]
        },
        {
          "output_type": "stream",
          "name": "stderr",
          "text": [
            "\r 60%|██████    | 56/93 [00:43<00:22,  1.61it/s]"
          ]
        },
        {
          "output_type": "stream",
          "name": "stdout",
          "text": [
            "✅ Skipping MSLS_055, already processed.\n"
          ]
        },
        {
          "output_type": "stream",
          "name": "stderr",
          "text": [
            "\r 61%|██████▏   | 57/93 [00:43<00:18,  1.97it/s]"
          ]
        },
        {
          "output_type": "stream",
          "name": "stdout",
          "text": [
            "✅ Skipping MSLS_056, already processed.\n"
          ]
        },
        {
          "output_type": "stream",
          "name": "stderr",
          "text": [
            "\r 62%|██████▏   | 58/93 [00:44<00:14,  2.33it/s]"
          ]
        },
        {
          "output_type": "stream",
          "name": "stdout",
          "text": [
            "✅ Skipping MSLS_057, already processed.\n"
          ]
        },
        {
          "output_type": "stream",
          "name": "stderr",
          "text": [
            "\r 63%|██████▎   | 59/93 [00:45<00:23,  1.43it/s]"
          ]
        },
        {
          "output_type": "stream",
          "name": "stdout",
          "text": [
            "✅ Skipping MSLS_058, already processed.\n"
          ]
        },
        {
          "output_type": "stream",
          "name": "stderr",
          "text": [
            "\r 65%|██████▍   | 60/93 [00:45<00:18,  1.77it/s]"
          ]
        },
        {
          "output_type": "stream",
          "name": "stdout",
          "text": [
            "✅ Skipping MSLS_059, already processed.\n"
          ]
        },
        {
          "output_type": "stream",
          "name": "stderr",
          "text": [
            "\r 66%|██████▌   | 61/93 [00:45<00:14,  2.14it/s]"
          ]
        },
        {
          "output_type": "stream",
          "name": "stdout",
          "text": [
            "✅ Skipping MSLS_060, already processed.\n"
          ]
        },
        {
          "output_type": "stream",
          "name": "stderr",
          "text": [
            "\r 67%|██████▋   | 62/93 [00:47<00:22,  1.38it/s]"
          ]
        },
        {
          "output_type": "stream",
          "name": "stdout",
          "text": [
            "✅ Skipping MSLS_061, already processed.\n"
          ]
        },
        {
          "output_type": "stream",
          "name": "stderr",
          "text": [
            "\r 68%|██████▊   | 63/93 [00:47<00:17,  1.71it/s]"
          ]
        },
        {
          "output_type": "stream",
          "name": "stdout",
          "text": [
            "✅ Skipping MSLS_062, already processed.\n"
          ]
        },
        {
          "output_type": "stream",
          "name": "stderr",
          "text": [
            "\r 69%|██████▉   | 64/93 [00:47<00:13,  2.07it/s]"
          ]
        },
        {
          "output_type": "stream",
          "name": "stdout",
          "text": [
            "✅ Skipping MSLS_063, already processed.\n"
          ]
        },
        {
          "output_type": "stream",
          "name": "stderr",
          "text": [
            "\r 70%|██████▉   | 65/93 [00:48<00:11,  2.44it/s]"
          ]
        },
        {
          "output_type": "stream",
          "name": "stdout",
          "text": [
            "✅ Skipping MSLS_064, already processed.\n"
          ]
        },
        {
          "output_type": "stream",
          "name": "stderr",
          "text": [
            "\r 71%|███████   | 66/93 [00:48<00:09,  2.78it/s]"
          ]
        },
        {
          "output_type": "stream",
          "name": "stdout",
          "text": [
            "✅ Skipping MSLS_065, already processed.\n"
          ]
        },
        {
          "output_type": "stream",
          "name": "stderr",
          "text": [
            "\r 72%|███████▏  | 67/93 [00:49<00:16,  1.54it/s]"
          ]
        },
        {
          "output_type": "stream",
          "name": "stdout",
          "text": [
            "✅ Skipping MSLS_066, already processed.\n"
          ]
        },
        {
          "output_type": "stream",
          "name": "stderr",
          "text": [
            "\r 73%|███████▎  | 68/93 [00:49<00:13,  1.90it/s]"
          ]
        },
        {
          "output_type": "stream",
          "name": "stdout",
          "text": [
            "✅ Skipping MSLS_067, already processed.\n"
          ]
        },
        {
          "output_type": "stream",
          "name": "stderr",
          "text": [
            "\r 74%|███████▍  | 69/93 [00:50<00:12,  1.96it/s]"
          ]
        },
        {
          "output_type": "stream",
          "name": "stdout",
          "text": [
            "✅ Skipping MSLS_068, already processed.\n"
          ]
        },
        {
          "output_type": "stream",
          "name": "stderr",
          "text": [
            "\r 75%|███████▌  | 70/93 [00:50<00:11,  2.02it/s]"
          ]
        },
        {
          "output_type": "stream",
          "name": "stdout",
          "text": [
            "✅ Skipping MSLS_069, already processed.\n"
          ]
        },
        {
          "output_type": "stream",
          "name": "stderr",
          "text": [
            "\r 76%|███████▋  | 71/93 [00:51<00:10,  2.12it/s]"
          ]
        },
        {
          "output_type": "stream",
          "name": "stdout",
          "text": [
            "✅ Skipping MSLS_070, already processed.\n"
          ]
        },
        {
          "output_type": "stream",
          "name": "stderr",
          "text": [
            "\r 77%|███████▋  | 72/93 [00:51<00:09,  2.12it/s]"
          ]
        },
        {
          "output_type": "stream",
          "name": "stdout",
          "text": [
            "✅ Skipping MSLS_071, already processed.\n"
          ]
        },
        {
          "output_type": "stream",
          "name": "stderr",
          "text": [
            "\r 78%|███████▊  | 73/93 [00:52<00:10,  1.86it/s]"
          ]
        },
        {
          "output_type": "stream",
          "name": "stdout",
          "text": [
            "✅ Skipping MSLS_072, already processed.\n"
          ]
        },
        {
          "output_type": "stream",
          "name": "stderr",
          "text": [
            "\r 80%|███████▉  | 74/93 [00:53<00:12,  1.57it/s]"
          ]
        },
        {
          "output_type": "stream",
          "name": "stdout",
          "text": [
            "✅ Skipping MSLS_073, already processed.\n"
          ]
        },
        {
          "output_type": "stream",
          "name": "stderr",
          "text": [
            "\r 81%|████████  | 75/93 [00:53<00:11,  1.53it/s]"
          ]
        },
        {
          "output_type": "stream",
          "name": "stdout",
          "text": [
            "✅ Skipping MSLS_074, already processed.\n"
          ]
        },
        {
          "output_type": "stream",
          "name": "stderr",
          "text": [
            "\r 82%|████████▏ | 76/93 [00:54<00:10,  1.67it/s]"
          ]
        },
        {
          "output_type": "stream",
          "name": "stdout",
          "text": [
            "✅ Skipping MSLS_075, already processed.\n"
          ]
        },
        {
          "output_type": "stream",
          "name": "stderr",
          "text": [
            "\r 83%|████████▎ | 77/93 [00:54<00:08,  1.84it/s]"
          ]
        },
        {
          "output_type": "stream",
          "name": "stdout",
          "text": [
            "✅ Skipping MSLS_076, already processed.\n"
          ]
        },
        {
          "output_type": "stream",
          "name": "stderr",
          "text": [
            "\r 84%|████████▍ | 78/93 [00:55<00:07,  1.91it/s]"
          ]
        },
        {
          "output_type": "stream",
          "name": "stdout",
          "text": [
            "✅ Skipping MSLS_077, already processed.\n"
          ]
        },
        {
          "output_type": "stream",
          "name": "stderr",
          "text": [
            "\r 85%|████████▍ | 79/93 [00:55<00:07,  1.98it/s]"
          ]
        },
        {
          "output_type": "stream",
          "name": "stdout",
          "text": [
            "✅ Skipping MSLS_078, already processed.\n"
          ]
        },
        {
          "output_type": "stream",
          "name": "stderr",
          "text": [
            "\r 86%|████████▌ | 80/93 [00:55<00:05,  2.34it/s]"
          ]
        },
        {
          "output_type": "stream",
          "name": "stdout",
          "text": [
            "✅ Skipping MSLS_079, already processed.\n"
          ]
        },
        {
          "output_type": "stream",
          "name": "stderr",
          "text": [
            "\r 87%|████████▋ | 81/93 [00:56<00:05,  2.29it/s]"
          ]
        },
        {
          "output_type": "stream",
          "name": "stdout",
          "text": [
            "✅ Skipping MSLS_080, already processed.\n"
          ]
        },
        {
          "output_type": "stream",
          "name": "stderr",
          "text": [
            "\r 88%|████████▊ | 82/93 [00:56<00:04,  2.23it/s]"
          ]
        },
        {
          "output_type": "stream",
          "name": "stdout",
          "text": [
            "✅ Skipping MSLS_081, already processed.\n"
          ]
        },
        {
          "output_type": "stream",
          "name": "stderr",
          "text": [
            "\r 89%|████████▉ | 83/93 [00:57<00:04,  2.27it/s]"
          ]
        },
        {
          "output_type": "stream",
          "name": "stdout",
          "text": [
            "✅ Skipping MSLS_082, already processed.\n"
          ]
        },
        {
          "output_type": "stream",
          "name": "stderr",
          "text": [
            "\r 90%|█████████ | 84/93 [00:57<00:04,  2.22it/s]"
          ]
        },
        {
          "output_type": "stream",
          "name": "stdout",
          "text": [
            "✅ Skipping MSLS_083, already processed.\n"
          ]
        },
        {
          "output_type": "stream",
          "name": "stderr",
          "text": [
            "\r 91%|█████████▏| 85/93 [00:58<00:03,  2.18it/s]"
          ]
        },
        {
          "output_type": "stream",
          "name": "stdout",
          "text": [
            "✅ Skipping MSLS_084, already processed.\n"
          ]
        },
        {
          "output_type": "stream",
          "name": "stderr",
          "text": [
            "\r 92%|█████████▏| 86/93 [00:58<00:02,  2.54it/s]"
          ]
        },
        {
          "output_type": "stream",
          "name": "stdout",
          "text": [
            "✅ Skipping MSLS_085, already processed.\n"
          ]
        },
        {
          "output_type": "stream",
          "name": "stderr",
          "text": [
            "\r 94%|█████████▎| 87/93 [00:58<00:02,  2.41it/s]"
          ]
        },
        {
          "output_type": "stream",
          "name": "stdout",
          "text": [
            "✅ Skipping MSLS_086, already processed.\n"
          ]
        },
        {
          "output_type": "stream",
          "name": "stderr",
          "text": [
            "\r 95%|█████████▍| 88/93 [00:59<00:02,  2.33it/s]"
          ]
        },
        {
          "output_type": "stream",
          "name": "stdout",
          "text": [
            "✅ Skipping MSLS_087, already processed.\n"
          ]
        },
        {
          "output_type": "stream",
          "name": "stderr",
          "text": [
            "\r 96%|█████████▌| 89/93 [00:59<00:01,  2.38it/s]"
          ]
        },
        {
          "output_type": "stream",
          "name": "stdout",
          "text": [
            "✅ Skipping MSLS_088, already processed.\n"
          ]
        },
        {
          "output_type": "stream",
          "name": "stderr",
          "text": [
            "\r 97%|█████████▋| 90/93 [01:00<00:01,  2.30it/s]"
          ]
        },
        {
          "output_type": "stream",
          "name": "stdout",
          "text": [
            "✅ Skipping MSLS_089, already processed.\n"
          ]
        },
        {
          "output_type": "stream",
          "name": "stderr",
          "text": [
            "\r 98%|█████████▊| 91/93 [01:01<00:01,  1.94it/s]"
          ]
        },
        {
          "output_type": "stream",
          "name": "stdout",
          "text": [
            "✅ Skipping MSLS_090, already processed.\n"
          ]
        },
        {
          "output_type": "stream",
          "name": "stderr",
          "text": [
            "\r 99%|█████████▉| 92/93 [01:01<00:00,  2.01it/s]"
          ]
        },
        {
          "output_type": "stream",
          "name": "stdout",
          "text": [
            "✅ Skipping MSLS_091, already processed.\n"
          ]
        },
        {
          "output_type": "stream",
          "name": "stderr",
          "text": [
            "100%|██████████| 93/93 [01:01<00:00,  1.50it/s]"
          ]
        },
        {
          "output_type": "stream",
          "name": "stdout",
          "text": [
            "✅ Skipping MSLS_092, already processed.\n"
          ]
        },
        {
          "output_type": "stream",
          "name": "stderr",
          "text": [
            "\n"
          ]
        }
      ],
      "source": [
        "# Run the preprocessing on the training set\n",
        "RAW_DATA_PATH = \"gs://mslesseg_4_icpr_bucket/data/01-Pre-Processed-Data/train\"\n",
        "OUTPUT_PATH = \"gs://mslesseg_4_icpr_bucket/data/02-Tensor-Data/train\"\n",
        "\n",
        "run_preprocessing(RAW_DATA_PATH, OUTPUT_PATH)"
      ]
    },
    {
      "cell_type": "code",
      "execution_count": null,
      "id": "cc06f78a-1ed2-4e4b-90f7-391b10748569",
      "metadata": {
        "id": "cc06f78a-1ed2-4e4b-90f7-391b10748569",
        "colab": {
          "base_uri": "https://localhost:8080/"
        },
        "outputId": "2214d6ee-266c-4e05-c17c-7b06582476cf"
      },
      "outputs": [
        {
          "output_type": "stream",
          "name": "stderr",
          "text": [
            "  5%|▍         | 1/22 [00:00<00:09,  2.19it/s]"
          ]
        },
        {
          "output_type": "stream",
          "name": "stdout",
          "text": [
            "✅ Skipping MSLS_093, already processed.\n"
          ]
        },
        {
          "output_type": "stream",
          "name": "stderr",
          "text": [
            "\r  9%|▉         | 2/22 [00:01<00:13,  1.46it/s]"
          ]
        },
        {
          "output_type": "stream",
          "name": "stdout",
          "text": [
            "✅ Skipping MSLS_094, already processed.\n"
          ]
        },
        {
          "output_type": "stream",
          "name": "stderr",
          "text": [
            "\r 14%|█▎        | 3/22 [00:02<00:13,  1.43it/s]"
          ]
        },
        {
          "output_type": "stream",
          "name": "stdout",
          "text": [
            "✅ Skipping MSLS_095, already processed.\n"
          ]
        },
        {
          "output_type": "stream",
          "name": "stderr",
          "text": [
            "\r 18%|█▊        | 4/22 [00:02<00:10,  1.66it/s]"
          ]
        },
        {
          "output_type": "stream",
          "name": "stdout",
          "text": [
            "✅ Skipping MSLS_096, already processed.\n"
          ]
        },
        {
          "output_type": "stream",
          "name": "stderr",
          "text": [
            "\r 23%|██▎       | 5/22 [00:02<00:08,  1.90it/s]"
          ]
        },
        {
          "output_type": "stream",
          "name": "stdout",
          "text": [
            "✅ Skipping MSLS_097, already processed.\n"
          ]
        },
        {
          "output_type": "stream",
          "name": "stderr",
          "text": [
            "\r 27%|██▋       | 6/22 [00:03<00:08,  1.97it/s]"
          ]
        },
        {
          "output_type": "stream",
          "name": "stdout",
          "text": [
            "✅ Skipping MSLS_098, already processed.\n"
          ]
        },
        {
          "output_type": "stream",
          "name": "stderr",
          "text": [
            "\r 32%|███▏      | 7/22 [00:03<00:07,  2.02it/s]"
          ]
        },
        {
          "output_type": "stream",
          "name": "stdout",
          "text": [
            "✅ Skipping MSLS_099, already processed.\n"
          ]
        },
        {
          "output_type": "stream",
          "name": "stderr",
          "text": [
            "\r 36%|███▋      | 8/22 [00:04<00:05,  2.41it/s]"
          ]
        },
        {
          "output_type": "stream",
          "name": "stdout",
          "text": [
            "✅ Skipping MSLS_100, already processed.\n"
          ]
        },
        {
          "output_type": "stream",
          "name": "stderr",
          "text": [
            "\r 41%|████      | 9/22 [00:04<00:04,  2.77it/s]"
          ]
        },
        {
          "output_type": "stream",
          "name": "stdout",
          "text": [
            "✅ Skipping MSLS_101, already processed.\n"
          ]
        },
        {
          "output_type": "stream",
          "name": "stderr",
          "text": [
            "\r 45%|████▌     | 10/22 [00:04<00:03,  3.07it/s]"
          ]
        },
        {
          "output_type": "stream",
          "name": "stdout",
          "text": [
            "✅ Skipping MSLS_102, already processed.\n"
          ]
        },
        {
          "output_type": "stream",
          "name": "stderr",
          "text": [
            "\r 50%|█████     | 11/22 [00:04<00:03,  3.32it/s]"
          ]
        },
        {
          "output_type": "stream",
          "name": "stdout",
          "text": [
            "✅ Skipping MSLS_103, already processed.\n"
          ]
        },
        {
          "output_type": "stream",
          "name": "stderr",
          "text": [
            "\r 55%|█████▍    | 12/22 [00:05<00:02,  3.51it/s]"
          ]
        },
        {
          "output_type": "stream",
          "name": "stdout",
          "text": [
            "✅ Skipping MSLS_104, already processed.\n"
          ]
        },
        {
          "output_type": "stream",
          "name": "stderr",
          "text": [
            "\r 59%|█████▉    | 13/22 [00:05<00:02,  3.69it/s]"
          ]
        },
        {
          "output_type": "stream",
          "name": "stdout",
          "text": [
            "✅ Skipping MSLS_105, already processed.\n"
          ]
        },
        {
          "output_type": "stream",
          "name": "stderr",
          "text": [
            "\r 64%|██████▎   | 14/22 [00:05<00:02,  3.83it/s]"
          ]
        },
        {
          "output_type": "stream",
          "name": "stdout",
          "text": [
            "✅ Skipping MSLS_106, already processed.\n"
          ]
        },
        {
          "output_type": "stream",
          "name": "stderr",
          "text": [
            "\r 68%|██████▊   | 15/22 [00:05<00:01,  3.90it/s]"
          ]
        },
        {
          "output_type": "stream",
          "name": "stdout",
          "text": [
            "✅ Skipping MSLS_107, already processed.\n"
          ]
        },
        {
          "output_type": "stream",
          "name": "stderr",
          "text": [
            "\r 73%|███████▎  | 16/22 [00:05<00:01,  3.95it/s]"
          ]
        },
        {
          "output_type": "stream",
          "name": "stdout",
          "text": [
            "✅ Skipping MSLS_108, already processed.\n"
          ]
        },
        {
          "output_type": "stream",
          "name": "stderr",
          "text": [
            "\r 77%|███████▋  | 17/22 [00:06<00:01,  3.97it/s]"
          ]
        },
        {
          "output_type": "stream",
          "name": "stdout",
          "text": [
            "✅ Skipping MSLS_109, already processed.\n"
          ]
        },
        {
          "output_type": "stream",
          "name": "stderr",
          "text": [
            "\r 82%|████████▏ | 18/22 [00:06<00:01,  3.95it/s]"
          ]
        },
        {
          "output_type": "stream",
          "name": "stdout",
          "text": [
            "✅ Skipping MSLS_110, already processed.\n"
          ]
        },
        {
          "output_type": "stream",
          "name": "stderr",
          "text": [
            "\r 86%|████████▋ | 19/22 [00:06<00:00,  3.96it/s]"
          ]
        },
        {
          "output_type": "stream",
          "name": "stdout",
          "text": [
            "✅ Skipping MSLS_111, already processed.\n"
          ]
        },
        {
          "output_type": "stream",
          "name": "stderr",
          "text": [
            "\r 91%|█████████ | 20/22 [00:06<00:00,  4.05it/s]"
          ]
        },
        {
          "output_type": "stream",
          "name": "stdout",
          "text": [
            "✅ Skipping MSLS_112, already processed.\n"
          ]
        },
        {
          "output_type": "stream",
          "name": "stderr",
          "text": [
            "\r 95%|█████████▌| 21/22 [00:07<00:00,  4.07it/s]"
          ]
        },
        {
          "output_type": "stream",
          "name": "stdout",
          "text": [
            "✅ Skipping MSLS_113, already processed.\n"
          ]
        },
        {
          "output_type": "stream",
          "name": "stderr",
          "text": [
            "100%|██████████| 22/22 [00:07<00:00,  2.94it/s]"
          ]
        },
        {
          "output_type": "stream",
          "name": "stdout",
          "text": [
            "✅ Skipping MSLS_114, already processed.\n"
          ]
        },
        {
          "output_type": "stream",
          "name": "stderr",
          "text": [
            "\n"
          ]
        }
      ],
      "source": [
        "# Run the preprocessing on the test set\n",
        "RAW_DATA_PATH = \"gs://mslesseg_4_icpr_bucket/data/01-Pre-Processed-Data/test/test_MASK\"\n",
        "OUTPUT_PATH = \"gs://mslesseg_4_icpr_bucket/data/02-Tensor-Data/test\"\n",
        "\n",
        "run_preprocessing(RAW_DATA_PATH, OUTPUT_PATH)"
      ]
    },
    {
      "cell_type": "markdown",
      "id": "ef2f3830-e80c-47b9-9f3f-3b1268619f14",
      "metadata": {
        "id": "ef2f3830-e80c-47b9-9f3f-3b1268619f14"
      },
      "source": [
        "## Build the Dataset and Dataloaders for the MSLesSeg preprocessed data"
      ]
    },
    {
      "cell_type": "code",
      "execution_count": null,
      "id": "813cbfe2-346f-48f1-b350-c0ef69e9ae0f",
      "metadata": {
        "id": "813cbfe2-346f-48f1-b350-c0ef69e9ae0f",
        "colab": {
          "base_uri": "https://localhost:8080/"
        },
        "outputId": "35a14f33-f625-4357-b22e-d4fbf270069c"
      },
      "outputs": [
        {
          "output_type": "stream",
          "name": "stdout",
          "text": [
            "Initial memory usage: 0.00 MB\n"
          ]
        }
      ],
      "source": [
        "# Check the initial memory consuption (GPU) of the project\n",
        "import torch\n",
        "\n",
        "# Check initial GPU memory usage\n",
        "initial_memory = torch.cuda.memory_allocated() / 1024 ** 2  # in MB\n",
        "print(f\"Initial memory usage: {initial_memory:.2f} MB\")"
      ]
    },
    {
      "cell_type": "code",
      "execution_count": null,
      "id": "59da4863-42f3-4d2c-a675-c8cdc1eeeace",
      "metadata": {
        "id": "59da4863-42f3-4d2c-a675-c8cdc1eeeace"
      },
      "outputs": [],
      "source": [
        "import torch\n",
        "from torch.utils.data import Dataset\n",
        "import gcsfs\n",
        "import os\n",
        "\n",
        "class MSLesSegDataset(Dataset):\n",
        "    def __init__(self, root_dir):\n",
        "        self.root_dir = root_dir  # e.g., \"gs://your_bucket/path/to/data\"\n",
        "        self.fs = gcsfs.GCSFileSystem()\n",
        "        self.patient_dirs = self._get_patient_dirs()\n",
        "\n",
        "    def _get_patient_dirs(self):\n",
        "        \"\"\"\n",
        "        Discover valid patient directories in the GCS bucket that contain the expected .pt files.\n",
        "        \"\"\"\n",
        "        # List subdirectories under the root_dir\n",
        "        all_dirs = self.fs.ls(self.root_dir)\n",
        "        patient_dirs = []\n",
        "\n",
        "\n",
        "        for entry in all_dirs:\n",
        "            # Check if both required files exist inside each subdirectory\n",
        "            input_tensor = f\"{entry}/input_tensor.pt\"\n",
        "            seg_mask = f\"{entry}/seg_mask.pt\"\n",
        "            if self.fs.exists(input_tensor) and self.fs.exists(seg_mask):\n",
        "                patient_dirs.append(entry)\n",
        "\n",
        "        return patient_dirs\n",
        "\n",
        "    def __len__(self):\n",
        "        return len(self.patient_dirs)\n",
        "\n",
        "    def __getitem__(self, idx):\n",
        "        \"\"\"\n",
        "        Load tensors from GCS.\n",
        "        \"\"\"\n",
        "        patient_dir = self.patient_dirs[idx]\n",
        "        input_path = f\"{patient_dir}/input_tensor.pt\"\n",
        "        seg_path = f\"{patient_dir}/seg_mask.pt\"\n",
        "\n",
        "        with self.fs.open(input_path, 'rb') as f:\n",
        "            input_tensor = torch.load(f)\n",
        "\n",
        "        with self.fs.open(seg_path, 'rb') as f:\n",
        "            seg_mask = torch.load(f)\n",
        "\n",
        "        # print(f\"Returning input tensor shape: {input_tensor.shape}\")\n",
        "        # print(f\"Returning seg mask shape: {seg_mask.shape}\")\n",
        "        return input_tensor, seg_mask\n"
      ]
    },
    {
      "cell_type": "markdown",
      "id": "d38f0311-9b80-4bf0-b80d-996692a83815",
      "metadata": {
        "id": "d38f0311-9b80-4bf0-b80d-996692a83815"
      },
      "source": [
        "### PyTorch Lightning DataModule\n",
        "\n",
        "This particular version of PyTorch Lightning, and in general from version 2.x onward require a ***LightningDataModule*** instead of passing the dataloaders directly to the ***.fit()*** method"
      ]
    },
    {
      "cell_type": "code",
      "execution_count": null,
      "id": "03106a16-273a-4298-b82f-e15990258754",
      "metadata": {
        "id": "03106a16-273a-4298-b82f-e15990258754"
      },
      "outputs": [],
      "source": [
        "# MSLesSeg (PyTorch) LightningDataModule definition\n",
        "from torch.utils.data import DataLoader, random_split\n",
        "import pytorch_lightning as pl\n",
        "\n",
        "class MSLesSegDataModule(pl.LightningDataModule):\n",
        "\n",
        "    def __init__(self, root_data_dir, batch_size, val_split, num_workers):\n",
        "        \"\"\"\n",
        "        root_data_dir: Is the path to the train and test data\n",
        "        \"\"\"\n",
        "        super().__init__()\n",
        "        self.data_dir = root_data_dir\n",
        "        self.batch_size = batch_size\n",
        "        self.val_split = val_split\n",
        "        self.num_workers = num_workers\n",
        "\n",
        "    def setup(self, stage=None):\n",
        "        # Load full training dataset\n",
        "        full_dataset = MSLesSegDataset(root_dir=os.path.join(self.data_dir, 'train'))\n",
        "\n",
        "        # Split into train and val\n",
        "        val_size = int(len(full_dataset) * self.val_split)\n",
        "        train_size = len(full_dataset) - val_size\n",
        "        self.train_dataset, self.val_dataset = random_split(full_dataset, [train_size, val_size])\n",
        "\n",
        "        # Load test dataset (if it exists)\n",
        "        test_dir = os.path.join(self.data_dir, 'test')\n",
        "        if os.path.exists(test_dir):\n",
        "            self.test_dataset = MSLesSegDataset(root_dir=test_dir)\n",
        "        else:\n",
        "            self.test_dataset = None\n",
        "\n",
        "    def train_dataloader(self):\n",
        "        return DataLoader(self.train_dataset, batch_size=self.batch_size, shuffle=True, num_workers=self.num_workers)\n",
        "\n",
        "    def val_dataloader(self):\n",
        "        return DataLoader(self.val_dataset, batch_size=self.batch_size, shuffle=False, num_workers=self.num_workers)\n",
        "\n",
        "    def test_dataloader(self):\n",
        "        if self.test_dataset:\n",
        "            return DataLoader(self.test_dataset, batch_size=self.batch_size, shuffle=False, num_workers=self.num_workers)\n",
        "        return None\n",
        "\n"
      ]
    },
    {
      "cell_type": "markdown",
      "id": "cd6b08f0-2188-400b-b30e-88997983f659",
      "metadata": {
        "id": "cd6b08f0-2188-400b-b30e-88997983f659"
      },
      "source": [
        "## The Model's Architecture"
      ]
    },
    {
      "cell_type": "code",
      "execution_count": null,
      "id": "303c976d-7038-4798-91fb-99a94c810caa",
      "metadata": {
        "id": "303c976d-7038-4798-91fb-99a94c810caa"
      },
      "outputs": [],
      "source": [
        "# The U-Net architecture is based on the tutorial offered by the author of the architecture\n",
        "# Link --> https://github.com/bnsreenu/python_for_image_processing_APEER/blob/master/tutorial122_3D_Unet.ipynb\n",
        "import torch\n",
        "import torch.nn as nn\n",
        "import torch.nn.functional as F\n",
        "\n",
        "class ConvBlock(nn.Module):\n",
        "    def __init__(self, in_channels, out_channels):\n",
        "        super(ConvBlock, self).__init__()\n",
        "        self.conv1 = nn.Conv3d(in_channels, out_channels, kernel_size=3, padding=1)\n",
        "        self.bn1 = nn.BatchNorm3d(out_channels)\n",
        "        self.relu1 = nn.GELU()\n",
        "        self.conv2 = nn.Conv3d(out_channels, out_channels, kernel_size=3, padding=1)\n",
        "        self.bn2 = nn.BatchNorm3d(out_channels)\n",
        "        self.relu2 = nn.GELU()\n",
        "\n",
        "    def forward(self, x):\n",
        "        x = self.conv1(x)\n",
        "        x = self.bn1(x)\n",
        "        x = self.relu1(x)\n",
        "        x = self.conv2(x)\n",
        "        x = self.bn2(x)\n",
        "        x = self.relu2(x)\n",
        "        return x\n",
        "\n",
        "# Downsampling path Conv block followed by maxpooling.\n",
        "class Down(nn.Module):\n",
        "    def __init__(self, in_channels, out_channels):\n",
        "        super(Down, self).__init__()\n",
        "        self.conv_block = ConvBlock(in_channels, out_channels)\n",
        "        self.pool = nn.MaxPool3d(kernel_size=2, stride=2)\n",
        "\n",
        "    def forward(self, x):\n",
        "        conv_output = self.conv_block(x)\n",
        "        pool_output = self.pool(conv_output)\n",
        "        return conv_output, pool_output\n",
        "\n",
        "# Upsampling path: Skip features gets input from encoder for concatenation\n",
        "class Up(nn.Module):\n",
        "    def __init__(self, in_channels, out_channels):\n",
        "        super(Up, self).__init__()\n",
        "        self.conv_transpose = nn.ConvTranspose3d(in_channels, out_channels, kernel_size=2, stride=2)\n",
        "        self.conv_block = ConvBlock(in_channels, out_channels)\n",
        "\n",
        "    def forward(self, x, skip_features):\n",
        "        x = self.conv_transpose(x)\n",
        "        x = torch.cat((x, skip_features), dim=1)\n",
        "        x = self.conv_block(x)\n",
        "        return x"
      ]
    },
    {
      "cell_type": "code",
      "execution_count": null,
      "id": "48ea20e2-8ad7-4693-ab48-3d442038dedb",
      "metadata": {
        "id": "48ea20e2-8ad7-4693-ab48-3d442038dedb"
      },
      "outputs": [],
      "source": [
        "# Helper function to pad to a multiple of 16 (because of the 4 down and up convolutions)\n",
        "def pad_to_multiple(x, multiple=16):\n",
        "    _, _, h, w, d = x.shape\n",
        "    pad_h = (multiple - h % multiple) % multiple\n",
        "    pad_w = (multiple - w % multiple) % multiple\n",
        "    pad_d = (multiple - d % multiple) % multiple\n",
        "\n",
        "    pad = [0, pad_d, 0, pad_w, 0, pad_h]  # D, W, H\n",
        "    return F.pad(x, pad, mode='constant', value=0)"
      ]
    },
    {
      "cell_type": "code",
      "source": [
        "# Pad the input tensor to a target shape (to pad the GT segmentation mask to the architecture's output mask)\n",
        "def pad_to_match(tensor, target_shape):\n",
        "    current_shape = tensor.shape\n",
        "\n",
        "    # Compute padding for H, W, D (last 3 dims)\n",
        "    padding = []\n",
        "    for curr, tgt in zip(reversed(current_shape[-3:]), reversed(target_shape[-3:])):\n",
        "        total_pad = tgt - curr\n",
        "        pad_left = total_pad // 2\n",
        "        pad_right = total_pad - pad_left\n",
        "        padding.extend([pad_left, pad_right])  # F.pad expects (left, right) per dim\n",
        "\n",
        "    # Reverse padding to (D_left, D_right, W_left, W_right, H_left, H_right)\n",
        "    return F.pad(tensor, padding)"
      ],
      "metadata": {
        "id": "GFK-FXqt9zRM"
      },
      "id": "GFK-FXqt9zRM",
      "execution_count": null,
      "outputs": []
    },
    {
      "cell_type": "code",
      "execution_count": null,
      "id": "dbdc3277-c204-4867-baea-7abf416655df",
      "metadata": {
        "id": "dbdc3277-c204-4867-baea-7abf416655df"
      },
      "outputs": [],
      "source": [
        "# Center cropping helper function to obtain the desired shape for the prediction with the segmentation mask\n",
        "def center_crop(x, target_shape):\n",
        "    if len(x.shape) == 5:\n",
        "      _, _, h, w, d = x.shape\n",
        "    else:\n",
        "      _, h, w, d = x.shape\n",
        "    th, tw, td = target_shape\n",
        "    h1 = (h - th) // 2\n",
        "    w1 = (w - tw) // 2\n",
        "    d1 = (d - td) // 2\n",
        "    return x[:, h1:h1+th, w1:w1+tw, d1:d1+td]"
      ]
    },
    {
      "cell_type": "code",
      "source": [
        "# 3D U-Net Architecture ==> Reduced 1 Down and Up conv steps to reduce model parameters\n",
        "class UNet(nn.Module):\n",
        "    \"\"\"\n",
        "    The U-Net model will accept input Tensors of shape: [B, C, H, W, D]\n",
        "    Which based on the used MSLesSeg dataset will be [B, 3, 182, 218, 182]\n",
        "    The input Tensor is nothing more than the stacked [FLAIR, T1w, T2w] modalities\n",
        "\n",
        "    The output will be the segmentation mask of shape [B, 1, 182, 218, 182]\n",
        "    \"\"\"\n",
        "    def __init__(self, in_channels):\n",
        "        super(UNet, self).__init__()\n",
        "        self.down_1 = Down(in_channels, 64)\n",
        "        self.down_2 = Down(64, 128)\n",
        "        self.down_3 = Down(128, 256)\n",
        "\n",
        "        self.bottleneck = ConvBlock(256, 512)\n",
        "\n",
        "        self.up_1 = Up(512, 256)\n",
        "        self.up_2 = Up(256, 128)\n",
        "        self.up_3 = Up(128, 64)\n",
        "\n",
        "        self.classifier = nn.Conv3d(64, 1, kernel_size=1, padding=0)\n",
        "        self.sigmoid = nn.Sigmoid()\n",
        "\n",
        "    def forward(self, x):\n",
        "\n",
        "        # Pad to multiple\n",
        "        x = pad_to_multiple(x)\n",
        "\n",
        "        # Downsampling path\n",
        "        conv1, pool1 = self.down_1(x)\n",
        "        conv2, pool2 = self.down_2(pool1)\n",
        "        conv3, pool3 = self.down_3(pool2)\n",
        "\n",
        "        # Bottleneck\n",
        "        bottleneck = self.bottleneck(pool3)\n",
        "\n",
        "        # Upsampling path\n",
        "        upconv1 = self.up_1(bottleneck, conv3)\n",
        "        upconv2 = self.up_2(upconv1, conv2)\n",
        "        upconv3 = self.up_3(upconv2, conv2)\n",
        "\n",
        "        output = self.sigmoid(self.classifier(upconv3))\n",
        "\n",
        "        return output"
      ],
      "metadata": {
        "id": "-j55kox62ijF"
      },
      "id": "-j55kox62ijF",
      "execution_count": null,
      "outputs": []
    },
    {
      "cell_type": "code",
      "execution_count": null,
      "id": "c67520ee-53db-45f6-a184-3ff3761bb80d",
      "metadata": {
        "id": "c67520ee-53db-45f6-a184-3ff3761bb80d"
      },
      "outputs": [],
      "source": [
        "# 3D U-Net Architecture (90 Milion Parameters)\n",
        "class UNet(nn.Module):\n",
        "    \"\"\"\n",
        "    The U-Net model will accept input Tensors of shape: [B, C, H, W, D]\n",
        "    Which based on the used MSLesSeg dataset will be [B, 3, 182, 218, 182]\n",
        "    The input Tensor is nothing more than the stacked [FLAIR, T1w, T2w] modalities\n",
        "\n",
        "    The output will be the segmentation mask of shape [B, 1, 182, 218, 182]\n",
        "    \"\"\"\n",
        "    def __init__(self, in_channels):\n",
        "        super(UNet, self).__init__()\n",
        "        self.down_1 = Down(in_channels, 64)\n",
        "        self.down_2 = Down(64, 128)\n",
        "        self.down_3 = Down(128, 256)\n",
        "        self.down_4 = Down(256, 512)\n",
        "\n",
        "        self.bottleneck = ConvBlock(512, 1024)\n",
        "\n",
        "        self.up_1 = Up(1024, 512)\n",
        "        self.up_2 = Up(512, 256)\n",
        "        self.up_3 = Up(256, 128)\n",
        "        self.up_4 = Up(128, 64)\n",
        "\n",
        "        self.classifier = nn.Conv3d(64, 1, kernel_size=1, padding=0)\n",
        "        self.sigmoid = nn.Sigmoid()\n",
        "\n",
        "    def forward(self, x):\n",
        "\n",
        "        # Pad to multiple\n",
        "        x = pad_to_multiple(x)\n",
        "\n",
        "        # Downsampling path\n",
        "        conv1, pool1 = self.down_1(x)\n",
        "        conv2, pool2 = self.down_2(pool1)\n",
        "        conv3, pool3 = self.down_3(pool2)\n",
        "        conv4, pool4 = self.down_4(pool3)\n",
        "\n",
        "        # Bottleneck\n",
        "        bottleneck = self.bottleneck(pool4)\n",
        "\n",
        "        # Upsampling path\n",
        "        upconv1 = self.up_1(bottleneck, conv4)\n",
        "        upconv2 = self.up_2(upconv1, conv3)\n",
        "        upconv3 = self.up_3(upconv2, conv2)\n",
        "        upconv4 = self.up_4(upconv3, conv1)\n",
        "\n",
        "        output = self.sigmoid(self.classifier(upconv4))\n",
        "\n",
        "        return output"
      ]
    },
    {
      "cell_type": "code",
      "source": [
        "# 3D U-Net Architecture - Parameter Reduced Version\n",
        "class UNet(nn.Module):\n",
        "    \"\"\"\n",
        "    The U-Net model will accept input Tensors of shape: [B, C, H, W, D]\n",
        "    Which based on the used MSLesSeg dataset will be [B, 3, 182, 218, 182]\n",
        "    The input Tensor is nothing more than the stacked [FLAIR, T1w, T2w] modalities\n",
        "\n",
        "    The output will be the segmentation mask of shape [B, 1, 182, 218, 182]\n",
        "    \"\"\"\n",
        "    def __init__(self, in_channels):\n",
        "        super(UNet, self).__init__()\n",
        "        self.down_1 = Down(in_channels, 16)\n",
        "        self.down_2 = Down(16, 32)\n",
        "        self.down_3 = Down(32, 64)\n",
        "        self.down_4 = Down(64, 128)\n",
        "\n",
        "        self.bottleneck = ConvBlock(128, 256)\n",
        "\n",
        "        self.up_1 = Up(256, 128)\n",
        "        self.up_2 = Up(128, 64)\n",
        "        self.up_3 = Up(64, 32)\n",
        "        self.up_4 = Up(32, 16)\n",
        "\n",
        "        self.classifier = nn.Conv3d(16, 1, kernel_size=1, padding=0)\n",
        "        self.sigmoid = nn.Sigmoid()\n",
        "\n",
        "    def forward(self, x):\n",
        "\n",
        "        # Pad to multiple\n",
        "        x = pad_to_multiple(x)\n",
        "\n",
        "        # Downsampling path\n",
        "        conv1, pool1 = self.down_1(x)\n",
        "        conv2, pool2 = self.down_2(pool1)\n",
        "        conv3, pool3 = self.down_3(pool2)\n",
        "        conv4, pool4 = self.down_4(pool3)\n",
        "\n",
        "        # Bottleneck\n",
        "        bottleneck = self.bottleneck(pool4)\n",
        "\n",
        "        # Upsampling path\n",
        "        upconv1 = self.up_1(bottleneck, conv4)\n",
        "        upconv2 = self.up_2(upconv1, conv3)\n",
        "        upconv3 = self.up_3(upconv2, conv2)\n",
        "        upconv4 = self.up_4(upconv3, conv1)\n",
        "\n",
        "        output = self.sigmoid(self.classifier(upconv4))\n",
        "\n",
        "        return output"
      ],
      "metadata": {
        "id": "2gyirdvT3jXE"
      },
      "id": "2gyirdvT3jXE",
      "execution_count": null,
      "outputs": []
    },
    {
      "cell_type": "code",
      "source": [
        "# Summary of the U-Net model, in terms of parameter count and estimated VRAM consumption\n",
        "from torchinfo import summary\n",
        "\n",
        "model = UNet(in_channels=3)  # Your model\n",
        "summary(model, input_size=(1, 3, 182, 218, 182))  # (batch_size, C, H, W)"
      ],
      "metadata": {
        "colab": {
          "base_uri": "https://localhost:8080/"
        },
        "id": "cL5ZA8G74YS2",
        "outputId": "ddc58806-9da7-44c1-f35b-b4969e019229"
      },
      "id": "cL5ZA8G74YS2",
      "execution_count": null,
      "outputs": [
        {
          "output_type": "execute_result",
          "data": {
            "text/plain": [
              "==========================================================================================\n",
              "Layer (type:depth-idx)                   Output Shape              Param #\n",
              "==========================================================================================\n",
              "UNet                                     [1, 1, 192, 224, 192]     --\n",
              "├─Down: 1-1                              [1, 16, 192, 224, 192]    --\n",
              "│    └─ConvBlock: 2-1                    [1, 16, 192, 224, 192]    --\n",
              "│    │    └─Conv3d: 3-1                  [1, 16, 192, 224, 192]    1,312\n",
              "│    │    └─BatchNorm3d: 3-2             [1, 16, 192, 224, 192]    32\n",
              "│    │    └─GELU: 3-3                    [1, 16, 192, 224, 192]    --\n",
              "│    │    └─Conv3d: 3-4                  [1, 16, 192, 224, 192]    6,928\n",
              "│    │    └─BatchNorm3d: 3-5             [1, 16, 192, 224, 192]    32\n",
              "│    │    └─GELU: 3-6                    [1, 16, 192, 224, 192]    --\n",
              "│    └─MaxPool3d: 2-2                    [1, 16, 96, 112, 96]      --\n",
              "├─Down: 1-2                              [1, 32, 96, 112, 96]      --\n",
              "│    └─ConvBlock: 2-3                    [1, 32, 96, 112, 96]      --\n",
              "│    │    └─Conv3d: 3-7                  [1, 32, 96, 112, 96]      13,856\n",
              "│    │    └─BatchNorm3d: 3-8             [1, 32, 96, 112, 96]      64\n",
              "│    │    └─GELU: 3-9                    [1, 32, 96, 112, 96]      --\n",
              "│    │    └─Conv3d: 3-10                 [1, 32, 96, 112, 96]      27,680\n",
              "│    │    └─BatchNorm3d: 3-11            [1, 32, 96, 112, 96]      64\n",
              "│    │    └─GELU: 3-12                   [1, 32, 96, 112, 96]      --\n",
              "│    └─MaxPool3d: 2-4                    [1, 32, 48, 56, 48]       --\n",
              "├─Down: 1-3                              [1, 64, 48, 56, 48]       --\n",
              "│    └─ConvBlock: 2-5                    [1, 64, 48, 56, 48]       --\n",
              "│    │    └─Conv3d: 3-13                 [1, 64, 48, 56, 48]       55,360\n",
              "│    │    └─BatchNorm3d: 3-14            [1, 64, 48, 56, 48]       128\n",
              "│    │    └─GELU: 3-15                   [1, 64, 48, 56, 48]       --\n",
              "│    │    └─Conv3d: 3-16                 [1, 64, 48, 56, 48]       110,656\n",
              "│    │    └─BatchNorm3d: 3-17            [1, 64, 48, 56, 48]       128\n",
              "│    │    └─GELU: 3-18                   [1, 64, 48, 56, 48]       --\n",
              "│    └─MaxPool3d: 2-6                    [1, 64, 24, 28, 24]       --\n",
              "├─Down: 1-4                              [1, 128, 24, 28, 24]      --\n",
              "│    └─ConvBlock: 2-7                    [1, 128, 24, 28, 24]      --\n",
              "│    │    └─Conv3d: 3-19                 [1, 128, 24, 28, 24]      221,312\n",
              "│    │    └─BatchNorm3d: 3-20            [1, 128, 24, 28, 24]      256\n",
              "│    │    └─GELU: 3-21                   [1, 128, 24, 28, 24]      --\n",
              "│    │    └─Conv3d: 3-22                 [1, 128, 24, 28, 24]      442,496\n",
              "│    │    └─BatchNorm3d: 3-23            [1, 128, 24, 28, 24]      256\n",
              "│    │    └─GELU: 3-24                   [1, 128, 24, 28, 24]      --\n",
              "│    └─MaxPool3d: 2-8                    [1, 128, 12, 14, 12]      --\n",
              "├─ConvBlock: 1-5                         [1, 256, 12, 14, 12]      --\n",
              "│    └─Conv3d: 2-9                       [1, 256, 12, 14, 12]      884,992\n",
              "│    └─BatchNorm3d: 2-10                 [1, 256, 12, 14, 12]      512\n",
              "│    └─GELU: 2-11                        [1, 256, 12, 14, 12]      --\n",
              "│    └─Conv3d: 2-12                      [1, 256, 12, 14, 12]      1,769,728\n",
              "│    └─BatchNorm3d: 2-13                 [1, 256, 12, 14, 12]      512\n",
              "│    └─GELU: 2-14                        [1, 256, 12, 14, 12]      --\n",
              "├─Up: 1-6                                [1, 128, 24, 28, 24]      --\n",
              "│    └─ConvTranspose3d: 2-15             [1, 128, 24, 28, 24]      262,272\n",
              "│    └─ConvBlock: 2-16                   [1, 128, 24, 28, 24]      --\n",
              "│    │    └─Conv3d: 3-25                 [1, 128, 24, 28, 24]      884,864\n",
              "│    │    └─BatchNorm3d: 3-26            [1, 128, 24, 28, 24]      256\n",
              "│    │    └─GELU: 3-27                   [1, 128, 24, 28, 24]      --\n",
              "│    │    └─Conv3d: 3-28                 [1, 128, 24, 28, 24]      442,496\n",
              "│    │    └─BatchNorm3d: 3-29            [1, 128, 24, 28, 24]      256\n",
              "│    │    └─GELU: 3-30                   [1, 128, 24, 28, 24]      --\n",
              "├─Up: 1-7                                [1, 64, 48, 56, 48]       --\n",
              "│    └─ConvTranspose3d: 2-17             [1, 64, 48, 56, 48]       65,600\n",
              "│    └─ConvBlock: 2-18                   [1, 64, 48, 56, 48]       --\n",
              "│    │    └─Conv3d: 3-31                 [1, 64, 48, 56, 48]       221,248\n",
              "│    │    └─BatchNorm3d: 3-32            [1, 64, 48, 56, 48]       128\n",
              "│    │    └─GELU: 3-33                   [1, 64, 48, 56, 48]       --\n",
              "│    │    └─Conv3d: 3-34                 [1, 64, 48, 56, 48]       110,656\n",
              "│    │    └─BatchNorm3d: 3-35            [1, 64, 48, 56, 48]       128\n",
              "│    │    └─GELU: 3-36                   [1, 64, 48, 56, 48]       --\n",
              "├─Up: 1-8                                [1, 32, 96, 112, 96]      --\n",
              "│    └─ConvTranspose3d: 2-19             [1, 32, 96, 112, 96]      16,416\n",
              "│    └─ConvBlock: 2-20                   [1, 32, 96, 112, 96]      --\n",
              "│    │    └─Conv3d: 3-37                 [1, 32, 96, 112, 96]      55,328\n",
              "│    │    └─BatchNorm3d: 3-38            [1, 32, 96, 112, 96]      64\n",
              "│    │    └─GELU: 3-39                   [1, 32, 96, 112, 96]      --\n",
              "│    │    └─Conv3d: 3-40                 [1, 32, 96, 112, 96]      27,680\n",
              "│    │    └─BatchNorm3d: 3-41            [1, 32, 96, 112, 96]      64\n",
              "│    │    └─GELU: 3-42                   [1, 32, 96, 112, 96]      --\n",
              "├─Up: 1-9                                [1, 16, 192, 224, 192]    --\n",
              "│    └─ConvTranspose3d: 2-21             [1, 16, 192, 224, 192]    4,112\n",
              "│    └─ConvBlock: 2-22                   [1, 16, 192, 224, 192]    --\n",
              "│    │    └─Conv3d: 3-43                 [1, 16, 192, 224, 192]    13,840\n",
              "│    │    └─BatchNorm3d: 3-44            [1, 16, 192, 224, 192]    32\n",
              "│    │    └─GELU: 3-45                   [1, 16, 192, 224, 192]    --\n",
              "│    │    └─Conv3d: 3-46                 [1, 16, 192, 224, 192]    6,928\n",
              "│    │    └─BatchNorm3d: 3-47            [1, 16, 192, 224, 192]    32\n",
              "│    │    └─GELU: 3-48                   [1, 16, 192, 224, 192]    --\n",
              "├─Conv3d: 1-10                           [1, 1, 192, 224, 192]     17\n",
              "├─Sigmoid: 1-11                          [1, 1, 192, 224, 192]     --\n",
              "==========================================================================================\n",
              "Total params: 5,648,721\n",
              "Trainable params: 5,648,721\n",
              "Non-trainable params: 0\n",
              "Total mult-adds (Units.GIGABYTES): 533.53\n",
              "==========================================================================================\n",
              "Input size (MB): 86.65\n",
              "Forward/backward pass size (MB): 12716.61\n",
              "Params size (MB): 22.59\n",
              "Estimated Total Size (MB): 12825.85\n",
              "=========================================================================================="
            ]
          },
          "metadata": {},
          "execution_count": 21
        }
      ]
    },
    {
      "cell_type": "code",
      "execution_count": null,
      "id": "60727e14-353b-4fd3-9e3e-938472763e2a",
      "metadata": {
        "id": "60727e14-353b-4fd3-9e3e-938472763e2a",
        "colab": {
          "base_uri": "https://localhost:8080/"
        },
        "outputId": "2dc83680-873b-4e86-8389-81d026926b3a"
      },
      "outputs": [
        {
          "output_type": "stream",
          "name": "stdout",
          "text": [
            "Initial memory usage: 21.59 MB\n"
          ]
        }
      ],
      "source": [
        "# Checkpoint to see where the GPU memory overhead is\n",
        "initial_memory = torch.cuda.memory_allocated() / 1024 ** 2  # in MB\n",
        "print(f\"Initial memory usage: {initial_memory:.2f} MB\")"
      ]
    },
    {
      "cell_type": "markdown",
      "id": "be907f2a-2600-407f-8649-42965a1fb3d1",
      "metadata": {
        "id": "be907f2a-2600-407f-8649-42965a1fb3d1"
      },
      "source": [
        "## The Trainer"
      ]
    },
    {
      "cell_type": "code",
      "execution_count": null,
      "id": "a6b5560d-a488-4a2f-89bf-b8e4f5a2eb9b",
      "metadata": {
        "id": "a6b5560d-a488-4a2f-89bf-b8e4f5a2eb9b"
      },
      "outputs": [],
      "source": [
        "# Implementation of the Dice Score\n",
        "def dice_score(pred, target, smooth=1e-6):\n",
        "    \"\"\"\n",
        "    Computes the Dice Loss for binary segmentation.\n",
        "    Args:\n",
        "        pred: Tensor of predictions (batch_size, 1, H, W, D).\n",
        "        target: Tensor of ground truth (batch_size, 1, H, W, D).\n",
        "        smooth: Smoothing factor to avoid division by zero.\n",
        "    Returns:\n",
        "        Scalar Dice Loss.\n",
        "    \"\"\"\n",
        "    # print(f\"Pred shape: {pred.shape}\")\n",
        "    # print(f\"Target shape: {target.shape}\")\n",
        "\n",
        "    # Calculate intersection and union\n",
        "    intersection = (pred * target).sum(dim=(2, 3, 4))\n",
        "    union = pred.sum(dim=(2, 3, 4)) + target.sum(dim=(2, 3, 4))\n",
        "\n",
        "    # Compute Dice Coefficient\n",
        "    dice = (2. * intersection + smooth) / (union + smooth)\n",
        "\n",
        "    # Return DiceScore\n",
        "    return dice.mean()\n",
        "\n",
        "# Implementation of the Dice Loss\n",
        "def dice_loss(pred, target, smooth=1e-6):\n",
        "  return 1 - dice_score(pred, target, smooth)"
      ]
    },
    {
      "cell_type": "code",
      "execution_count": null,
      "id": "9b2d3471-ee79-41ff-b176-929864412593",
      "metadata": {
        "id": "9b2d3471-ee79-41ff-b176-929864412593"
      },
      "outputs": [],
      "source": [
        "# PyTorch Lightning Trainer for the U-Net model\n",
        "import torch.optim as optim\n",
        "\n",
        "class MSLesionSegmentationModel(pl.LightningModule):\n",
        "\n",
        "    def __init__(self, model, checkpoint_dir, lr=1e-4):\n",
        "        super(MSLesionSegmentationModel, self).__init__()\n",
        "        self.model = model\n",
        "        self.lr = lr\n",
        "        self.checkpoint_dir = checkpoint_dir\n",
        "\n",
        "    def forward(self, x):\n",
        "        out = self.model(x)\n",
        "        return out\n",
        "\n",
        "    def training_step(self, batch, batch_idx):\n",
        "        # Separate the input Tensor from the Segmentation Mask\n",
        "        input_tensor, gt = batch\n",
        "        # Forward Pass on the model\n",
        "        y_pred = self(input_tensor)\n",
        "        # Pad the Ground Truth Seg Mask to match the shape of the y_pred\n",
        "        gt = pad_to_match(gt, y_pred.shape)\n",
        "        # Compute DiceLoss\n",
        "        loss = dice_loss(y_pred, gt)\n",
        "\n",
        "        # log the train loss\n",
        "        self.log(\"train_loss\", loss)\n",
        "\n",
        "        return loss\n",
        "\n",
        "    def validation_step(self, batch, batch_idx):\n",
        "        # Separate the input Tensor from the Segmentation Mask\n",
        "        input_tensor, gt = batch\n",
        "        # Forward pass on the model\n",
        "        y_pred = self(input_tensor)\n",
        "        # Pad the Ground Truth Seg Mask to match the shape of the y_pred\n",
        "        gt = pad_to_match(gt, y_pred.shape)\n",
        "        # Compute DiceLoss\n",
        "        loss = dice_loss(y_pred, gt)\n",
        "        # Compute the Mean Dice Score\n",
        "        dicescore = dice_score(y_pred, gt)\n",
        "        # log the val loss\n",
        "        self.log(\"val_loss\", loss)\n",
        "        # log the Mean Dice Score\n",
        "        self.log(\"dice_score\", dicescore)\n",
        "\n",
        "        return loss\n",
        "\n",
        "    def test_step(self, batch, batch_idx):\n",
        "        # Separate the input Tensor from the Segmentation Mask\n",
        "        input_tensor, gt = batch\n",
        "        # Forward pass on the model\n",
        "        y_pred = self(input_tensor)\n",
        "        # Pad the Ground Truth Seg Mask to match the shape of the y_pred\n",
        "        gt = pad_to_match(gt, y_pred.shape)\n",
        "        # Compute DiceLoss\n",
        "        loss = dice_loss(y_pred, gt)\n",
        "\n",
        "        return loss\n",
        "\n",
        "    def configure_optimizers(self):\n",
        "        optimizer = optim.Adam(self.model.parameters(), lr=self.lr)\n",
        "        scheduler = optim.lr_scheduler.StepLR(optimizer, step_size=10, gamma=0.1)\n",
        "        return [optimizer], [scheduler]\n",
        "\n",
        "    def on_train_epoch_end(self):\n",
        "        # Save the model's checkpoint at the end of the epoch\n",
        "        os.makedirs(self.checkpoint_dir, exist_ok=True)\n",
        "\n",
        "        save_path = os.path.join(self.checkpoint_dir, \"unet_best_model.pth\")\n",
        "\n",
        "        scheduler = (\n",
        "          self.trainer.lr_scheduler_configs[0].scheduler\n",
        "          if self.trainer.lr_scheduler_configs else None\n",
        "        )\n",
        "\n",
        "        # Prepare the checkpoint dict\n",
        "        checkpoint = {\n",
        "            'epoch': self.current_epoch,\n",
        "            'model_state_dict': self.model.state_dict(),\n",
        "            'optimizer_state_dict': self.trainer.optimizers[0].state_dict() if self.trainer.optimizers else None,\n",
        "            'scheduler_state_dict': scheduler.state_dict() if scheduler else None,\n",
        "            'learning_rate': self.lr,\n",
        "        }\n",
        "\n",
        "        # Save and flush to disk\n",
        "        with open(save_path, 'wb') as f:\n",
        "            torch.save(checkpoint, f)\n",
        "            f.flush()\n",
        "            os.fsync(f.fileno())"
      ]
    },
    {
      "cell_type": "markdown",
      "id": "0f5b884f-771e-4852-be17-23973479e5a5",
      "metadata": {
        "id": "0f5b884f-771e-4852-be17-23973479e5a5"
      },
      "source": [
        "## The Training"
      ]
    },
    {
      "cell_type": "code",
      "execution_count": null,
      "id": "330d4d97-5326-4dcf-b27e-2f3a57de10f2",
      "metadata": {
        "id": "330d4d97-5326-4dcf-b27e-2f3a57de10f2",
        "colab": {
          "base_uri": "https://localhost:8080/"
        },
        "outputId": "e7760687-b677-4ce4-f71f-5ba8ba63d184"
      },
      "outputs": [
        {
          "output_type": "stream",
          "name": "stderr",
          "text": [
            "\u001b[34m\u001b[1mwandb\u001b[0m: Currently logged in as: \u001b[33mdrnnrw00m10c351s\u001b[0m (\u001b[33mfpv-perceivelab-unict\u001b[0m) to \u001b[32mhttps://api.wandb.ai\u001b[0m. Use \u001b[1m`wandb login --relogin`\u001b[0m to force relogin\n"
          ]
        }
      ],
      "source": [
        "# Register a free account with Weights and Biases, and create a new project in order to obtain an API Key for the training\n",
        "import os\n",
        "import wandb\n",
        "\n",
        "api_key = \"a8135d178a1176283501af79deb74ed278c73806\"\n",
        "\n",
        "# Login to wandb\n",
        "if api_key:\n",
        "    os.environ[\"WANDB_API_KEY\"] = api_key\n",
        "    wandb.login()\n",
        "else:\n",
        "    print(\"❌ WANDB_API_KEY not found in .env file.\")"
      ]
    },
    {
      "cell_type": "code",
      "execution_count": null,
      "id": "dd78050f-09dd-4251-a8b1-468756f2f875",
      "metadata": {
        "id": "dd78050f-09dd-4251-a8b1-468756f2f875"
      },
      "outputs": [],
      "source": [
        "# Setup the Weights and Biases logger\n",
        "import wandb\n",
        "from pytorch_lightning.loggers import WandbLogger\n",
        "\n",
        "wandb_logger = WandbLogger(\n",
        "    project='MSLesSeg-4-ICPR',     # Change to your actual project name\n",
        "    name='colab_UNet_run_1', # A specific run name\n",
        "    log_model=True          # Optional: log model checkpoints\n",
        ")"
      ]
    },
    {
      "cell_type": "code",
      "execution_count": null,
      "id": "1804c28e-27c2-490d-bf6f-83be924e2674",
      "metadata": {
        "id": "1804c28e-27c2-490d-bf6f-83be924e2674"
      },
      "outputs": [],
      "source": [
        "# Set the constant for the maximum number of epochs for the training\n",
        "MAX_EPOCHS = 100"
      ]
    },
    {
      "cell_type": "code",
      "execution_count": null,
      "id": "fe02bc36-efab-409d-9ff4-780ebf605e04",
      "metadata": {
        "id": "fe02bc36-efab-409d-9ff4-780ebf605e04"
      },
      "outputs": [],
      "source": [
        "# Definition of Dataloader hyperparameters (Batch size, seed and num workers)\n",
        "TRAIN_SPLIT = 0.8\n",
        "VAL_SPLIT = 0.2\n",
        "\n",
        "TRAIN_NUM_WORKERS = 0\n",
        "TEST_NUM_WORKERS = 0\n",
        "\n",
        "TRAIN_BATCH_SIZE = 3\n",
        "VAL_BATCH_SIZE = 2\n",
        "TEST_BATCH_SIZE = 3"
      ]
    },
    {
      "cell_type": "code",
      "execution_count": null,
      "id": "094c3a1c-11bf-456a-a77b-8a0eb8698b29",
      "metadata": {
        "id": "094c3a1c-11bf-456a-a77b-8a0eb8698b29",
        "colab": {
          "base_uri": "https://localhost:8080/"
        },
        "outputId": "06dc02aa-566d-4a18-8d42-ba2a461dc9ee"
      },
      "outputs": [
        {
          "output_type": "stream",
          "name": "stderr",
          "text": [
            "INFO:pytorch_lightning.utilities.rank_zero:Using default `ModelCheckpoint`. Consider installing `litmodels` package to enable `LitModelCheckpoint` for automatic upload to the Lightning model registry.\n",
            "INFO:pytorch_lightning.utilities.rank_zero:GPU available: True (cuda), used: True\n",
            "INFO:pytorch_lightning.utilities.rank_zero:TPU available: False, using: 0 TPU cores\n",
            "INFO:pytorch_lightning.utilities.rank_zero:HPU available: False, using: 0 HPUs\n"
          ]
        }
      ],
      "source": [
        "# Create the Trainer object\n",
        "trainer = pl.Trainer(\n",
        "    max_epochs=MAX_EPOCHS,\n",
        "    accelerator=\"gpu\",\n",
        "    devices=1,\n",
        "    logger=wandb_logger,\n",
        "    benchmark=True,  # optimize CUDA kernels for performance\n",
        "    detect_anomaly=False\n",
        ")"
      ]
    },
    {
      "cell_type": "code",
      "execution_count": null,
      "id": "05a9d033-88de-417f-ad1a-1be7b3b3c391",
      "metadata": {
        "id": "05a9d033-88de-417f-ad1a-1be7b3b3c391"
      },
      "outputs": [],
      "source": [
        "# Prepare the data module\n",
        "data_module = MSLesSegDataModule(\n",
        "    root_data_dir=\"gs://mslesseg_4_icpr_bucket/data/02-Tensor-Data/\",\n",
        "    batch_size=TRAIN_BATCH_SIZE,\n",
        "    val_split=VAL_SPLIT,\n",
        "    num_workers=TRAIN_NUM_WORKERS\n",
        ")"
      ]
    },
    {
      "cell_type": "code",
      "execution_count": null,
      "id": "80715b4e-731b-496e-85f4-1f3f31f7c6d1",
      "metadata": {
        "id": "80715b4e-731b-496e-85f4-1f3f31f7c6d1"
      },
      "outputs": [],
      "source": [
        "# Instantiate the PyTorch Lightning Module (wrapper for the PyTorch nn.Module ~ Architecture)\n",
        "lightning_model = MSLesionSegmentationModel(\n",
        "    model=UNet(in_channels=3),\n",
        "    checkpoint_dir=\"./model_checkpoints\"\n",
        ")"
      ]
    },
    {
      "cell_type": "code",
      "execution_count": null,
      "id": "038c95be-0282-431c-b17f-75932d56e760",
      "metadata": {
        "id": "038c95be-0282-431c-b17f-75932d56e760",
        "colab": {
          "base_uri": "https://localhost:8080/"
        },
        "outputId": "244c9f6b-6d92-4d28-b9a1-8a1fcd88e0c5"
      },
      "outputs": [
        {
          "output_type": "stream",
          "name": "stdout",
          "text": [
            "Initial memory usage: 21.59 MB\n"
          ]
        }
      ],
      "source": [
        "# Check the initial memory consuption (GPU) of the project\n",
        "import torch\n",
        "\n",
        "# Check initial GPU memory usage\n",
        "initial_memory = torch.cuda.memory_allocated() / 1024 ** 2  # in MB\n",
        "print(f\"Initial memory usage: {initial_memory:.2f} MB\")"
      ]
    },
    {
      "cell_type": "code",
      "execution_count": null,
      "id": "457b2ccd-6a49-4caa-ba6a-4259aedbc5fd",
      "metadata": {
        "id": "457b2ccd-6a49-4caa-ba6a-4259aedbc5fd",
        "colab": {
          "base_uri": "https://localhost:8080/"
        },
        "outputId": "d23bdca3-f95f-4a74-9aa9-e35606c1b9d2"
      },
      "outputs": [
        {
          "output_type": "stream",
          "name": "stdout",
          "text": [
            "(CUDA) Input tensor size in MB: 82.64 MB\n"
          ]
        }
      ],
      "source": [
        "# Estimated VRAM footprint per CUDA Tensor of shape [B, C, H, W, D]\n",
        "def get_tensor_vram_mb(tensor):\n",
        "    return tensor.element_size() * tensor.nelement() / (1024 ** 2)\n",
        "\n",
        "input_tensor = torch.randn(1, 3, 182, 218, 182).cuda()\n",
        "print(f\"(CUDA) Input tensor size in MB: {get_tensor_vram_mb(input_tensor):.2f} MB\")"
      ]
    },
    {
      "cell_type": "code",
      "execution_count": null,
      "id": "885cca8b-90e4-420d-8785-36a1c2839436",
      "metadata": {
        "id": "885cca8b-90e4-420d-8785-36a1c2839436",
        "colab": {
          "base_uri": "https://localhost:8080/"
        },
        "outputId": "75508cd9-b4dc-4fa5-b905-829ec2c4b28c"
      },
      "outputs": [
        {
          "output_type": "stream",
          "name": "stdout",
          "text": [
            "(CUDA) Model parameters size: 21.55 MB\n"
          ]
        }
      ],
      "source": [
        "# Estimated VRAM footprint for the CUDA model\n",
        "def get_model_param_vram_mb(model):\n",
        "    return sum(p.numel() * p.element_size() for p in model.parameters()) / (1024**2)\n",
        "\n",
        "model = UNet(in_channels=3).cuda()\n",
        "print(f\"(CUDA) Model parameters size: {get_model_param_vram_mb(model):.2f} MB\")"
      ]
    },
    {
      "cell_type": "code",
      "execution_count": null,
      "id": "6YuAGgdYuMjP",
      "metadata": {
        "id": "6YuAGgdYuMjP"
      },
      "outputs": [],
      "source": [
        "!export PYTORCH_CUDA_ALLOC_CONF=expandable_segments:True"
      ]
    },
    {
      "cell_type": "code",
      "source": [
        "import gc\n",
        "\n",
        "gc.collect()\n",
        "torch.cuda.empty_cache()"
      ],
      "metadata": {
        "id": "7Gz33AMkld2L"
      },
      "id": "7Gz33AMkld2L",
      "execution_count": null,
      "outputs": []
    },
    {
      "cell_type": "code",
      "execution_count": null,
      "id": "4cf24dbb-10f4-4a5a-955d-84f46cf566f3",
      "metadata": {
        "id": "4cf24dbb-10f4-4a5a-955d-84f46cf566f3",
        "colab": {
          "base_uri": "https://localhost:8080/",
          "height": 466,
          "referenced_widgets": [
            "6d3696236784440dacc08be1621f5264",
            "ad83ae04a8e44d0c80a2ac52a59b2ea6",
            "228ea10ba1764d198f7c5c063d69d5d8",
            "39b4d76c44dd4fa49f9f1e90c23ff325",
            "adc7e8aad06241d1822c61bf0bd6e864",
            "6ea3f6f640174efc9cbdcbe3e282c5aa",
            "4fa945ff61ea42fe8d49e6c7a446fd8b",
            "fbe8488ed8ab4aa9b0623240be5970d4",
            "8878e6d9f109456899c8b380432844ac",
            "f62064776aa9491ea8abf5289a0b1e98",
            "f63b460ce65d4273b068fa8924e14bb1",
            "e9a463935ea840c39f1537f3eacd40fe",
            "de65305663c64f3b85a96030a8199841",
            "dc8128af777a428e82589b8c1d11c10d",
            "196f2d83164d4f94bfa563ec8cd10136",
            "e16658d80d7e40159d71412bda926049",
            "ba3bf3bb5ab94a91a2c240cd5ca8453a",
            "5ddda0ee412a4da6879cb3d68c388c1b",
            "e4192c8a3be84fdaa7134cb5015eff80",
            "f7260eb10fcb4c70ba649c51534fe790",
            "e4ec55c586d0413bb41ad0f780725425",
            "33523b5786594998b66a0876ffe3cdfd",
            "a860006347b34af8bcb903d689b97cae",
            "0168d747ad714c2d99fd5ade835b9311",
            "f1e4a42bb47241a799f0b104f87adb38",
            "3585049d111646cd873ae99ecca1be0c",
            "6eeee49d169c4278aea76b141dca2cda",
            "b7429d806b4c4f52873023a49ab105bb",
            "09fb9bfa424e45a7acae9eeaf861a26e",
            "a3423d603ece4ee5972cefcf84ef4568",
            "f369d1596c3f4fa68d670f06cec24eab",
            "5f40313480b24d628195456f066e4e3a",
            "e56f741e5ae14f239cd3c93613d5bc29",
            "3033cd0c441f4b6f9d22cfcbecde1264",
            "459a69021a644ecb857e6a15adfb85a9",
            "a05415ed062e4430b9e03ebc692ce67a",
            "9233566b2f594693b60420b8f467fa98",
            "51903157d0a045f09bbd5730e8873d4f",
            "5631cc4637f340cab71ba219bdc69cfc",
            "57391f4f61b743c1bf443e5934eac070",
            "fa716ef342954feea039ecd4771011cf",
            "ce560d8712d147149b745f60476d8e9d",
            "e1c943fc9d234f17ab2c2fde098e9652",
            "882a7e7874b94fe88619ffd1e025b9b2",
            "0a5fabf2d8af426d95ff3df5b907c733",
            "561b27235c574fb2969cae2dab670287",
            "a501633498114e0799ed10e8d1b688aa",
            "d607bab273a34fe9b9d267275e3596df",
            "5a37ac7eb2a3408e8df445313cb004a0",
            "a1e16f8677df4584b586b76bf398bc77",
            "5bf458ca2d4941d58df1534f1d08a959",
            "c9e78c8dc21d49d194ffe47b1e6e7e51",
            "69491e663f794e3881a7613237154c46",
            "4069c28ddca74abaa1e3ed81764b7e4e",
            "d230f11a792a40ec9c83490a267cf20f",
            "a75949bd734248588d111bd779791afa",
            "249d106f4db6466690a4719ccb7380dd",
            "3082ef2742f646e2af50c08302eab579",
            "93f7c7c96b2c49d3911fc531b0075dec",
            "31e6e3ad49ac4889be4b72565b99b7ba",
            "4e91787cd8a044359edf5a3de8ea089c",
            "5ba5bd6ad15640eead3662eb24bab2e0",
            "2270e1fe3aad497b9a99bf2c459b77f0",
            "f7d95d089cb14038981feaad9c3e37c0",
            "8082ca9f2d17466d800e65309453c78b",
            "869c288da87642efa9ec22994d4337ca"
          ]
        },
        "outputId": "16c5c7cd-2759-47ce-cc0f-073537ecdedb"
      },
      "outputs": [
        {
          "output_type": "stream",
          "name": "stderr",
          "text": [
            "INFO:pytorch_lightning.utilities.rank_zero:You are using a CUDA device ('NVIDIA A100-SXM4-40GB') that has Tensor Cores. To properly utilize them, you should set `torch.set_float32_matmul_precision('medium' | 'high')` which will trade-off precision for performance. For more details, read https://pytorch.org/docs/stable/generated/torch.set_float32_matmul_precision.html#torch.set_float32_matmul_precision\n"
          ]
        },
        {
          "output_type": "display_data",
          "data": {
            "text/plain": [
              "<IPython.core.display.HTML object>"
            ],
            "text/html": [
              "Tracking run with wandb version 0.19.10"
            ]
          },
          "metadata": {}
        },
        {
          "output_type": "display_data",
          "data": {
            "text/plain": [
              "<IPython.core.display.HTML object>"
            ],
            "text/html": [
              "Run data is saved locally in <code>./wandb/run-20250510_063737-sacyo1ox</code>"
            ]
          },
          "metadata": {}
        },
        {
          "output_type": "display_data",
          "data": {
            "text/plain": [
              "<IPython.core.display.HTML object>"
            ],
            "text/html": [
              "Syncing run <strong><a href='https://wandb.ai/fpv-perceivelab-unict/MSLesSeg-4-ICPR/runs/sacyo1ox' target=\"_blank\">colab_UNet_run_1</a></strong> to <a href='https://wandb.ai/fpv-perceivelab-unict/MSLesSeg-4-ICPR' target=\"_blank\">Weights & Biases</a> (<a href='https://wandb.me/developer-guide' target=\"_blank\">docs</a>)<br>"
            ]
          },
          "metadata": {}
        },
        {
          "output_type": "display_data",
          "data": {
            "text/plain": [
              "<IPython.core.display.HTML object>"
            ],
            "text/html": [
              " View project at <a href='https://wandb.ai/fpv-perceivelab-unict/MSLesSeg-4-ICPR' target=\"_blank\">https://wandb.ai/fpv-perceivelab-unict/MSLesSeg-4-ICPR</a>"
            ]
          },
          "metadata": {}
        },
        {
          "output_type": "display_data",
          "data": {
            "text/plain": [
              "<IPython.core.display.HTML object>"
            ],
            "text/html": [
              " View run at <a href='https://wandb.ai/fpv-perceivelab-unict/MSLesSeg-4-ICPR/runs/sacyo1ox' target=\"_blank\">https://wandb.ai/fpv-perceivelab-unict/MSLesSeg-4-ICPR/runs/sacyo1ox</a>"
            ]
          },
          "metadata": {}
        },
        {
          "output_type": "stream",
          "name": "stderr",
          "text": [
            "INFO:pytorch_lightning.accelerators.cuda:LOCAL_RANK: 0 - CUDA_VISIBLE_DEVICES: [0]\n",
            "INFO:pytorch_lightning.callbacks.model_summary:\n",
            "  | Name  | Type | Params | Mode \n",
            "---------------------------------------\n",
            "0 | model | UNet | 5.6 M  | train\n",
            "---------------------------------------\n",
            "5.6 M     Trainable params\n",
            "0         Non-trainable params\n",
            "5.6 M     Total params\n",
            "22.595    Total estimated model params size (MB)\n",
            "82        Modules in train mode\n",
            "0         Modules in eval mode\n"
          ]
        },
        {
          "output_type": "display_data",
          "data": {
            "text/plain": [
              "Sanity Checking: |          | 0/? [00:00<?, ?it/s]"
            ],
            "application/vnd.jupyter.widget-view+json": {
              "version_major": 2,
              "version_minor": 0,
              "model_id": "6d3696236784440dacc08be1621f5264"
            }
          },
          "metadata": {}
        },
        {
          "output_type": "stream",
          "name": "stderr",
          "text": [
            "/usr/local/lib/python3.11/dist-packages/pytorch_lightning/trainer/connectors/data_connector.py:425: The 'val_dataloader' does not have many workers which may be a bottleneck. Consider increasing the value of the `num_workers` argument` to `num_workers=11` in the `DataLoader` to improve performance.\n",
            "/usr/local/lib/python3.11/dist-packages/pytorch_lightning/trainer/connectors/data_connector.py:425: The 'train_dataloader' does not have many workers which may be a bottleneck. Consider increasing the value of the `num_workers` argument` to `num_workers=11` in the `DataLoader` to improve performance.\n",
            "/usr/local/lib/python3.11/dist-packages/pytorch_lightning/loops/fit_loop.py:310: The number of training batches (25) is smaller than the logging interval Trainer(log_every_n_steps=50). Set a lower value for log_every_n_steps if you want to see logs for the training epoch.\n"
          ]
        },
        {
          "output_type": "display_data",
          "data": {
            "text/plain": [
              "Training: |          | 0/? [00:00<?, ?it/s]"
            ],
            "application/vnd.jupyter.widget-view+json": {
              "version_major": 2,
              "version_minor": 0,
              "model_id": "e9a463935ea840c39f1537f3eacd40fe"
            }
          },
          "metadata": {}
        },
        {
          "output_type": "display_data",
          "data": {
            "text/plain": [
              "Validation: |          | 0/? [00:00<?, ?it/s]"
            ],
            "application/vnd.jupyter.widget-view+json": {
              "version_major": 2,
              "version_minor": 0,
              "model_id": "a860006347b34af8bcb903d689b97cae"
            }
          },
          "metadata": {}
        },
        {
          "output_type": "display_data",
          "data": {
            "text/plain": [
              "Validation: |          | 0/? [00:00<?, ?it/s]"
            ],
            "application/vnd.jupyter.widget-view+json": {
              "version_major": 2,
              "version_minor": 0,
              "model_id": "3033cd0c441f4b6f9d22cfcbecde1264"
            }
          },
          "metadata": {}
        },
        {
          "output_type": "display_data",
          "data": {
            "text/plain": [
              "Validation: |          | 0/? [00:00<?, ?it/s]"
            ],
            "application/vnd.jupyter.widget-view+json": {
              "version_major": 2,
              "version_minor": 0,
              "model_id": "0a5fabf2d8af426d95ff3df5b907c733"
            }
          },
          "metadata": {}
        },
        {
          "output_type": "display_data",
          "data": {
            "text/plain": [
              "Validation: |          | 0/? [00:00<?, ?it/s]"
            ],
            "application/vnd.jupyter.widget-view+json": {
              "version_major": 2,
              "version_minor": 0,
              "model_id": "a75949bd734248588d111bd779791afa"
            }
          },
          "metadata": {}
        }
      ],
      "source": [
        "# Train (fit) the model\n",
        "trainer.fit(lightning_model, datamodule=data_module)"
      ]
    },
    {
      "cell_type": "code",
      "execution_count": null,
      "id": "3886c494-2f08-4fb4-868e-ce9e4866b225",
      "metadata": {
        "id": "3886c494-2f08-4fb4-868e-ce9e4866b225"
      },
      "outputs": [],
      "source": [
        "# Load the best model's checkpoint and evaluate it"
      ]
    },
    {
      "cell_type": "code",
      "execution_count": null,
      "id": "78ee0a5d-61d4-4561-a731-b24483798f0f",
      "metadata": {
        "id": "78ee0a5d-61d4-4561-a731-b24483798f0f"
      },
      "outputs": [],
      "source": [
        "# Evaluate the model on the test set\n",
        "trainer.test(model, test_dataloader=data_module)"
      ]
    },
    {
      "cell_type": "markdown",
      "source": [
        "---"
      ],
      "metadata": {
        "id": "V3rX_eFDUmTM"
      },
      "id": "V3rX_eFDUmTM"
    }
  ],
  "metadata": {
    "accelerator": "GPU",
    "colab": {
      "gpuType": "A100",
      "provenance": []
    },
    "kernelspec": {
      "display_name": "Python 3",
      "name": "python3"
    },
    "language_info": {
      "codemirror_mode": {
        "name": "ipython",
        "version": 3
      },
      "file_extension": ".py",
      "mimetype": "text/x-python",
      "name": "python",
      "nbconvert_exporter": "python",
      "pygments_lexer": "ipython3",
      "version": "3.11.8"
    },
    "widgets": {
      "application/vnd.jupyter.widget-state+json": {
        "6d3696236784440dacc08be1621f5264": {
          "model_module": "@jupyter-widgets/controls",
          "model_name": "HBoxModel",
          "model_module_version": "1.5.0",
          "state": {
            "_dom_classes": [],
            "_model_module": "@jupyter-widgets/controls",
            "_model_module_version": "1.5.0",
            "_model_name": "HBoxModel",
            "_view_count": null,
            "_view_module": "@jupyter-widgets/controls",
            "_view_module_version": "1.5.0",
            "_view_name": "HBoxView",
            "box_style": "",
            "children": [
              "IPY_MODEL_ad83ae04a8e44d0c80a2ac52a59b2ea6",
              "IPY_MODEL_228ea10ba1764d198f7c5c063d69d5d8",
              "IPY_MODEL_39b4d76c44dd4fa49f9f1e90c23ff325"
            ],
            "layout": "IPY_MODEL_adc7e8aad06241d1822c61bf0bd6e864"
          }
        },
        "ad83ae04a8e44d0c80a2ac52a59b2ea6": {
          "model_module": "@jupyter-widgets/controls",
          "model_name": "HTMLModel",
          "model_module_version": "1.5.0",
          "state": {
            "_dom_classes": [],
            "_model_module": "@jupyter-widgets/controls",
            "_model_module_version": "1.5.0",
            "_model_name": "HTMLModel",
            "_view_count": null,
            "_view_module": "@jupyter-widgets/controls",
            "_view_module_version": "1.5.0",
            "_view_name": "HTMLView",
            "description": "",
            "description_tooltip": null,
            "layout": "IPY_MODEL_6ea3f6f640174efc9cbdcbe3e282c5aa",
            "placeholder": "​",
            "style": "IPY_MODEL_4fa945ff61ea42fe8d49e6c7a446fd8b",
            "value": "Sanity Checking DataLoader 0: 100%"
          }
        },
        "228ea10ba1764d198f7c5c063d69d5d8": {
          "model_module": "@jupyter-widgets/controls",
          "model_name": "FloatProgressModel",
          "model_module_version": "1.5.0",
          "state": {
            "_dom_classes": [],
            "_model_module": "@jupyter-widgets/controls",
            "_model_module_version": "1.5.0",
            "_model_name": "FloatProgressModel",
            "_view_count": null,
            "_view_module": "@jupyter-widgets/controls",
            "_view_module_version": "1.5.0",
            "_view_name": "ProgressView",
            "bar_style": "",
            "description": "",
            "description_tooltip": null,
            "layout": "IPY_MODEL_fbe8488ed8ab4aa9b0623240be5970d4",
            "max": 2,
            "min": 0,
            "orientation": "horizontal",
            "style": "IPY_MODEL_8878e6d9f109456899c8b380432844ac",
            "value": 2
          }
        },
        "39b4d76c44dd4fa49f9f1e90c23ff325": {
          "model_module": "@jupyter-widgets/controls",
          "model_name": "HTMLModel",
          "model_module_version": "1.5.0",
          "state": {
            "_dom_classes": [],
            "_model_module": "@jupyter-widgets/controls",
            "_model_module_version": "1.5.0",
            "_model_name": "HTMLModel",
            "_view_count": null,
            "_view_module": "@jupyter-widgets/controls",
            "_view_module_version": "1.5.0",
            "_view_name": "HTMLView",
            "description": "",
            "description_tooltip": null,
            "layout": "IPY_MODEL_f62064776aa9491ea8abf5289a0b1e98",
            "placeholder": "​",
            "style": "IPY_MODEL_f63b460ce65d4273b068fa8924e14bb1",
            "value": " 2/2 [01:20&lt;00:00,  0.02it/s]"
          }
        },
        "adc7e8aad06241d1822c61bf0bd6e864": {
          "model_module": "@jupyter-widgets/base",
          "model_name": "LayoutModel",
          "model_module_version": "1.2.0",
          "state": {
            "_model_module": "@jupyter-widgets/base",
            "_model_module_version": "1.2.0",
            "_model_name": "LayoutModel",
            "_view_count": null,
            "_view_module": "@jupyter-widgets/base",
            "_view_module_version": "1.2.0",
            "_view_name": "LayoutView",
            "align_content": null,
            "align_items": null,
            "align_self": null,
            "border": null,
            "bottom": null,
            "display": "inline-flex",
            "flex": null,
            "flex_flow": "row wrap",
            "grid_area": null,
            "grid_auto_columns": null,
            "grid_auto_flow": null,
            "grid_auto_rows": null,
            "grid_column": null,
            "grid_gap": null,
            "grid_row": null,
            "grid_template_areas": null,
            "grid_template_columns": null,
            "grid_template_rows": null,
            "height": null,
            "justify_content": null,
            "justify_items": null,
            "left": null,
            "margin": null,
            "max_height": null,
            "max_width": null,
            "min_height": null,
            "min_width": null,
            "object_fit": null,
            "object_position": null,
            "order": null,
            "overflow": null,
            "overflow_x": null,
            "overflow_y": null,
            "padding": null,
            "right": null,
            "top": null,
            "visibility": "hidden",
            "width": "100%"
          }
        },
        "6ea3f6f640174efc9cbdcbe3e282c5aa": {
          "model_module": "@jupyter-widgets/base",
          "model_name": "LayoutModel",
          "model_module_version": "1.2.0",
          "state": {
            "_model_module": "@jupyter-widgets/base",
            "_model_module_version": "1.2.0",
            "_model_name": "LayoutModel",
            "_view_count": null,
            "_view_module": "@jupyter-widgets/base",
            "_view_module_version": "1.2.0",
            "_view_name": "LayoutView",
            "align_content": null,
            "align_items": null,
            "align_self": null,
            "border": null,
            "bottom": null,
            "display": null,
            "flex": null,
            "flex_flow": null,
            "grid_area": null,
            "grid_auto_columns": null,
            "grid_auto_flow": null,
            "grid_auto_rows": null,
            "grid_column": null,
            "grid_gap": null,
            "grid_row": null,
            "grid_template_areas": null,
            "grid_template_columns": null,
            "grid_template_rows": null,
            "height": null,
            "justify_content": null,
            "justify_items": null,
            "left": null,
            "margin": null,
            "max_height": null,
            "max_width": null,
            "min_height": null,
            "min_width": null,
            "object_fit": null,
            "object_position": null,
            "order": null,
            "overflow": null,
            "overflow_x": null,
            "overflow_y": null,
            "padding": null,
            "right": null,
            "top": null,
            "visibility": null,
            "width": null
          }
        },
        "4fa945ff61ea42fe8d49e6c7a446fd8b": {
          "model_module": "@jupyter-widgets/controls",
          "model_name": "DescriptionStyleModel",
          "model_module_version": "1.5.0",
          "state": {
            "_model_module": "@jupyter-widgets/controls",
            "_model_module_version": "1.5.0",
            "_model_name": "DescriptionStyleModel",
            "_view_count": null,
            "_view_module": "@jupyter-widgets/base",
            "_view_module_version": "1.2.0",
            "_view_name": "StyleView",
            "description_width": ""
          }
        },
        "fbe8488ed8ab4aa9b0623240be5970d4": {
          "model_module": "@jupyter-widgets/base",
          "model_name": "LayoutModel",
          "model_module_version": "1.2.0",
          "state": {
            "_model_module": "@jupyter-widgets/base",
            "_model_module_version": "1.2.0",
            "_model_name": "LayoutModel",
            "_view_count": null,
            "_view_module": "@jupyter-widgets/base",
            "_view_module_version": "1.2.0",
            "_view_name": "LayoutView",
            "align_content": null,
            "align_items": null,
            "align_self": null,
            "border": null,
            "bottom": null,
            "display": null,
            "flex": "2",
            "flex_flow": null,
            "grid_area": null,
            "grid_auto_columns": null,
            "grid_auto_flow": null,
            "grid_auto_rows": null,
            "grid_column": null,
            "grid_gap": null,
            "grid_row": null,
            "grid_template_areas": null,
            "grid_template_columns": null,
            "grid_template_rows": null,
            "height": null,
            "justify_content": null,
            "justify_items": null,
            "left": null,
            "margin": null,
            "max_height": null,
            "max_width": null,
            "min_height": null,
            "min_width": null,
            "object_fit": null,
            "object_position": null,
            "order": null,
            "overflow": null,
            "overflow_x": null,
            "overflow_y": null,
            "padding": null,
            "right": null,
            "top": null,
            "visibility": null,
            "width": null
          }
        },
        "8878e6d9f109456899c8b380432844ac": {
          "model_module": "@jupyter-widgets/controls",
          "model_name": "ProgressStyleModel",
          "model_module_version": "1.5.0",
          "state": {
            "_model_module": "@jupyter-widgets/controls",
            "_model_module_version": "1.5.0",
            "_model_name": "ProgressStyleModel",
            "_view_count": null,
            "_view_module": "@jupyter-widgets/base",
            "_view_module_version": "1.2.0",
            "_view_name": "StyleView",
            "bar_color": null,
            "description_width": ""
          }
        },
        "f62064776aa9491ea8abf5289a0b1e98": {
          "model_module": "@jupyter-widgets/base",
          "model_name": "LayoutModel",
          "model_module_version": "1.2.0",
          "state": {
            "_model_module": "@jupyter-widgets/base",
            "_model_module_version": "1.2.0",
            "_model_name": "LayoutModel",
            "_view_count": null,
            "_view_module": "@jupyter-widgets/base",
            "_view_module_version": "1.2.0",
            "_view_name": "LayoutView",
            "align_content": null,
            "align_items": null,
            "align_self": null,
            "border": null,
            "bottom": null,
            "display": null,
            "flex": null,
            "flex_flow": null,
            "grid_area": null,
            "grid_auto_columns": null,
            "grid_auto_flow": null,
            "grid_auto_rows": null,
            "grid_column": null,
            "grid_gap": null,
            "grid_row": null,
            "grid_template_areas": null,
            "grid_template_columns": null,
            "grid_template_rows": null,
            "height": null,
            "justify_content": null,
            "justify_items": null,
            "left": null,
            "margin": null,
            "max_height": null,
            "max_width": null,
            "min_height": null,
            "min_width": null,
            "object_fit": null,
            "object_position": null,
            "order": null,
            "overflow": null,
            "overflow_x": null,
            "overflow_y": null,
            "padding": null,
            "right": null,
            "top": null,
            "visibility": null,
            "width": null
          }
        },
        "f63b460ce65d4273b068fa8924e14bb1": {
          "model_module": "@jupyter-widgets/controls",
          "model_name": "DescriptionStyleModel",
          "model_module_version": "1.5.0",
          "state": {
            "_model_module": "@jupyter-widgets/controls",
            "_model_module_version": "1.5.0",
            "_model_name": "DescriptionStyleModel",
            "_view_count": null,
            "_view_module": "@jupyter-widgets/base",
            "_view_module_version": "1.2.0",
            "_view_name": "StyleView",
            "description_width": ""
          }
        },
        "e9a463935ea840c39f1537f3eacd40fe": {
          "model_module": "@jupyter-widgets/controls",
          "model_name": "HBoxModel",
          "model_module_version": "1.5.0",
          "state": {
            "_dom_classes": [],
            "_model_module": "@jupyter-widgets/controls",
            "_model_module_version": "1.5.0",
            "_model_name": "HBoxModel",
            "_view_count": null,
            "_view_module": "@jupyter-widgets/controls",
            "_view_module_version": "1.5.0",
            "_view_name": "HBoxView",
            "box_style": "",
            "children": [
              "IPY_MODEL_de65305663c64f3b85a96030a8199841",
              "IPY_MODEL_dc8128af777a428e82589b8c1d11c10d",
              "IPY_MODEL_196f2d83164d4f94bfa563ec8cd10136"
            ],
            "layout": "IPY_MODEL_e16658d80d7e40159d71412bda926049"
          }
        },
        "de65305663c64f3b85a96030a8199841": {
          "model_module": "@jupyter-widgets/controls",
          "model_name": "HTMLModel",
          "model_module_version": "1.5.0",
          "state": {
            "_dom_classes": [],
            "_model_module": "@jupyter-widgets/controls",
            "_model_module_version": "1.5.0",
            "_model_name": "HTMLModel",
            "_view_count": null,
            "_view_module": "@jupyter-widgets/controls",
            "_view_module_version": "1.5.0",
            "_view_name": "HTMLView",
            "description": "",
            "description_tooltip": null,
            "layout": "IPY_MODEL_ba3bf3bb5ab94a91a2c240cd5ca8453a",
            "placeholder": "​",
            "style": "IPY_MODEL_5ddda0ee412a4da6879cb3d68c388c1b",
            "value": "Epoch 3: 100%"
          }
        },
        "dc8128af777a428e82589b8c1d11c10d": {
          "model_module": "@jupyter-widgets/controls",
          "model_name": "FloatProgressModel",
          "model_module_version": "1.5.0",
          "state": {
            "_dom_classes": [],
            "_model_module": "@jupyter-widgets/controls",
            "_model_module_version": "1.5.0",
            "_model_name": "FloatProgressModel",
            "_view_count": null,
            "_view_module": "@jupyter-widgets/controls",
            "_view_module_version": "1.5.0",
            "_view_name": "ProgressView",
            "bar_style": "",
            "description": "",
            "description_tooltip": null,
            "layout": "IPY_MODEL_e4192c8a3be84fdaa7134cb5015eff80",
            "max": 25,
            "min": 0,
            "orientation": "horizontal",
            "style": "IPY_MODEL_f7260eb10fcb4c70ba649c51534fe790",
            "value": 25
          }
        },
        "196f2d83164d4f94bfa563ec8cd10136": {
          "model_module": "@jupyter-widgets/controls",
          "model_name": "HTMLModel",
          "model_module_version": "1.5.0",
          "state": {
            "_dom_classes": [],
            "_model_module": "@jupyter-widgets/controls",
            "_model_module_version": "1.5.0",
            "_model_name": "HTMLModel",
            "_view_count": null,
            "_view_module": "@jupyter-widgets/controls",
            "_view_module_version": "1.5.0",
            "_view_name": "HTMLView",
            "description": "",
            "description_tooltip": null,
            "layout": "IPY_MODEL_e4ec55c586d0413bb41ad0f780725425",
            "placeholder": "​",
            "style": "IPY_MODEL_33523b5786594998b66a0876ffe3cdfd",
            "value": " 25/25 [16:29&lt;00:00,  0.03it/s, v_num=o1ox]"
          }
        },
        "e16658d80d7e40159d71412bda926049": {
          "model_module": "@jupyter-widgets/base",
          "model_name": "LayoutModel",
          "model_module_version": "1.2.0",
          "state": {
            "_model_module": "@jupyter-widgets/base",
            "_model_module_version": "1.2.0",
            "_model_name": "LayoutModel",
            "_view_count": null,
            "_view_module": "@jupyter-widgets/base",
            "_view_module_version": "1.2.0",
            "_view_name": "LayoutView",
            "align_content": null,
            "align_items": null,
            "align_self": null,
            "border": null,
            "bottom": null,
            "display": "inline-flex",
            "flex": null,
            "flex_flow": "row wrap",
            "grid_area": null,
            "grid_auto_columns": null,
            "grid_auto_flow": null,
            "grid_auto_rows": null,
            "grid_column": null,
            "grid_gap": null,
            "grid_row": null,
            "grid_template_areas": null,
            "grid_template_columns": null,
            "grid_template_rows": null,
            "height": null,
            "justify_content": null,
            "justify_items": null,
            "left": null,
            "margin": null,
            "max_height": null,
            "max_width": null,
            "min_height": null,
            "min_width": null,
            "object_fit": null,
            "object_position": null,
            "order": null,
            "overflow": null,
            "overflow_x": null,
            "overflow_y": null,
            "padding": null,
            "right": null,
            "top": null,
            "visibility": null,
            "width": "100%"
          }
        },
        "ba3bf3bb5ab94a91a2c240cd5ca8453a": {
          "model_module": "@jupyter-widgets/base",
          "model_name": "LayoutModel",
          "model_module_version": "1.2.0",
          "state": {
            "_model_module": "@jupyter-widgets/base",
            "_model_module_version": "1.2.0",
            "_model_name": "LayoutModel",
            "_view_count": null,
            "_view_module": "@jupyter-widgets/base",
            "_view_module_version": "1.2.0",
            "_view_name": "LayoutView",
            "align_content": null,
            "align_items": null,
            "align_self": null,
            "border": null,
            "bottom": null,
            "display": null,
            "flex": null,
            "flex_flow": null,
            "grid_area": null,
            "grid_auto_columns": null,
            "grid_auto_flow": null,
            "grid_auto_rows": null,
            "grid_column": null,
            "grid_gap": null,
            "grid_row": null,
            "grid_template_areas": null,
            "grid_template_columns": null,
            "grid_template_rows": null,
            "height": null,
            "justify_content": null,
            "justify_items": null,
            "left": null,
            "margin": null,
            "max_height": null,
            "max_width": null,
            "min_height": null,
            "min_width": null,
            "object_fit": null,
            "object_position": null,
            "order": null,
            "overflow": null,
            "overflow_x": null,
            "overflow_y": null,
            "padding": null,
            "right": null,
            "top": null,
            "visibility": null,
            "width": null
          }
        },
        "5ddda0ee412a4da6879cb3d68c388c1b": {
          "model_module": "@jupyter-widgets/controls",
          "model_name": "DescriptionStyleModel",
          "model_module_version": "1.5.0",
          "state": {
            "_model_module": "@jupyter-widgets/controls",
            "_model_module_version": "1.5.0",
            "_model_name": "DescriptionStyleModel",
            "_view_count": null,
            "_view_module": "@jupyter-widgets/base",
            "_view_module_version": "1.2.0",
            "_view_name": "StyleView",
            "description_width": ""
          }
        },
        "e4192c8a3be84fdaa7134cb5015eff80": {
          "model_module": "@jupyter-widgets/base",
          "model_name": "LayoutModel",
          "model_module_version": "1.2.0",
          "state": {
            "_model_module": "@jupyter-widgets/base",
            "_model_module_version": "1.2.0",
            "_model_name": "LayoutModel",
            "_view_count": null,
            "_view_module": "@jupyter-widgets/base",
            "_view_module_version": "1.2.0",
            "_view_name": "LayoutView",
            "align_content": null,
            "align_items": null,
            "align_self": null,
            "border": null,
            "bottom": null,
            "display": null,
            "flex": "2",
            "flex_flow": null,
            "grid_area": null,
            "grid_auto_columns": null,
            "grid_auto_flow": null,
            "grid_auto_rows": null,
            "grid_column": null,
            "grid_gap": null,
            "grid_row": null,
            "grid_template_areas": null,
            "grid_template_columns": null,
            "grid_template_rows": null,
            "height": null,
            "justify_content": null,
            "justify_items": null,
            "left": null,
            "margin": null,
            "max_height": null,
            "max_width": null,
            "min_height": null,
            "min_width": null,
            "object_fit": null,
            "object_position": null,
            "order": null,
            "overflow": null,
            "overflow_x": null,
            "overflow_y": null,
            "padding": null,
            "right": null,
            "top": null,
            "visibility": null,
            "width": null
          }
        },
        "f7260eb10fcb4c70ba649c51534fe790": {
          "model_module": "@jupyter-widgets/controls",
          "model_name": "ProgressStyleModel",
          "model_module_version": "1.5.0",
          "state": {
            "_model_module": "@jupyter-widgets/controls",
            "_model_module_version": "1.5.0",
            "_model_name": "ProgressStyleModel",
            "_view_count": null,
            "_view_module": "@jupyter-widgets/base",
            "_view_module_version": "1.2.0",
            "_view_name": "StyleView",
            "bar_color": null,
            "description_width": ""
          }
        },
        "e4ec55c586d0413bb41ad0f780725425": {
          "model_module": "@jupyter-widgets/base",
          "model_name": "LayoutModel",
          "model_module_version": "1.2.0",
          "state": {
            "_model_module": "@jupyter-widgets/base",
            "_model_module_version": "1.2.0",
            "_model_name": "LayoutModel",
            "_view_count": null,
            "_view_module": "@jupyter-widgets/base",
            "_view_module_version": "1.2.0",
            "_view_name": "LayoutView",
            "align_content": null,
            "align_items": null,
            "align_self": null,
            "border": null,
            "bottom": null,
            "display": null,
            "flex": null,
            "flex_flow": null,
            "grid_area": null,
            "grid_auto_columns": null,
            "grid_auto_flow": null,
            "grid_auto_rows": null,
            "grid_column": null,
            "grid_gap": null,
            "grid_row": null,
            "grid_template_areas": null,
            "grid_template_columns": null,
            "grid_template_rows": null,
            "height": null,
            "justify_content": null,
            "justify_items": null,
            "left": null,
            "margin": null,
            "max_height": null,
            "max_width": null,
            "min_height": null,
            "min_width": null,
            "object_fit": null,
            "object_position": null,
            "order": null,
            "overflow": null,
            "overflow_x": null,
            "overflow_y": null,
            "padding": null,
            "right": null,
            "top": null,
            "visibility": null,
            "width": null
          }
        },
        "33523b5786594998b66a0876ffe3cdfd": {
          "model_module": "@jupyter-widgets/controls",
          "model_name": "DescriptionStyleModel",
          "model_module_version": "1.5.0",
          "state": {
            "_model_module": "@jupyter-widgets/controls",
            "_model_module_version": "1.5.0",
            "_model_name": "DescriptionStyleModel",
            "_view_count": null,
            "_view_module": "@jupyter-widgets/base",
            "_view_module_version": "1.2.0",
            "_view_name": "StyleView",
            "description_width": ""
          }
        },
        "a860006347b34af8bcb903d689b97cae": {
          "model_module": "@jupyter-widgets/controls",
          "model_name": "HBoxModel",
          "model_module_version": "1.5.0",
          "state": {
            "_dom_classes": [],
            "_model_module": "@jupyter-widgets/controls",
            "_model_module_version": "1.5.0",
            "_model_name": "HBoxModel",
            "_view_count": null,
            "_view_module": "@jupyter-widgets/controls",
            "_view_module_version": "1.5.0",
            "_view_name": "HBoxView",
            "box_style": "",
            "children": [
              "IPY_MODEL_0168d747ad714c2d99fd5ade835b9311",
              "IPY_MODEL_f1e4a42bb47241a799f0b104f87adb38",
              "IPY_MODEL_3585049d111646cd873ae99ecca1be0c"
            ],
            "layout": "IPY_MODEL_6eeee49d169c4278aea76b141dca2cda"
          }
        },
        "0168d747ad714c2d99fd5ade835b9311": {
          "model_module": "@jupyter-widgets/controls",
          "model_name": "HTMLModel",
          "model_module_version": "1.5.0",
          "state": {
            "_dom_classes": [],
            "_model_module": "@jupyter-widgets/controls",
            "_model_module_version": "1.5.0",
            "_model_name": "HTMLModel",
            "_view_count": null,
            "_view_module": "@jupyter-widgets/controls",
            "_view_module_version": "1.5.0",
            "_view_name": "HTMLView",
            "description": "",
            "description_tooltip": null,
            "layout": "IPY_MODEL_b7429d806b4c4f52873023a49ab105bb",
            "placeholder": "​",
            "style": "IPY_MODEL_09fb9bfa424e45a7acae9eeaf861a26e",
            "value": "Validation DataLoader 0: 100%"
          }
        },
        "f1e4a42bb47241a799f0b104f87adb38": {
          "model_module": "@jupyter-widgets/controls",
          "model_name": "FloatProgressModel",
          "model_module_version": "1.5.0",
          "state": {
            "_dom_classes": [],
            "_model_module": "@jupyter-widgets/controls",
            "_model_module_version": "1.5.0",
            "_model_name": "FloatProgressModel",
            "_view_count": null,
            "_view_module": "@jupyter-widgets/controls",
            "_view_module_version": "1.5.0",
            "_view_name": "ProgressView",
            "bar_style": "",
            "description": "",
            "description_tooltip": null,
            "layout": "IPY_MODEL_a3423d603ece4ee5972cefcf84ef4568",
            "max": 6,
            "min": 0,
            "orientation": "horizontal",
            "style": "IPY_MODEL_f369d1596c3f4fa68d670f06cec24eab",
            "value": 6
          }
        },
        "3585049d111646cd873ae99ecca1be0c": {
          "model_module": "@jupyter-widgets/controls",
          "model_name": "HTMLModel",
          "model_module_version": "1.5.0",
          "state": {
            "_dom_classes": [],
            "_model_module": "@jupyter-widgets/controls",
            "_model_module_version": "1.5.0",
            "_model_name": "HTMLModel",
            "_view_count": null,
            "_view_module": "@jupyter-widgets/controls",
            "_view_module_version": "1.5.0",
            "_view_name": "HTMLView",
            "description": "",
            "description_tooltip": null,
            "layout": "IPY_MODEL_5f40313480b24d628195456f066e4e3a",
            "placeholder": "​",
            "style": "IPY_MODEL_e56f741e5ae14f239cd3c93613d5bc29",
            "value": " 6/6 [03:16&lt;00:00,  0.03it/s]"
          }
        },
        "6eeee49d169c4278aea76b141dca2cda": {
          "model_module": "@jupyter-widgets/base",
          "model_name": "LayoutModel",
          "model_module_version": "1.2.0",
          "state": {
            "_model_module": "@jupyter-widgets/base",
            "_model_module_version": "1.2.0",
            "_model_name": "LayoutModel",
            "_view_count": null,
            "_view_module": "@jupyter-widgets/base",
            "_view_module_version": "1.2.0",
            "_view_name": "LayoutView",
            "align_content": null,
            "align_items": null,
            "align_self": null,
            "border": null,
            "bottom": null,
            "display": "inline-flex",
            "flex": null,
            "flex_flow": "row wrap",
            "grid_area": null,
            "grid_auto_columns": null,
            "grid_auto_flow": null,
            "grid_auto_rows": null,
            "grid_column": null,
            "grid_gap": null,
            "grid_row": null,
            "grid_template_areas": null,
            "grid_template_columns": null,
            "grid_template_rows": null,
            "height": null,
            "justify_content": null,
            "justify_items": null,
            "left": null,
            "margin": null,
            "max_height": null,
            "max_width": null,
            "min_height": null,
            "min_width": null,
            "object_fit": null,
            "object_position": null,
            "order": null,
            "overflow": null,
            "overflow_x": null,
            "overflow_y": null,
            "padding": null,
            "right": null,
            "top": null,
            "visibility": "hidden",
            "width": "100%"
          }
        },
        "b7429d806b4c4f52873023a49ab105bb": {
          "model_module": "@jupyter-widgets/base",
          "model_name": "LayoutModel",
          "model_module_version": "1.2.0",
          "state": {
            "_model_module": "@jupyter-widgets/base",
            "_model_module_version": "1.2.0",
            "_model_name": "LayoutModel",
            "_view_count": null,
            "_view_module": "@jupyter-widgets/base",
            "_view_module_version": "1.2.0",
            "_view_name": "LayoutView",
            "align_content": null,
            "align_items": null,
            "align_self": null,
            "border": null,
            "bottom": null,
            "display": null,
            "flex": null,
            "flex_flow": null,
            "grid_area": null,
            "grid_auto_columns": null,
            "grid_auto_flow": null,
            "grid_auto_rows": null,
            "grid_column": null,
            "grid_gap": null,
            "grid_row": null,
            "grid_template_areas": null,
            "grid_template_columns": null,
            "grid_template_rows": null,
            "height": null,
            "justify_content": null,
            "justify_items": null,
            "left": null,
            "margin": null,
            "max_height": null,
            "max_width": null,
            "min_height": null,
            "min_width": null,
            "object_fit": null,
            "object_position": null,
            "order": null,
            "overflow": null,
            "overflow_x": null,
            "overflow_y": null,
            "padding": null,
            "right": null,
            "top": null,
            "visibility": null,
            "width": null
          }
        },
        "09fb9bfa424e45a7acae9eeaf861a26e": {
          "model_module": "@jupyter-widgets/controls",
          "model_name": "DescriptionStyleModel",
          "model_module_version": "1.5.0",
          "state": {
            "_model_module": "@jupyter-widgets/controls",
            "_model_module_version": "1.5.0",
            "_model_name": "DescriptionStyleModel",
            "_view_count": null,
            "_view_module": "@jupyter-widgets/base",
            "_view_module_version": "1.2.0",
            "_view_name": "StyleView",
            "description_width": ""
          }
        },
        "a3423d603ece4ee5972cefcf84ef4568": {
          "model_module": "@jupyter-widgets/base",
          "model_name": "LayoutModel",
          "model_module_version": "1.2.0",
          "state": {
            "_model_module": "@jupyter-widgets/base",
            "_model_module_version": "1.2.0",
            "_model_name": "LayoutModel",
            "_view_count": null,
            "_view_module": "@jupyter-widgets/base",
            "_view_module_version": "1.2.0",
            "_view_name": "LayoutView",
            "align_content": null,
            "align_items": null,
            "align_self": null,
            "border": null,
            "bottom": null,
            "display": null,
            "flex": "2",
            "flex_flow": null,
            "grid_area": null,
            "grid_auto_columns": null,
            "grid_auto_flow": null,
            "grid_auto_rows": null,
            "grid_column": null,
            "grid_gap": null,
            "grid_row": null,
            "grid_template_areas": null,
            "grid_template_columns": null,
            "grid_template_rows": null,
            "height": null,
            "justify_content": null,
            "justify_items": null,
            "left": null,
            "margin": null,
            "max_height": null,
            "max_width": null,
            "min_height": null,
            "min_width": null,
            "object_fit": null,
            "object_position": null,
            "order": null,
            "overflow": null,
            "overflow_x": null,
            "overflow_y": null,
            "padding": null,
            "right": null,
            "top": null,
            "visibility": null,
            "width": null
          }
        },
        "f369d1596c3f4fa68d670f06cec24eab": {
          "model_module": "@jupyter-widgets/controls",
          "model_name": "ProgressStyleModel",
          "model_module_version": "1.5.0",
          "state": {
            "_model_module": "@jupyter-widgets/controls",
            "_model_module_version": "1.5.0",
            "_model_name": "ProgressStyleModel",
            "_view_count": null,
            "_view_module": "@jupyter-widgets/base",
            "_view_module_version": "1.2.0",
            "_view_name": "StyleView",
            "bar_color": null,
            "description_width": ""
          }
        },
        "5f40313480b24d628195456f066e4e3a": {
          "model_module": "@jupyter-widgets/base",
          "model_name": "LayoutModel",
          "model_module_version": "1.2.0",
          "state": {
            "_model_module": "@jupyter-widgets/base",
            "_model_module_version": "1.2.0",
            "_model_name": "LayoutModel",
            "_view_count": null,
            "_view_module": "@jupyter-widgets/base",
            "_view_module_version": "1.2.0",
            "_view_name": "LayoutView",
            "align_content": null,
            "align_items": null,
            "align_self": null,
            "border": null,
            "bottom": null,
            "display": null,
            "flex": null,
            "flex_flow": null,
            "grid_area": null,
            "grid_auto_columns": null,
            "grid_auto_flow": null,
            "grid_auto_rows": null,
            "grid_column": null,
            "grid_gap": null,
            "grid_row": null,
            "grid_template_areas": null,
            "grid_template_columns": null,
            "grid_template_rows": null,
            "height": null,
            "justify_content": null,
            "justify_items": null,
            "left": null,
            "margin": null,
            "max_height": null,
            "max_width": null,
            "min_height": null,
            "min_width": null,
            "object_fit": null,
            "object_position": null,
            "order": null,
            "overflow": null,
            "overflow_x": null,
            "overflow_y": null,
            "padding": null,
            "right": null,
            "top": null,
            "visibility": null,
            "width": null
          }
        },
        "e56f741e5ae14f239cd3c93613d5bc29": {
          "model_module": "@jupyter-widgets/controls",
          "model_name": "DescriptionStyleModel",
          "model_module_version": "1.5.0",
          "state": {
            "_model_module": "@jupyter-widgets/controls",
            "_model_module_version": "1.5.0",
            "_model_name": "DescriptionStyleModel",
            "_view_count": null,
            "_view_module": "@jupyter-widgets/base",
            "_view_module_version": "1.2.0",
            "_view_name": "StyleView",
            "description_width": ""
          }
        },
        "3033cd0c441f4b6f9d22cfcbecde1264": {
          "model_module": "@jupyter-widgets/controls",
          "model_name": "HBoxModel",
          "model_module_version": "1.5.0",
          "state": {
            "_dom_classes": [],
            "_model_module": "@jupyter-widgets/controls",
            "_model_module_version": "1.5.0",
            "_model_name": "HBoxModel",
            "_view_count": null,
            "_view_module": "@jupyter-widgets/controls",
            "_view_module_version": "1.5.0",
            "_view_name": "HBoxView",
            "box_style": "",
            "children": [
              "IPY_MODEL_459a69021a644ecb857e6a15adfb85a9",
              "IPY_MODEL_a05415ed062e4430b9e03ebc692ce67a",
              "IPY_MODEL_9233566b2f594693b60420b8f467fa98"
            ],
            "layout": "IPY_MODEL_51903157d0a045f09bbd5730e8873d4f"
          }
        },
        "459a69021a644ecb857e6a15adfb85a9": {
          "model_module": "@jupyter-widgets/controls",
          "model_name": "HTMLModel",
          "model_module_version": "1.5.0",
          "state": {
            "_dom_classes": [],
            "_model_module": "@jupyter-widgets/controls",
            "_model_module_version": "1.5.0",
            "_model_name": "HTMLModel",
            "_view_count": null,
            "_view_module": "@jupyter-widgets/controls",
            "_view_module_version": "1.5.0",
            "_view_name": "HTMLView",
            "description": "",
            "description_tooltip": null,
            "layout": "IPY_MODEL_5631cc4637f340cab71ba219bdc69cfc",
            "placeholder": "​",
            "style": "IPY_MODEL_57391f4f61b743c1bf443e5934eac070",
            "value": "Validation DataLoader 0: 100%"
          }
        },
        "a05415ed062e4430b9e03ebc692ce67a": {
          "model_module": "@jupyter-widgets/controls",
          "model_name": "FloatProgressModel",
          "model_module_version": "1.5.0",
          "state": {
            "_dom_classes": [],
            "_model_module": "@jupyter-widgets/controls",
            "_model_module_version": "1.5.0",
            "_model_name": "FloatProgressModel",
            "_view_count": null,
            "_view_module": "@jupyter-widgets/controls",
            "_view_module_version": "1.5.0",
            "_view_name": "ProgressView",
            "bar_style": "",
            "description": "",
            "description_tooltip": null,
            "layout": "IPY_MODEL_fa716ef342954feea039ecd4771011cf",
            "max": 6,
            "min": 0,
            "orientation": "horizontal",
            "style": "IPY_MODEL_ce560d8712d147149b745f60476d8e9d",
            "value": 6
          }
        },
        "9233566b2f594693b60420b8f467fa98": {
          "model_module": "@jupyter-widgets/controls",
          "model_name": "HTMLModel",
          "model_module_version": "1.5.0",
          "state": {
            "_dom_classes": [],
            "_model_module": "@jupyter-widgets/controls",
            "_model_module_version": "1.5.0",
            "_model_name": "HTMLModel",
            "_view_count": null,
            "_view_module": "@jupyter-widgets/controls",
            "_view_module_version": "1.5.0",
            "_view_name": "HTMLView",
            "description": "",
            "description_tooltip": null,
            "layout": "IPY_MODEL_e1c943fc9d234f17ab2c2fde098e9652",
            "placeholder": "​",
            "style": "IPY_MODEL_882a7e7874b94fe88619ffd1e025b9b2",
            "value": " 6/6 [04:45&lt;00:00,  0.02it/s]"
          }
        },
        "51903157d0a045f09bbd5730e8873d4f": {
          "model_module": "@jupyter-widgets/base",
          "model_name": "LayoutModel",
          "model_module_version": "1.2.0",
          "state": {
            "_model_module": "@jupyter-widgets/base",
            "_model_module_version": "1.2.0",
            "_model_name": "LayoutModel",
            "_view_count": null,
            "_view_module": "@jupyter-widgets/base",
            "_view_module_version": "1.2.0",
            "_view_name": "LayoutView",
            "align_content": null,
            "align_items": null,
            "align_self": null,
            "border": null,
            "bottom": null,
            "display": "inline-flex",
            "flex": null,
            "flex_flow": "row wrap",
            "grid_area": null,
            "grid_auto_columns": null,
            "grid_auto_flow": null,
            "grid_auto_rows": null,
            "grid_column": null,
            "grid_gap": null,
            "grid_row": null,
            "grid_template_areas": null,
            "grid_template_columns": null,
            "grid_template_rows": null,
            "height": null,
            "justify_content": null,
            "justify_items": null,
            "left": null,
            "margin": null,
            "max_height": null,
            "max_width": null,
            "min_height": null,
            "min_width": null,
            "object_fit": null,
            "object_position": null,
            "order": null,
            "overflow": null,
            "overflow_x": null,
            "overflow_y": null,
            "padding": null,
            "right": null,
            "top": null,
            "visibility": "hidden",
            "width": "100%"
          }
        },
        "5631cc4637f340cab71ba219bdc69cfc": {
          "model_module": "@jupyter-widgets/base",
          "model_name": "LayoutModel",
          "model_module_version": "1.2.0",
          "state": {
            "_model_module": "@jupyter-widgets/base",
            "_model_module_version": "1.2.0",
            "_model_name": "LayoutModel",
            "_view_count": null,
            "_view_module": "@jupyter-widgets/base",
            "_view_module_version": "1.2.0",
            "_view_name": "LayoutView",
            "align_content": null,
            "align_items": null,
            "align_self": null,
            "border": null,
            "bottom": null,
            "display": null,
            "flex": null,
            "flex_flow": null,
            "grid_area": null,
            "grid_auto_columns": null,
            "grid_auto_flow": null,
            "grid_auto_rows": null,
            "grid_column": null,
            "grid_gap": null,
            "grid_row": null,
            "grid_template_areas": null,
            "grid_template_columns": null,
            "grid_template_rows": null,
            "height": null,
            "justify_content": null,
            "justify_items": null,
            "left": null,
            "margin": null,
            "max_height": null,
            "max_width": null,
            "min_height": null,
            "min_width": null,
            "object_fit": null,
            "object_position": null,
            "order": null,
            "overflow": null,
            "overflow_x": null,
            "overflow_y": null,
            "padding": null,
            "right": null,
            "top": null,
            "visibility": null,
            "width": null
          }
        },
        "57391f4f61b743c1bf443e5934eac070": {
          "model_module": "@jupyter-widgets/controls",
          "model_name": "DescriptionStyleModel",
          "model_module_version": "1.5.0",
          "state": {
            "_model_module": "@jupyter-widgets/controls",
            "_model_module_version": "1.5.0",
            "_model_name": "DescriptionStyleModel",
            "_view_count": null,
            "_view_module": "@jupyter-widgets/base",
            "_view_module_version": "1.2.0",
            "_view_name": "StyleView",
            "description_width": ""
          }
        },
        "fa716ef342954feea039ecd4771011cf": {
          "model_module": "@jupyter-widgets/base",
          "model_name": "LayoutModel",
          "model_module_version": "1.2.0",
          "state": {
            "_model_module": "@jupyter-widgets/base",
            "_model_module_version": "1.2.0",
            "_model_name": "LayoutModel",
            "_view_count": null,
            "_view_module": "@jupyter-widgets/base",
            "_view_module_version": "1.2.0",
            "_view_name": "LayoutView",
            "align_content": null,
            "align_items": null,
            "align_self": null,
            "border": null,
            "bottom": null,
            "display": null,
            "flex": "2",
            "flex_flow": null,
            "grid_area": null,
            "grid_auto_columns": null,
            "grid_auto_flow": null,
            "grid_auto_rows": null,
            "grid_column": null,
            "grid_gap": null,
            "grid_row": null,
            "grid_template_areas": null,
            "grid_template_columns": null,
            "grid_template_rows": null,
            "height": null,
            "justify_content": null,
            "justify_items": null,
            "left": null,
            "margin": null,
            "max_height": null,
            "max_width": null,
            "min_height": null,
            "min_width": null,
            "object_fit": null,
            "object_position": null,
            "order": null,
            "overflow": null,
            "overflow_x": null,
            "overflow_y": null,
            "padding": null,
            "right": null,
            "top": null,
            "visibility": null,
            "width": null
          }
        },
        "ce560d8712d147149b745f60476d8e9d": {
          "model_module": "@jupyter-widgets/controls",
          "model_name": "ProgressStyleModel",
          "model_module_version": "1.5.0",
          "state": {
            "_model_module": "@jupyter-widgets/controls",
            "_model_module_version": "1.5.0",
            "_model_name": "ProgressStyleModel",
            "_view_count": null,
            "_view_module": "@jupyter-widgets/base",
            "_view_module_version": "1.2.0",
            "_view_name": "StyleView",
            "bar_color": null,
            "description_width": ""
          }
        },
        "e1c943fc9d234f17ab2c2fde098e9652": {
          "model_module": "@jupyter-widgets/base",
          "model_name": "LayoutModel",
          "model_module_version": "1.2.0",
          "state": {
            "_model_module": "@jupyter-widgets/base",
            "_model_module_version": "1.2.0",
            "_model_name": "LayoutModel",
            "_view_count": null,
            "_view_module": "@jupyter-widgets/base",
            "_view_module_version": "1.2.0",
            "_view_name": "LayoutView",
            "align_content": null,
            "align_items": null,
            "align_self": null,
            "border": null,
            "bottom": null,
            "display": null,
            "flex": null,
            "flex_flow": null,
            "grid_area": null,
            "grid_auto_columns": null,
            "grid_auto_flow": null,
            "grid_auto_rows": null,
            "grid_column": null,
            "grid_gap": null,
            "grid_row": null,
            "grid_template_areas": null,
            "grid_template_columns": null,
            "grid_template_rows": null,
            "height": null,
            "justify_content": null,
            "justify_items": null,
            "left": null,
            "margin": null,
            "max_height": null,
            "max_width": null,
            "min_height": null,
            "min_width": null,
            "object_fit": null,
            "object_position": null,
            "order": null,
            "overflow": null,
            "overflow_x": null,
            "overflow_y": null,
            "padding": null,
            "right": null,
            "top": null,
            "visibility": null,
            "width": null
          }
        },
        "882a7e7874b94fe88619ffd1e025b9b2": {
          "model_module": "@jupyter-widgets/controls",
          "model_name": "DescriptionStyleModel",
          "model_module_version": "1.5.0",
          "state": {
            "_model_module": "@jupyter-widgets/controls",
            "_model_module_version": "1.5.0",
            "_model_name": "DescriptionStyleModel",
            "_view_count": null,
            "_view_module": "@jupyter-widgets/base",
            "_view_module_version": "1.2.0",
            "_view_name": "StyleView",
            "description_width": ""
          }
        },
        "0a5fabf2d8af426d95ff3df5b907c733": {
          "model_module": "@jupyter-widgets/controls",
          "model_name": "HBoxModel",
          "model_module_version": "1.5.0",
          "state": {
            "_dom_classes": [],
            "_model_module": "@jupyter-widgets/controls",
            "_model_module_version": "1.5.0",
            "_model_name": "HBoxModel",
            "_view_count": null,
            "_view_module": "@jupyter-widgets/controls",
            "_view_module_version": "1.5.0",
            "_view_name": "HBoxView",
            "box_style": "",
            "children": [
              "IPY_MODEL_561b27235c574fb2969cae2dab670287",
              "IPY_MODEL_a501633498114e0799ed10e8d1b688aa",
              "IPY_MODEL_d607bab273a34fe9b9d267275e3596df"
            ],
            "layout": "IPY_MODEL_5a37ac7eb2a3408e8df445313cb004a0"
          }
        },
        "561b27235c574fb2969cae2dab670287": {
          "model_module": "@jupyter-widgets/controls",
          "model_name": "HTMLModel",
          "model_module_version": "1.5.0",
          "state": {
            "_dom_classes": [],
            "_model_module": "@jupyter-widgets/controls",
            "_model_module_version": "1.5.0",
            "_model_name": "HTMLModel",
            "_view_count": null,
            "_view_module": "@jupyter-widgets/controls",
            "_view_module_version": "1.5.0",
            "_view_name": "HTMLView",
            "description": "",
            "description_tooltip": null,
            "layout": "IPY_MODEL_a1e16f8677df4584b586b76bf398bc77",
            "placeholder": "​",
            "style": "IPY_MODEL_5bf458ca2d4941d58df1534f1d08a959",
            "value": "Validation DataLoader 0: 100%"
          }
        },
        "a501633498114e0799ed10e8d1b688aa": {
          "model_module": "@jupyter-widgets/controls",
          "model_name": "FloatProgressModel",
          "model_module_version": "1.5.0",
          "state": {
            "_dom_classes": [],
            "_model_module": "@jupyter-widgets/controls",
            "_model_module_version": "1.5.0",
            "_model_name": "FloatProgressModel",
            "_view_count": null,
            "_view_module": "@jupyter-widgets/controls",
            "_view_module_version": "1.5.0",
            "_view_name": "ProgressView",
            "bar_style": "",
            "description": "",
            "description_tooltip": null,
            "layout": "IPY_MODEL_c9e78c8dc21d49d194ffe47b1e6e7e51",
            "max": 6,
            "min": 0,
            "orientation": "horizontal",
            "style": "IPY_MODEL_69491e663f794e3881a7613237154c46",
            "value": 6
          }
        },
        "d607bab273a34fe9b9d267275e3596df": {
          "model_module": "@jupyter-widgets/controls",
          "model_name": "HTMLModel",
          "model_module_version": "1.5.0",
          "state": {
            "_dom_classes": [],
            "_model_module": "@jupyter-widgets/controls",
            "_model_module_version": "1.5.0",
            "_model_name": "HTMLModel",
            "_view_count": null,
            "_view_module": "@jupyter-widgets/controls",
            "_view_module_version": "1.5.0",
            "_view_name": "HTMLView",
            "description": "",
            "description_tooltip": null,
            "layout": "IPY_MODEL_4069c28ddca74abaa1e3ed81764b7e4e",
            "placeholder": "​",
            "style": "IPY_MODEL_d230f11a792a40ec9c83490a267cf20f",
            "value": " 6/6 [03:49&lt;00:00,  0.03it/s]"
          }
        },
        "5a37ac7eb2a3408e8df445313cb004a0": {
          "model_module": "@jupyter-widgets/base",
          "model_name": "LayoutModel",
          "model_module_version": "1.2.0",
          "state": {
            "_model_module": "@jupyter-widgets/base",
            "_model_module_version": "1.2.0",
            "_model_name": "LayoutModel",
            "_view_count": null,
            "_view_module": "@jupyter-widgets/base",
            "_view_module_version": "1.2.0",
            "_view_name": "LayoutView",
            "align_content": null,
            "align_items": null,
            "align_self": null,
            "border": null,
            "bottom": null,
            "display": "inline-flex",
            "flex": null,
            "flex_flow": "row wrap",
            "grid_area": null,
            "grid_auto_columns": null,
            "grid_auto_flow": null,
            "grid_auto_rows": null,
            "grid_column": null,
            "grid_gap": null,
            "grid_row": null,
            "grid_template_areas": null,
            "grid_template_columns": null,
            "grid_template_rows": null,
            "height": null,
            "justify_content": null,
            "justify_items": null,
            "left": null,
            "margin": null,
            "max_height": null,
            "max_width": null,
            "min_height": null,
            "min_width": null,
            "object_fit": null,
            "object_position": null,
            "order": null,
            "overflow": null,
            "overflow_x": null,
            "overflow_y": null,
            "padding": null,
            "right": null,
            "top": null,
            "visibility": "hidden",
            "width": "100%"
          }
        },
        "a1e16f8677df4584b586b76bf398bc77": {
          "model_module": "@jupyter-widgets/base",
          "model_name": "LayoutModel",
          "model_module_version": "1.2.0",
          "state": {
            "_model_module": "@jupyter-widgets/base",
            "_model_module_version": "1.2.0",
            "_model_name": "LayoutModel",
            "_view_count": null,
            "_view_module": "@jupyter-widgets/base",
            "_view_module_version": "1.2.0",
            "_view_name": "LayoutView",
            "align_content": null,
            "align_items": null,
            "align_self": null,
            "border": null,
            "bottom": null,
            "display": null,
            "flex": null,
            "flex_flow": null,
            "grid_area": null,
            "grid_auto_columns": null,
            "grid_auto_flow": null,
            "grid_auto_rows": null,
            "grid_column": null,
            "grid_gap": null,
            "grid_row": null,
            "grid_template_areas": null,
            "grid_template_columns": null,
            "grid_template_rows": null,
            "height": null,
            "justify_content": null,
            "justify_items": null,
            "left": null,
            "margin": null,
            "max_height": null,
            "max_width": null,
            "min_height": null,
            "min_width": null,
            "object_fit": null,
            "object_position": null,
            "order": null,
            "overflow": null,
            "overflow_x": null,
            "overflow_y": null,
            "padding": null,
            "right": null,
            "top": null,
            "visibility": null,
            "width": null
          }
        },
        "5bf458ca2d4941d58df1534f1d08a959": {
          "model_module": "@jupyter-widgets/controls",
          "model_name": "DescriptionStyleModel",
          "model_module_version": "1.5.0",
          "state": {
            "_model_module": "@jupyter-widgets/controls",
            "_model_module_version": "1.5.0",
            "_model_name": "DescriptionStyleModel",
            "_view_count": null,
            "_view_module": "@jupyter-widgets/base",
            "_view_module_version": "1.2.0",
            "_view_name": "StyleView",
            "description_width": ""
          }
        },
        "c9e78c8dc21d49d194ffe47b1e6e7e51": {
          "model_module": "@jupyter-widgets/base",
          "model_name": "LayoutModel",
          "model_module_version": "1.2.0",
          "state": {
            "_model_module": "@jupyter-widgets/base",
            "_model_module_version": "1.2.0",
            "_model_name": "LayoutModel",
            "_view_count": null,
            "_view_module": "@jupyter-widgets/base",
            "_view_module_version": "1.2.0",
            "_view_name": "LayoutView",
            "align_content": null,
            "align_items": null,
            "align_self": null,
            "border": null,
            "bottom": null,
            "display": null,
            "flex": "2",
            "flex_flow": null,
            "grid_area": null,
            "grid_auto_columns": null,
            "grid_auto_flow": null,
            "grid_auto_rows": null,
            "grid_column": null,
            "grid_gap": null,
            "grid_row": null,
            "grid_template_areas": null,
            "grid_template_columns": null,
            "grid_template_rows": null,
            "height": null,
            "justify_content": null,
            "justify_items": null,
            "left": null,
            "margin": null,
            "max_height": null,
            "max_width": null,
            "min_height": null,
            "min_width": null,
            "object_fit": null,
            "object_position": null,
            "order": null,
            "overflow": null,
            "overflow_x": null,
            "overflow_y": null,
            "padding": null,
            "right": null,
            "top": null,
            "visibility": null,
            "width": null
          }
        },
        "69491e663f794e3881a7613237154c46": {
          "model_module": "@jupyter-widgets/controls",
          "model_name": "ProgressStyleModel",
          "model_module_version": "1.5.0",
          "state": {
            "_model_module": "@jupyter-widgets/controls",
            "_model_module_version": "1.5.0",
            "_model_name": "ProgressStyleModel",
            "_view_count": null,
            "_view_module": "@jupyter-widgets/base",
            "_view_module_version": "1.2.0",
            "_view_name": "StyleView",
            "bar_color": null,
            "description_width": ""
          }
        },
        "4069c28ddca74abaa1e3ed81764b7e4e": {
          "model_module": "@jupyter-widgets/base",
          "model_name": "LayoutModel",
          "model_module_version": "1.2.0",
          "state": {
            "_model_module": "@jupyter-widgets/base",
            "_model_module_version": "1.2.0",
            "_model_name": "LayoutModel",
            "_view_count": null,
            "_view_module": "@jupyter-widgets/base",
            "_view_module_version": "1.2.0",
            "_view_name": "LayoutView",
            "align_content": null,
            "align_items": null,
            "align_self": null,
            "border": null,
            "bottom": null,
            "display": null,
            "flex": null,
            "flex_flow": null,
            "grid_area": null,
            "grid_auto_columns": null,
            "grid_auto_flow": null,
            "grid_auto_rows": null,
            "grid_column": null,
            "grid_gap": null,
            "grid_row": null,
            "grid_template_areas": null,
            "grid_template_columns": null,
            "grid_template_rows": null,
            "height": null,
            "justify_content": null,
            "justify_items": null,
            "left": null,
            "margin": null,
            "max_height": null,
            "max_width": null,
            "min_height": null,
            "min_width": null,
            "object_fit": null,
            "object_position": null,
            "order": null,
            "overflow": null,
            "overflow_x": null,
            "overflow_y": null,
            "padding": null,
            "right": null,
            "top": null,
            "visibility": null,
            "width": null
          }
        },
        "d230f11a792a40ec9c83490a267cf20f": {
          "model_module": "@jupyter-widgets/controls",
          "model_name": "DescriptionStyleModel",
          "model_module_version": "1.5.0",
          "state": {
            "_model_module": "@jupyter-widgets/controls",
            "_model_module_version": "1.5.0",
            "_model_name": "DescriptionStyleModel",
            "_view_count": null,
            "_view_module": "@jupyter-widgets/base",
            "_view_module_version": "1.2.0",
            "_view_name": "StyleView",
            "description_width": ""
          }
        },
        "a75949bd734248588d111bd779791afa": {
          "model_module": "@jupyter-widgets/controls",
          "model_name": "HBoxModel",
          "model_module_version": "1.5.0",
          "state": {
            "_dom_classes": [],
            "_model_module": "@jupyter-widgets/controls",
            "_model_module_version": "1.5.0",
            "_model_name": "HBoxModel",
            "_view_count": null,
            "_view_module": "@jupyter-widgets/controls",
            "_view_module_version": "1.5.0",
            "_view_name": "HBoxView",
            "box_style": "",
            "children": [
              "IPY_MODEL_249d106f4db6466690a4719ccb7380dd",
              "IPY_MODEL_3082ef2742f646e2af50c08302eab579",
              "IPY_MODEL_93f7c7c96b2c49d3911fc531b0075dec"
            ],
            "layout": "IPY_MODEL_31e6e3ad49ac4889be4b72565b99b7ba"
          }
        },
        "249d106f4db6466690a4719ccb7380dd": {
          "model_module": "@jupyter-widgets/controls",
          "model_name": "HTMLModel",
          "model_module_version": "1.5.0",
          "state": {
            "_dom_classes": [],
            "_model_module": "@jupyter-widgets/controls",
            "_model_module_version": "1.5.0",
            "_model_name": "HTMLModel",
            "_view_count": null,
            "_view_module": "@jupyter-widgets/controls",
            "_view_module_version": "1.5.0",
            "_view_name": "HTMLView",
            "description": "",
            "description_tooltip": null,
            "layout": "IPY_MODEL_4e91787cd8a044359edf5a3de8ea089c",
            "placeholder": "​",
            "style": "IPY_MODEL_5ba5bd6ad15640eead3662eb24bab2e0",
            "value": "Validation: "
          }
        },
        "3082ef2742f646e2af50c08302eab579": {
          "model_module": "@jupyter-widgets/controls",
          "model_name": "FloatProgressModel",
          "model_module_version": "1.5.0",
          "state": {
            "_dom_classes": [],
            "_model_module": "@jupyter-widgets/controls",
            "_model_module_version": "1.5.0",
            "_model_name": "FloatProgressModel",
            "_view_count": null,
            "_view_module": "@jupyter-widgets/controls",
            "_view_module_version": "1.5.0",
            "_view_name": "ProgressView",
            "bar_style": "info",
            "description": "",
            "description_tooltip": null,
            "layout": "IPY_MODEL_2270e1fe3aad497b9a99bf2c459b77f0",
            "max": 1,
            "min": 0,
            "orientation": "horizontal",
            "style": "IPY_MODEL_f7d95d089cb14038981feaad9c3e37c0",
            "value": 0
          }
        },
        "93f7c7c96b2c49d3911fc531b0075dec": {
          "model_module": "@jupyter-widgets/controls",
          "model_name": "HTMLModel",
          "model_module_version": "1.5.0",
          "state": {
            "_dom_classes": [],
            "_model_module": "@jupyter-widgets/controls",
            "_model_module_version": "1.5.0",
            "_model_name": "HTMLModel",
            "_view_count": null,
            "_view_module": "@jupyter-widgets/controls",
            "_view_module_version": "1.5.0",
            "_view_name": "HTMLView",
            "description": "",
            "description_tooltip": null,
            "layout": "IPY_MODEL_8082ca9f2d17466d800e65309453c78b",
            "placeholder": "​",
            "style": "IPY_MODEL_869c288da87642efa9ec22994d4337ca",
            "value": " 0/? [00:00&lt;?, ?it/s]"
          }
        },
        "31e6e3ad49ac4889be4b72565b99b7ba": {
          "model_module": "@jupyter-widgets/base",
          "model_name": "LayoutModel",
          "model_module_version": "1.2.0",
          "state": {
            "_model_module": "@jupyter-widgets/base",
            "_model_module_version": "1.2.0",
            "_model_name": "LayoutModel",
            "_view_count": null,
            "_view_module": "@jupyter-widgets/base",
            "_view_module_version": "1.2.0",
            "_view_name": "LayoutView",
            "align_content": null,
            "align_items": null,
            "align_self": null,
            "border": null,
            "bottom": null,
            "display": "inline-flex",
            "flex": null,
            "flex_flow": "row wrap",
            "grid_area": null,
            "grid_auto_columns": null,
            "grid_auto_flow": null,
            "grid_auto_rows": null,
            "grid_column": null,
            "grid_gap": null,
            "grid_row": null,
            "grid_template_areas": null,
            "grid_template_columns": null,
            "grid_template_rows": null,
            "height": null,
            "justify_content": null,
            "justify_items": null,
            "left": null,
            "margin": null,
            "max_height": null,
            "max_width": null,
            "min_height": null,
            "min_width": null,
            "object_fit": null,
            "object_position": null,
            "order": null,
            "overflow": null,
            "overflow_x": null,
            "overflow_y": null,
            "padding": null,
            "right": null,
            "top": null,
            "visibility": null,
            "width": "100%"
          }
        },
        "4e91787cd8a044359edf5a3de8ea089c": {
          "model_module": "@jupyter-widgets/base",
          "model_name": "LayoutModel",
          "model_module_version": "1.2.0",
          "state": {
            "_model_module": "@jupyter-widgets/base",
            "_model_module_version": "1.2.0",
            "_model_name": "LayoutModel",
            "_view_count": null,
            "_view_module": "@jupyter-widgets/base",
            "_view_module_version": "1.2.0",
            "_view_name": "LayoutView",
            "align_content": null,
            "align_items": null,
            "align_self": null,
            "border": null,
            "bottom": null,
            "display": null,
            "flex": null,
            "flex_flow": null,
            "grid_area": null,
            "grid_auto_columns": null,
            "grid_auto_flow": null,
            "grid_auto_rows": null,
            "grid_column": null,
            "grid_gap": null,
            "grid_row": null,
            "grid_template_areas": null,
            "grid_template_columns": null,
            "grid_template_rows": null,
            "height": null,
            "justify_content": null,
            "justify_items": null,
            "left": null,
            "margin": null,
            "max_height": null,
            "max_width": null,
            "min_height": null,
            "min_width": null,
            "object_fit": null,
            "object_position": null,
            "order": null,
            "overflow": null,
            "overflow_x": null,
            "overflow_y": null,
            "padding": null,
            "right": null,
            "top": null,
            "visibility": null,
            "width": null
          }
        },
        "5ba5bd6ad15640eead3662eb24bab2e0": {
          "model_module": "@jupyter-widgets/controls",
          "model_name": "DescriptionStyleModel",
          "model_module_version": "1.5.0",
          "state": {
            "_model_module": "@jupyter-widgets/controls",
            "_model_module_version": "1.5.0",
            "_model_name": "DescriptionStyleModel",
            "_view_count": null,
            "_view_module": "@jupyter-widgets/base",
            "_view_module_version": "1.2.0",
            "_view_name": "StyleView",
            "description_width": ""
          }
        },
        "2270e1fe3aad497b9a99bf2c459b77f0": {
          "model_module": "@jupyter-widgets/base",
          "model_name": "LayoutModel",
          "model_module_version": "1.2.0",
          "state": {
            "_model_module": "@jupyter-widgets/base",
            "_model_module_version": "1.2.0",
            "_model_name": "LayoutModel",
            "_view_count": null,
            "_view_module": "@jupyter-widgets/base",
            "_view_module_version": "1.2.0",
            "_view_name": "LayoutView",
            "align_content": null,
            "align_items": null,
            "align_self": null,
            "border": null,
            "bottom": null,
            "display": null,
            "flex": "2",
            "flex_flow": null,
            "grid_area": null,
            "grid_auto_columns": null,
            "grid_auto_flow": null,
            "grid_auto_rows": null,
            "grid_column": null,
            "grid_gap": null,
            "grid_row": null,
            "grid_template_areas": null,
            "grid_template_columns": null,
            "grid_template_rows": null,
            "height": null,
            "justify_content": null,
            "justify_items": null,
            "left": null,
            "margin": null,
            "max_height": null,
            "max_width": null,
            "min_height": null,
            "min_width": null,
            "object_fit": null,
            "object_position": null,
            "order": null,
            "overflow": null,
            "overflow_x": null,
            "overflow_y": null,
            "padding": null,
            "right": null,
            "top": null,
            "visibility": null,
            "width": null
          }
        },
        "f7d95d089cb14038981feaad9c3e37c0": {
          "model_module": "@jupyter-widgets/controls",
          "model_name": "ProgressStyleModel",
          "model_module_version": "1.5.0",
          "state": {
            "_model_module": "@jupyter-widgets/controls",
            "_model_module_version": "1.5.0",
            "_model_name": "ProgressStyleModel",
            "_view_count": null,
            "_view_module": "@jupyter-widgets/base",
            "_view_module_version": "1.2.0",
            "_view_name": "StyleView",
            "bar_color": null,
            "description_width": ""
          }
        },
        "8082ca9f2d17466d800e65309453c78b": {
          "model_module": "@jupyter-widgets/base",
          "model_name": "LayoutModel",
          "model_module_version": "1.2.0",
          "state": {
            "_model_module": "@jupyter-widgets/base",
            "_model_module_version": "1.2.0",
            "_model_name": "LayoutModel",
            "_view_count": null,
            "_view_module": "@jupyter-widgets/base",
            "_view_module_version": "1.2.0",
            "_view_name": "LayoutView",
            "align_content": null,
            "align_items": null,
            "align_self": null,
            "border": null,
            "bottom": null,
            "display": null,
            "flex": null,
            "flex_flow": null,
            "grid_area": null,
            "grid_auto_columns": null,
            "grid_auto_flow": null,
            "grid_auto_rows": null,
            "grid_column": null,
            "grid_gap": null,
            "grid_row": null,
            "grid_template_areas": null,
            "grid_template_columns": null,
            "grid_template_rows": null,
            "height": null,
            "justify_content": null,
            "justify_items": null,
            "left": null,
            "margin": null,
            "max_height": null,
            "max_width": null,
            "min_height": null,
            "min_width": null,
            "object_fit": null,
            "object_position": null,
            "order": null,
            "overflow": null,
            "overflow_x": null,
            "overflow_y": null,
            "padding": null,
            "right": null,
            "top": null,
            "visibility": null,
            "width": null
          }
        },
        "869c288da87642efa9ec22994d4337ca": {
          "model_module": "@jupyter-widgets/controls",
          "model_name": "DescriptionStyleModel",
          "model_module_version": "1.5.0",
          "state": {
            "_model_module": "@jupyter-widgets/controls",
            "_model_module_version": "1.5.0",
            "_model_name": "DescriptionStyleModel",
            "_view_count": null,
            "_view_module": "@jupyter-widgets/base",
            "_view_module_version": "1.2.0",
            "_view_name": "StyleView",
            "description_width": ""
          }
        }
      }
    }
  },
  "nbformat": 4,
  "nbformat_minor": 5
}